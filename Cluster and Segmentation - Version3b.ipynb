{
 "cells": [
  {
   "cell_type": "code",
   "execution_count": 1,
   "metadata": {},
   "outputs": [
    {
     "name": "stdout",
     "output_type": "stream",
     "text": [
      "Collecting package metadata (repodata.json): done\n",
      "Solving environment: \\ \n",
      "The environment is inconsistent, please check the package plan carefully\n",
      "The following packages are causing the inconsistency:\n",
      "\n",
      "  - defaults/osx-64::numba==0.43.1=py37h6440ff4_0\n",
      "  - defaults/osx-64::anaconda==2019.03=py37_0\n",
      "done\n",
      "\n",
      "## Package Plan ##\n",
      "\n",
      "  environment location: /Applications/Anaconda/anaconda3\n",
      "\n",
      "  added / updated specs:\n",
      "    - folium\n",
      "\n",
      "\n",
      "The following packages will be downloaded:\n",
      "\n",
      "    package                    |            build\n",
      "    ---------------------------|-----------------\n",
      "    _anaconda_depends-2019.10  |           py37_0           5 KB\n",
      "    anaconda-custom            |           py37_1           3 KB\n",
      "    ca-certificates-2020.11.8  |       h033912b_0         145 KB  conda-forge\n",
      "    certifi-2020.11.8          |   py37hf985489_0         150 KB  conda-forge\n",
      "    fsspec-0.8.4               |             py_0          65 KB  conda-forge\n",
      "    joblib-0.17.0              |             py_0         204 KB  conda-forge\n",
      "    json5-0.9.5                |     pyh9f0ad1d_0          20 KB  conda-forge\n",
      "    llvm-openmp-11.0.0         |       h73239a0_1         268 KB  conda-forge\n",
      "    mock-4.0.2                 |   py37hc8dfbb8_1          51 KB  conda-forge\n",
      "    openssl-1.1.1h             |       haf1e3a3_0         1.9 MB  conda-forge\n",
      "    ripgrep-12.1.1             |       haf1e3a3_1         1.6 MB  conda-forge\n",
      "    sphinxcontrib-applehelp-1.0.2|             py_0          28 KB  conda-forge\n",
      "    sphinxcontrib-devhelp-1.0.2|             py_0          22 KB  conda-forge\n",
      "    sphinxcontrib-htmlhelp-1.0.3|             py_0          27 KB  conda-forge\n",
      "    sphinxcontrib-jsmath-1.0.1 |             py_0           7 KB  conda-forge\n",
      "    sphinxcontrib-qthelp-1.0.3 |             py_0          25 KB  conda-forge\n",
      "    sphinxcontrib-serializinghtml-1.1.4|             py_0          24 KB  conda-forge\n",
      "    tbb-2019.8                 |       h770b8ee_0         157 KB  conda-forge\n",
      "    ------------------------------------------------------------\n",
      "                                           Total:         4.7 MB\n",
      "\n",
      "The following NEW packages will be INSTALLED:\n",
      "\n",
      "  _anaconda_depends  pkgs/main/osx-64::_anaconda_depends-2019.10-py37_0\n",
      "  fsspec             conda-forge/noarch::fsspec-0.8.4-py_0\n",
      "  joblib             conda-forge/noarch::joblib-0.17.0-py_0\n",
      "  json5              conda-forge/noarch::json5-0.9.5-pyh9f0ad1d_0\n",
      "  llvm-openmp        conda-forge/osx-64::llvm-openmp-11.0.0-h73239a0_1\n",
      "  mock               conda-forge/osx-64::mock-4.0.2-py37hc8dfbb8_1\n",
      "  ripgrep            conda-forge/osx-64::ripgrep-12.1.1-haf1e3a3_1\n",
      "  sphinxcontrib-app~ conda-forge/noarch::sphinxcontrib-applehelp-1.0.2-py_0\n",
      "  sphinxcontrib-dev~ conda-forge/noarch::sphinxcontrib-devhelp-1.0.2-py_0\n",
      "  sphinxcontrib-htm~ conda-forge/noarch::sphinxcontrib-htmlhelp-1.0.3-py_0\n",
      "  sphinxcontrib-jsm~ conda-forge/noarch::sphinxcontrib-jsmath-1.0.1-py_0\n",
      "  sphinxcontrib-qth~ conda-forge/noarch::sphinxcontrib-qthelp-1.0.3-py_0\n",
      "  sphinxcontrib-ser~ conda-forge/noarch::sphinxcontrib-serializinghtml-1.1.4-py_0\n",
      "  tbb                conda-forge/osx-64::tbb-2019.8-h770b8ee_0\n",
      "\n",
      "The following packages will be UPDATED:\n",
      "\n",
      "  ca-certificates    pkgs/main::ca-certificates-2019.1.23-0 --> conda-forge::ca-certificates-2020.11.8-h033912b_0\n",
      "  certifi                                   2019.3.9-py37_0 --> 2020.11.8-py37hf985489_0\n",
      "  openssl                                 1.1.1b-h1de35cc_1 --> 1.1.1h-haf1e3a3_0\n",
      "\n",
      "The following packages will be DOWNGRADED:\n",
      "\n",
      "  anaconda                                   2019.03-py37_0 --> custom-py37_1\n",
      "\n",
      "\n",
      "\n",
      "Downloading and Extracting Packages\n",
      "sphinxcontrib-appleh | 28 KB     | ##################################### | 100% \n",
      "ca-certificates-2020 | 145 KB    | ##################################### | 100% \n",
      "mock-4.0.2           | 51 KB     | ##################################### | 100% \n",
      "anaconda-custom      | 3 KB      | ##################################### | 100% \n",
      "json5-0.9.5          | 20 KB     | ##################################### | 100% \n",
      "joblib-0.17.0        | 204 KB    | ##################################### | 100% \n",
      "_anaconda_depends-20 | 5 KB      | ##################################### | 100% \n",
      "llvm-openmp-11.0.0   | 268 KB    | ##################################### | 100% \n",
      "sphinxcontrib-htmlhe | 27 KB     | ##################################### | 100% \n",
      "sphinxcontrib-qthelp | 25 KB     | ##################################### | 100% \n",
      "sphinxcontrib-serial | 24 KB     | ##################################### | 100% \n",
      "certifi-2020.11.8    | 150 KB    | ##################################### | 100% \n",
      "sphinxcontrib-devhel | 22 KB     | ##################################### | 100% \n",
      "tbb-2019.8           | 157 KB    | ##################################### | 100% \n",
      "ripgrep-12.1.1       | 1.6 MB    | ##################################### | 100% \n",
      "sphinxcontrib-jsmath | 7 KB      | ##################################### | 100% \n",
      "fsspec-0.8.4         | 65 KB     | ##################################### | 100% \n",
      "openssl-1.1.1h       | 1.9 MB    | ##################################### | 100% \n",
      "Preparing transaction: done\n",
      "Verifying transaction: done\n",
      "Executing transaction: done\n",
      "\n",
      "Note: you may need to restart the kernel to use updated packages.\n"
     ]
    }
   ],
   "source": [
    "conda install -c conda-forge folium"
   ]
  },
  {
   "cell_type": "code",
   "execution_count": 1,
   "metadata": {},
   "outputs": [
    {
     "name": "stdout",
     "output_type": "stream",
     "text": [
      "Collecting package metadata (repodata.json): done\n",
      "Solving environment: done\n",
      "\n",
      "# All requested packages already installed.\n",
      "\n",
      "\n",
      "Note: you may need to restart the kernel to use updated packages.\n"
     ]
    }
   ],
   "source": [
    "conda install -c conda-forge/label/gcc7 geopy "
   ]
  },
  {
   "cell_type": "code",
   "execution_count": 2,
   "metadata": {},
   "outputs": [],
   "source": [
    "import pandas as pd\n",
    "import numpy as np\n",
    "from geopy.geocoders import Nominatim\n",
    "import folium\n",
    "import matplotlib.cm as cm\n",
    "import matplotlib.colors as colors"
   ]
  },
  {
   "cell_type": "code",
   "execution_count": 3,
   "metadata": {},
   "outputs": [],
   "source": [
    "from bs4 import BeautifulSoup\n",
    "import requests\n",
    "import pandas as pd"
   ]
  },
  {
   "cell_type": "code",
   "execution_count": 4,
   "metadata": {},
   "outputs": [
    {
     "data": {
      "text/html": [
       "<div>\n",
       "<style scoped>\n",
       "    .dataframe tbody tr th:only-of-type {\n",
       "        vertical-align: middle;\n",
       "    }\n",
       "\n",
       "    .dataframe tbody tr th {\n",
       "        vertical-align: top;\n",
       "    }\n",
       "\n",
       "    .dataframe thead th {\n",
       "        text-align: right;\n",
       "    }\n",
       "</style>\n",
       "<table border=\"1\" class=\"dataframe\">\n",
       "  <thead>\n",
       "    <tr style=\"text-align: right;\">\n",
       "      <th></th>\n",
       "      <th>Postal Code</th>\n",
       "      <th>Borough</th>\n",
       "      <th>Neighbourhood</th>\n",
       "    </tr>\n",
       "  </thead>\n",
       "  <tbody>\n",
       "    <tr>\n",
       "      <th>0</th>\n",
       "      <td>M1A</td>\n",
       "      <td>Not assigned</td>\n",
       "      <td>Not assigned</td>\n",
       "    </tr>\n",
       "    <tr>\n",
       "      <th>1</th>\n",
       "      <td>M2A</td>\n",
       "      <td>Not assigned</td>\n",
       "      <td>Not assigned</td>\n",
       "    </tr>\n",
       "    <tr>\n",
       "      <th>2</th>\n",
       "      <td>M3A</td>\n",
       "      <td>North York</td>\n",
       "      <td>Parkwoods</td>\n",
       "    </tr>\n",
       "    <tr>\n",
       "      <th>3</th>\n",
       "      <td>M4A</td>\n",
       "      <td>North York</td>\n",
       "      <td>Victoria Village</td>\n",
       "    </tr>\n",
       "    <tr>\n",
       "      <th>4</th>\n",
       "      <td>M5A</td>\n",
       "      <td>Downtown Toronto</td>\n",
       "      <td>Regent Park, Harbourfront</td>\n",
       "    </tr>\n",
       "  </tbody>\n",
       "</table>\n",
       "</div>"
      ],
      "text/plain": [
       "  Postal Code           Borough              Neighbourhood\n",
       "0         M1A      Not assigned               Not assigned\n",
       "1         M2A      Not assigned               Not assigned\n",
       "2         M3A        North York                  Parkwoods\n",
       "3         M4A        North York           Victoria Village\n",
       "4         M5A  Downtown Toronto  Regent Park, Harbourfront"
      ]
     },
     "execution_count": 4,
     "metadata": {},
     "output_type": "execute_result"
    }
   ],
   "source": [
    "# read the webpage from the wiki\n",
    "url='https://en.wikipedia.org/wiki/List_of_postal_codes_of_Canada:_M'\n",
    "response = requests.get(url)\n",
    "#Process and convert html data\n",
    "data = response.text\n",
    "soup = BeautifulSoup(data,'html.parser')\n",
    "wiki_table=soup.find('table')\n",
    "#develop dataframe\n",
    "df = pd.read_html(str(wiki_table))[0]\n",
    "df.head()"
   ]
  },
  {
   "cell_type": "code",
   "execution_count": 5,
   "metadata": {},
   "outputs": [
    {
     "data": {
      "text/html": [
       "<div>\n",
       "<style scoped>\n",
       "    .dataframe tbody tr th:only-of-type {\n",
       "        vertical-align: middle;\n",
       "    }\n",
       "\n",
       "    .dataframe tbody tr th {\n",
       "        vertical-align: top;\n",
       "    }\n",
       "\n",
       "    .dataframe thead th {\n",
       "        text-align: right;\n",
       "    }\n",
       "</style>\n",
       "<table border=\"1\" class=\"dataframe\">\n",
       "  <thead>\n",
       "    <tr style=\"text-align: right;\">\n",
       "      <th></th>\n",
       "      <th>PostalCode</th>\n",
       "      <th>Borough</th>\n",
       "      <th>Neighborhood</th>\n",
       "    </tr>\n",
       "  </thead>\n",
       "  <tbody>\n",
       "    <tr>\n",
       "      <th>1</th>\n",
       "      <td>M2A</td>\n",
       "      <td>Not assigned</td>\n",
       "      <td>Not assigned</td>\n",
       "    </tr>\n",
       "    <tr>\n",
       "      <th>2</th>\n",
       "      <td>M3A</td>\n",
       "      <td>North York</td>\n",
       "      <td>Parkwoods</td>\n",
       "    </tr>\n",
       "    <tr>\n",
       "      <th>3</th>\n",
       "      <td>M4A</td>\n",
       "      <td>North York</td>\n",
       "      <td>Victoria Village</td>\n",
       "    </tr>\n",
       "    <tr>\n",
       "      <th>4</th>\n",
       "      <td>M5A</td>\n",
       "      <td>Downtown Toronto</td>\n",
       "      <td>Regent Park, Harbourfront</td>\n",
       "    </tr>\n",
       "    <tr>\n",
       "      <th>5</th>\n",
       "      <td>M6A</td>\n",
       "      <td>North York</td>\n",
       "      <td>Lawrence Manor, Lawrence Heights</td>\n",
       "    </tr>\n",
       "  </tbody>\n",
       "</table>\n",
       "</div>"
      ],
      "text/plain": [
       "  PostalCode           Borough                      Neighborhood\n",
       "1        M2A      Not assigned                      Not assigned\n",
       "2        M3A        North York                         Parkwoods\n",
       "3        M4A        North York                  Victoria Village\n",
       "4        M5A  Downtown Toronto         Regent Park, Harbourfront\n",
       "5        M6A        North York  Lawrence Manor, Lawrence Heights"
      ]
     },
     "execution_count": 5,
     "metadata": {},
     "output_type": "execute_result"
    }
   ],
   "source": [
    "# Drop the first column\n",
    "df.drop(0,inplace=True)\n",
    "#Rename the columns names\n",
    "df.columns = ['PostalCode','Borough','Neighborhood']\n",
    "df.head()"
   ]
  },
  {
   "cell_type": "code",
   "execution_count": 6,
   "metadata": {},
   "outputs": [
    {
     "data": {
      "text/html": [
       "<div>\n",
       "<style scoped>\n",
       "    .dataframe tbody tr th:only-of-type {\n",
       "        vertical-align: middle;\n",
       "    }\n",
       "\n",
       "    .dataframe tbody tr th {\n",
       "        vertical-align: top;\n",
       "    }\n",
       "\n",
       "    .dataframe thead th {\n",
       "        text-align: right;\n",
       "    }\n",
       "</style>\n",
       "<table border=\"1\" class=\"dataframe\">\n",
       "  <thead>\n",
       "    <tr style=\"text-align: right;\">\n",
       "      <th></th>\n",
       "      <th>index</th>\n",
       "      <th>PostalCode</th>\n",
       "      <th>Borough</th>\n",
       "      <th>Neighborhood</th>\n",
       "    </tr>\n",
       "  </thead>\n",
       "  <tbody>\n",
       "    <tr>\n",
       "      <th>0</th>\n",
       "      <td>2</td>\n",
       "      <td>M3A</td>\n",
       "      <td>North York</td>\n",
       "      <td>Parkwoods</td>\n",
       "    </tr>\n",
       "    <tr>\n",
       "      <th>1</th>\n",
       "      <td>3</td>\n",
       "      <td>M4A</td>\n",
       "      <td>North York</td>\n",
       "      <td>Victoria Village</td>\n",
       "    </tr>\n",
       "    <tr>\n",
       "      <th>2</th>\n",
       "      <td>4</td>\n",
       "      <td>M5A</td>\n",
       "      <td>Downtown Toronto</td>\n",
       "      <td>Regent Park, Harbourfront</td>\n",
       "    </tr>\n",
       "    <tr>\n",
       "      <th>3</th>\n",
       "      <td>5</td>\n",
       "      <td>M6A</td>\n",
       "      <td>North York</td>\n",
       "      <td>Lawrence Manor, Lawrence Heights</td>\n",
       "    </tr>\n",
       "    <tr>\n",
       "      <th>4</th>\n",
       "      <td>6</td>\n",
       "      <td>M7A</td>\n",
       "      <td>Downtown Toronto</td>\n",
       "      <td>Queen's Park, Ontario Provincial Government</td>\n",
       "    </tr>\n",
       "  </tbody>\n",
       "</table>\n",
       "</div>"
      ],
      "text/plain": [
       "   index PostalCode           Borough  \\\n",
       "0      2        M3A        North York   \n",
       "1      3        M4A        North York   \n",
       "2      4        M5A  Downtown Toronto   \n",
       "3      5        M6A        North York   \n",
       "4      6        M7A  Downtown Toronto   \n",
       "\n",
       "                                  Neighborhood  \n",
       "0                                    Parkwoods  \n",
       "1                             Victoria Village  \n",
       "2                    Regent Park, Harbourfront  \n",
       "3             Lawrence Manor, Lawrence Heights  \n",
       "4  Queen's Park, Ontario Provincial Government  "
      ]
     },
     "execution_count": 6,
     "metadata": {},
     "output_type": "execute_result"
    }
   ],
   "source": [
    "# Remove \"Borough\" with 'Not assigned' values\n",
    "df2=df[df['Borough'].str.contains(\"Not assigned\") == False].reset_index()\n",
    "df2.head()"
   ]
  },
  {
   "cell_type": "code",
   "execution_count": 7,
   "metadata": {},
   "outputs": [
    {
     "data": {
      "text/html": [
       "<div>\n",
       "<style scoped>\n",
       "    .dataframe tbody tr th:only-of-type {\n",
       "        vertical-align: middle;\n",
       "    }\n",
       "\n",
       "    .dataframe tbody tr th {\n",
       "        vertical-align: top;\n",
       "    }\n",
       "\n",
       "    .dataframe thead th {\n",
       "        text-align: right;\n",
       "    }\n",
       "</style>\n",
       "<table border=\"1\" class=\"dataframe\">\n",
       "  <thead>\n",
       "    <tr style=\"text-align: right;\">\n",
       "      <th></th>\n",
       "      <th>PostalCode</th>\n",
       "      <th>Borough</th>\n",
       "      <th>Neighborhood</th>\n",
       "    </tr>\n",
       "  </thead>\n",
       "  <tbody>\n",
       "    <tr>\n",
       "      <th>0</th>\n",
       "      <td>M1B</td>\n",
       "      <td>Scarborough</td>\n",
       "      <td>Malvern, Rouge</td>\n",
       "    </tr>\n",
       "    <tr>\n",
       "      <th>1</th>\n",
       "      <td>M1C</td>\n",
       "      <td>Scarborough</td>\n",
       "      <td>Rouge Hill, Port Union, Highland Creek</td>\n",
       "    </tr>\n",
       "    <tr>\n",
       "      <th>2</th>\n",
       "      <td>M1E</td>\n",
       "      <td>Scarborough</td>\n",
       "      <td>Guildwood, Morningside, West Hill</td>\n",
       "    </tr>\n",
       "    <tr>\n",
       "      <th>3</th>\n",
       "      <td>M1G</td>\n",
       "      <td>Scarborough</td>\n",
       "      <td>Woburn</td>\n",
       "    </tr>\n",
       "    <tr>\n",
       "      <th>4</th>\n",
       "      <td>M1H</td>\n",
       "      <td>Scarborough</td>\n",
       "      <td>Cedarbrae</td>\n",
       "    </tr>\n",
       "  </tbody>\n",
       "</table>\n",
       "</div>"
      ],
      "text/plain": [
       "  PostalCode      Borough                            Neighborhood\n",
       "0        M1B  Scarborough                          Malvern, Rouge\n",
       "1        M1C  Scarborough  Rouge Hill, Port Union, Highland Creek\n",
       "2        M1E  Scarborough       Guildwood, Morningside, West Hill\n",
       "3        M1G  Scarborough                                  Woburn\n",
       "4        M1H  Scarborough                               Cedarbrae"
      ]
     },
     "execution_count": 7,
     "metadata": {},
     "output_type": "execute_result"
    }
   ],
   "source": [
    "df3= df2.groupby(['PostalCode', 'Borough'])['Neighborhood'].apply(', '.join).reset_index()\n",
    "df3.head()"
   ]
  },
  {
   "cell_type": "code",
   "execution_count": 8,
   "metadata": {},
   "outputs": [
    {
     "data": {
      "text/html": [
       "<div>\n",
       "<style scoped>\n",
       "    .dataframe tbody tr th:only-of-type {\n",
       "        vertical-align: middle;\n",
       "    }\n",
       "\n",
       "    .dataframe tbody tr th {\n",
       "        vertical-align: top;\n",
       "    }\n",
       "\n",
       "    .dataframe thead th {\n",
       "        text-align: right;\n",
       "    }\n",
       "</style>\n",
       "<table border=\"1\" class=\"dataframe\">\n",
       "  <thead>\n",
       "    <tr style=\"text-align: right;\">\n",
       "      <th></th>\n",
       "      <th>PostalCode</th>\n",
       "      <th>Borough</th>\n",
       "      <th>Neighborhood</th>\n",
       "    </tr>\n",
       "  </thead>\n",
       "  <tbody>\n",
       "    <tr>\n",
       "      <th>0</th>\n",
       "      <td>M1B</td>\n",
       "      <td>Scarborough</td>\n",
       "      <td>Malvern, Rouge</td>\n",
       "    </tr>\n",
       "    <tr>\n",
       "      <th>1</th>\n",
       "      <td>M1C</td>\n",
       "      <td>Scarborough</td>\n",
       "      <td>Rouge Hill, Port Union, Highland Creek</td>\n",
       "    </tr>\n",
       "    <tr>\n",
       "      <th>2</th>\n",
       "      <td>M1E</td>\n",
       "      <td>Scarborough</td>\n",
       "      <td>Guildwood, Morningside, West Hill</td>\n",
       "    </tr>\n",
       "    <tr>\n",
       "      <th>3</th>\n",
       "      <td>M1G</td>\n",
       "      <td>Scarborough</td>\n",
       "      <td>Woburn</td>\n",
       "    </tr>\n",
       "    <tr>\n",
       "      <th>4</th>\n",
       "      <td>M1H</td>\n",
       "      <td>Scarborough</td>\n",
       "      <td>Cedarbrae</td>\n",
       "    </tr>\n",
       "  </tbody>\n",
       "</table>\n",
       "</div>"
      ],
      "text/plain": [
       "  PostalCode      Borough                            Neighborhood\n",
       "0        M1B  Scarborough                          Malvern, Rouge\n",
       "1        M1C  Scarborough  Rouge Hill, Port Union, Highland Creek\n",
       "2        M1E  Scarborough       Guildwood, Morningside, West Hill\n",
       "3        M1G  Scarborough                                  Woburn\n",
       "4        M1H  Scarborough                               Cedarbrae"
      ]
     },
     "execution_count": 8,
     "metadata": {},
     "output_type": "execute_result"
    }
   ],
   "source": [
    "df3.head()"
   ]
  },
  {
   "cell_type": "code",
   "execution_count": 9,
   "metadata": {},
   "outputs": [
    {
     "data": {
      "text/plain": [
       "(103, 3)"
      ]
     },
     "execution_count": 9,
     "metadata": {},
     "output_type": "execute_result"
    }
   ],
   "source": [
    "df3.shape"
   ]
  },
  {
   "cell_type": "code",
   "execution_count": 10,
   "metadata": {},
   "outputs": [
    {
     "name": "stdout",
     "output_type": "stream",
     "text": [
      "Successfully Saved!\n"
     ]
    }
   ],
   "source": [
    "#Save data as'Capstone_part1.csv'\n",
    "df3.to_csv('Capstone_part1.csv')\n",
    "print('Successfully Saved!')"
   ]
  },
  {
   "cell_type": "code",
   "execution_count": 11,
   "metadata": {},
   "outputs": [
    {
     "data": {
      "text/html": [
       "<div>\n",
       "<style scoped>\n",
       "    .dataframe tbody tr th:only-of-type {\n",
       "        vertical-align: middle;\n",
       "    }\n",
       "\n",
       "    .dataframe tbody tr th {\n",
       "        vertical-align: top;\n",
       "    }\n",
       "\n",
       "    .dataframe thead th {\n",
       "        text-align: right;\n",
       "    }\n",
       "</style>\n",
       "<table border=\"1\" class=\"dataframe\">\n",
       "  <thead>\n",
       "    <tr style=\"text-align: right;\">\n",
       "      <th></th>\n",
       "      <th>PostalCode</th>\n",
       "      <th>Borough</th>\n",
       "      <th>Neighborhood</th>\n",
       "    </tr>\n",
       "  </thead>\n",
       "  <tbody>\n",
       "    <tr>\n",
       "      <th>0</th>\n",
       "      <td>M1B</td>\n",
       "      <td>Scarborough</td>\n",
       "      <td>Malvern, Rouge</td>\n",
       "    </tr>\n",
       "    <tr>\n",
       "      <th>1</th>\n",
       "      <td>M1C</td>\n",
       "      <td>Scarborough</td>\n",
       "      <td>Rouge Hill, Port Union, Highland Creek</td>\n",
       "    </tr>\n",
       "    <tr>\n",
       "      <th>2</th>\n",
       "      <td>M1E</td>\n",
       "      <td>Scarborough</td>\n",
       "      <td>Guildwood, Morningside, West Hill</td>\n",
       "    </tr>\n",
       "    <tr>\n",
       "      <th>3</th>\n",
       "      <td>M1G</td>\n",
       "      <td>Scarborough</td>\n",
       "      <td>Woburn</td>\n",
       "    </tr>\n",
       "    <tr>\n",
       "      <th>4</th>\n",
       "      <td>M1H</td>\n",
       "      <td>Scarborough</td>\n",
       "      <td>Cedarbrae</td>\n",
       "    </tr>\n",
       "  </tbody>\n",
       "</table>\n",
       "</div>"
      ],
      "text/plain": [
       "  PostalCode      Borough                            Neighborhood\n",
       "0        M1B  Scarborough                          Malvern, Rouge\n",
       "1        M1C  Scarborough  Rouge Hill, Port Union, Highland Creek\n",
       "2        M1E  Scarborough       Guildwood, Morningside, West Hill\n",
       "3        M1G  Scarborough                                  Woburn\n",
       "4        M1H  Scarborough                               Cedarbrae"
      ]
     },
     "execution_count": 11,
     "metadata": {},
     "output_type": "execute_result"
    }
   ],
   "source": [
    "df3.head()"
   ]
  },
  {
   "cell_type": "code",
   "execution_count": 12,
   "metadata": {},
   "outputs": [],
   "source": [
    "import pandas as pd"
   ]
  },
  {
   "cell_type": "code",
   "execution_count": 13,
   "metadata": {},
   "outputs": [
    {
     "data": {
      "text/html": [
       "<div>\n",
       "<style scoped>\n",
       "    .dataframe tbody tr th:only-of-type {\n",
       "        vertical-align: middle;\n",
       "    }\n",
       "\n",
       "    .dataframe tbody tr th {\n",
       "        vertical-align: top;\n",
       "    }\n",
       "\n",
       "    .dataframe thead th {\n",
       "        text-align: right;\n",
       "    }\n",
       "</style>\n",
       "<table border=\"1\" class=\"dataframe\">\n",
       "  <thead>\n",
       "    <tr style=\"text-align: right;\">\n",
       "      <th></th>\n",
       "      <th>Postal Code</th>\n",
       "      <th>Latitude</th>\n",
       "      <th>Longitude</th>\n",
       "    </tr>\n",
       "  </thead>\n",
       "  <tbody>\n",
       "    <tr>\n",
       "      <th>0</th>\n",
       "      <td>M1B</td>\n",
       "      <td>43.806686</td>\n",
       "      <td>-79.194353</td>\n",
       "    </tr>\n",
       "    <tr>\n",
       "      <th>1</th>\n",
       "      <td>M1C</td>\n",
       "      <td>43.784535</td>\n",
       "      <td>-79.160497</td>\n",
       "    </tr>\n",
       "    <tr>\n",
       "      <th>2</th>\n",
       "      <td>M1E</td>\n",
       "      <td>43.763573</td>\n",
       "      <td>-79.188711</td>\n",
       "    </tr>\n",
       "    <tr>\n",
       "      <th>3</th>\n",
       "      <td>M1G</td>\n",
       "      <td>43.770992</td>\n",
       "      <td>-79.216917</td>\n",
       "    </tr>\n",
       "    <tr>\n",
       "      <th>4</th>\n",
       "      <td>M1H</td>\n",
       "      <td>43.773136</td>\n",
       "      <td>-79.239476</td>\n",
       "    </tr>\n",
       "  </tbody>\n",
       "</table>\n",
       "</div>"
      ],
      "text/plain": [
       "  Postal Code   Latitude  Longitude\n",
       "0         M1B  43.806686 -79.194353\n",
       "1         M1C  43.784535 -79.160497\n",
       "2         M1E  43.763573 -79.188711\n",
       "3         M1G  43.770992 -79.216917\n",
       "4         M1H  43.773136 -79.239476"
      ]
     },
     "execution_count": 13,
     "metadata": {},
     "output_type": "execute_result"
    }
   ],
   "source": [
    "# get the data and create the dataframe\n",
    "url='https://cocl.us/Geospatial_data/Geospatial_Coordinates.csv'\n",
    "df_geo=pd.read_csv(url)\n",
    "df_geo.head()"
   ]
  },
  {
   "cell_type": "code",
   "execution_count": 14,
   "metadata": {},
   "outputs": [
    {
     "data": {
      "text/html": [
       "<div>\n",
       "<style scoped>\n",
       "    .dataframe tbody tr th:only-of-type {\n",
       "        vertical-align: middle;\n",
       "    }\n",
       "\n",
       "    .dataframe tbody tr th {\n",
       "        vertical-align: top;\n",
       "    }\n",
       "\n",
       "    .dataframe thead th {\n",
       "        text-align: right;\n",
       "    }\n",
       "</style>\n",
       "<table border=\"1\" class=\"dataframe\">\n",
       "  <thead>\n",
       "    <tr style=\"text-align: right;\">\n",
       "      <th></th>\n",
       "      <th>PostalCode</th>\n",
       "      <th>Latitude</th>\n",
       "      <th>Longitude</th>\n",
       "    </tr>\n",
       "  </thead>\n",
       "  <tbody>\n",
       "    <tr>\n",
       "      <th>0</th>\n",
       "      <td>M1B</td>\n",
       "      <td>43.806686</td>\n",
       "      <td>-79.194353</td>\n",
       "    </tr>\n",
       "    <tr>\n",
       "      <th>1</th>\n",
       "      <td>M1C</td>\n",
       "      <td>43.784535</td>\n",
       "      <td>-79.160497</td>\n",
       "    </tr>\n",
       "    <tr>\n",
       "      <th>2</th>\n",
       "      <td>M1E</td>\n",
       "      <td>43.763573</td>\n",
       "      <td>-79.188711</td>\n",
       "    </tr>\n",
       "    <tr>\n",
       "      <th>3</th>\n",
       "      <td>M1G</td>\n",
       "      <td>43.770992</td>\n",
       "      <td>-79.216917</td>\n",
       "    </tr>\n",
       "    <tr>\n",
       "      <th>4</th>\n",
       "      <td>M1H</td>\n",
       "      <td>43.773136</td>\n",
       "      <td>-79.239476</td>\n",
       "    </tr>\n",
       "  </tbody>\n",
       "</table>\n",
       "</div>"
      ],
      "text/plain": [
       "  PostalCode   Latitude  Longitude\n",
       "0        M1B  43.806686 -79.194353\n",
       "1        M1C  43.784535 -79.160497\n",
       "2        M1E  43.763573 -79.188711\n",
       "3        M1G  43.770992 -79.216917\n",
       "4        M1H  43.773136 -79.239476"
      ]
     },
     "execution_count": 14,
     "metadata": {},
     "output_type": "execute_result"
    }
   ],
   "source": [
    "df_geo = df_geo.rename(columns = {'Postal Code':'PostalCode'}) \n",
    "df_geo.head()"
   ]
  },
  {
   "cell_type": "code",
   "execution_count": 15,
   "metadata": {},
   "outputs": [
    {
     "data": {
      "text/html": [
       "<div>\n",
       "<style scoped>\n",
       "    .dataframe tbody tr th:only-of-type {\n",
       "        vertical-align: middle;\n",
       "    }\n",
       "\n",
       "    .dataframe tbody tr th {\n",
       "        vertical-align: top;\n",
       "    }\n",
       "\n",
       "    .dataframe thead th {\n",
       "        text-align: right;\n",
       "    }\n",
       "</style>\n",
       "<table border=\"1\" class=\"dataframe\">\n",
       "  <thead>\n",
       "    <tr style=\"text-align: right;\">\n",
       "      <th></th>\n",
       "      <th>PostalCode</th>\n",
       "      <th>Borough</th>\n",
       "      <th>Neighborhood</th>\n",
       "    </tr>\n",
       "  </thead>\n",
       "  <tbody>\n",
       "    <tr>\n",
       "      <th>0</th>\n",
       "      <td>M1B</td>\n",
       "      <td>Scarborough</td>\n",
       "      <td>Malvern, Rouge</td>\n",
       "    </tr>\n",
       "    <tr>\n",
       "      <th>1</th>\n",
       "      <td>M1C</td>\n",
       "      <td>Scarborough</td>\n",
       "      <td>Rouge Hill, Port Union, Highland Creek</td>\n",
       "    </tr>\n",
       "    <tr>\n",
       "      <th>2</th>\n",
       "      <td>M1E</td>\n",
       "      <td>Scarborough</td>\n",
       "      <td>Guildwood, Morningside, West Hill</td>\n",
       "    </tr>\n",
       "    <tr>\n",
       "      <th>3</th>\n",
       "      <td>M1G</td>\n",
       "      <td>Scarborough</td>\n",
       "      <td>Woburn</td>\n",
       "    </tr>\n",
       "    <tr>\n",
       "      <th>4</th>\n",
       "      <td>M1H</td>\n",
       "      <td>Scarborough</td>\n",
       "      <td>Cedarbrae</td>\n",
       "    </tr>\n",
       "  </tbody>\n",
       "</table>\n",
       "</div>"
      ],
      "text/plain": [
       "  PostalCode      Borough                            Neighborhood\n",
       "0        M1B  Scarborough                          Malvern, Rouge\n",
       "1        M1C  Scarborough  Rouge Hill, Port Union, Highland Creek\n",
       "2        M1E  Scarborough       Guildwood, Morningside, West Hill\n",
       "3        M1G  Scarborough                                  Woburn\n",
       "4        M1H  Scarborough                               Cedarbrae"
      ]
     },
     "execution_count": 15,
     "metadata": {},
     "output_type": "execute_result"
    }
   ],
   "source": [
    "df3.head()"
   ]
  },
  {
   "cell_type": "code",
   "execution_count": 16,
   "metadata": {},
   "outputs": [
    {
     "data": {
      "text/html": [
       "<div>\n",
       "<style scoped>\n",
       "    .dataframe tbody tr th:only-of-type {\n",
       "        vertical-align: middle;\n",
       "    }\n",
       "\n",
       "    .dataframe tbody tr th {\n",
       "        vertical-align: top;\n",
       "    }\n",
       "\n",
       "    .dataframe thead th {\n",
       "        text-align: right;\n",
       "    }\n",
       "</style>\n",
       "<table border=\"1\" class=\"dataframe\">\n",
       "  <thead>\n",
       "    <tr style=\"text-align: right;\">\n",
       "      <th></th>\n",
       "      <th>PostalCode</th>\n",
       "      <th>Borough</th>\n",
       "      <th>Neighborhood</th>\n",
       "      <th>Latitude</th>\n",
       "      <th>Longitude</th>\n",
       "    </tr>\n",
       "  </thead>\n",
       "  <tbody>\n",
       "    <tr>\n",
       "      <th>0</th>\n",
       "      <td>M1B</td>\n",
       "      <td>Scarborough</td>\n",
       "      <td>Malvern, Rouge</td>\n",
       "      <td>43.806686</td>\n",
       "      <td>-79.194353</td>\n",
       "    </tr>\n",
       "    <tr>\n",
       "      <th>1</th>\n",
       "      <td>M1C</td>\n",
       "      <td>Scarborough</td>\n",
       "      <td>Rouge Hill, Port Union, Highland Creek</td>\n",
       "      <td>43.784535</td>\n",
       "      <td>-79.160497</td>\n",
       "    </tr>\n",
       "    <tr>\n",
       "      <th>2</th>\n",
       "      <td>M1E</td>\n",
       "      <td>Scarborough</td>\n",
       "      <td>Guildwood, Morningside, West Hill</td>\n",
       "      <td>43.763573</td>\n",
       "      <td>-79.188711</td>\n",
       "    </tr>\n",
       "    <tr>\n",
       "      <th>3</th>\n",
       "      <td>M1G</td>\n",
       "      <td>Scarborough</td>\n",
       "      <td>Woburn</td>\n",
       "      <td>43.770992</td>\n",
       "      <td>-79.216917</td>\n",
       "    </tr>\n",
       "    <tr>\n",
       "      <th>4</th>\n",
       "      <td>M1H</td>\n",
       "      <td>Scarborough</td>\n",
       "      <td>Cedarbrae</td>\n",
       "      <td>43.773136</td>\n",
       "      <td>-79.239476</td>\n",
       "    </tr>\n",
       "  </tbody>\n",
       "</table>\n",
       "</div>"
      ],
      "text/plain": [
       "  PostalCode      Borough                            Neighborhood   Latitude  \\\n",
       "0        M1B  Scarborough                          Malvern, Rouge  43.806686   \n",
       "1        M1C  Scarborough  Rouge Hill, Port Union, Highland Creek  43.784535   \n",
       "2        M1E  Scarborough       Guildwood, Morningside, West Hill  43.763573   \n",
       "3        M1G  Scarborough                                  Woburn  43.770992   \n",
       "4        M1H  Scarborough                               Cedarbrae  43.773136   \n",
       "\n",
       "   Longitude  \n",
       "0 -79.194353  \n",
       "1 -79.160497  \n",
       "2 -79.188711  \n",
       "3 -79.216917  \n",
       "4 -79.239476  "
      ]
     },
     "execution_count": 16,
     "metadata": {},
     "output_type": "execute_result"
    }
   ],
   "source": [
    "df3 = pd.merge(df3, df_geo, on = 'PostalCode')\n",
    "df3.head()"
   ]
  },
  {
   "cell_type": "code",
   "execution_count": 17,
   "metadata": {},
   "outputs": [
    {
     "data": {
      "text/plain": [
       "(103, 5)"
      ]
     },
     "execution_count": 17,
     "metadata": {},
     "output_type": "execute_result"
    }
   ],
   "source": [
    "df3.shape"
   ]
  },
  {
   "cell_type": "code",
   "execution_count": 18,
   "metadata": {},
   "outputs": [
    {
     "name": "stdout",
     "output_type": "stream",
     "text": [
      "Successfully Saved!\n"
     ]
    }
   ],
   "source": [
    "#Save data as'Capstone_part2.csv'\n",
    "df3.to_csv('Capstone_part2.csv', index=False)\n",
    "print('Successfully Saved!')"
   ]
  },
  {
   "cell_type": "code",
   "execution_count": 19,
   "metadata": {},
   "outputs": [],
   "source": [
    "import pandas as pd\n",
    "import numpy as np\n",
    "from geopy.geocoders import Nominatim\n",
    "import folium\n",
    "import matplotlib.cm as cm\n",
    "import matplotlib.colors as colors"
   ]
  },
  {
   "cell_type": "code",
   "execution_count": 20,
   "metadata": {},
   "outputs": [
    {
     "data": {
      "text/html": [
       "<div>\n",
       "<style scoped>\n",
       "    .dataframe tbody tr th:only-of-type {\n",
       "        vertical-align: middle;\n",
       "    }\n",
       "\n",
       "    .dataframe tbody tr th {\n",
       "        vertical-align: top;\n",
       "    }\n",
       "\n",
       "    .dataframe thead th {\n",
       "        text-align: right;\n",
       "    }\n",
       "</style>\n",
       "<table border=\"1\" class=\"dataframe\">\n",
       "  <thead>\n",
       "    <tr style=\"text-align: right;\">\n",
       "      <th></th>\n",
       "      <th>PostalCode</th>\n",
       "      <th>Borough</th>\n",
       "      <th>Neighborhood</th>\n",
       "      <th>Latitude</th>\n",
       "      <th>Longitude</th>\n",
       "    </tr>\n",
       "  </thead>\n",
       "  <tbody>\n",
       "    <tr>\n",
       "      <th>0</th>\n",
       "      <td>M1B</td>\n",
       "      <td>Scarborough</td>\n",
       "      <td>Malvern, Rouge</td>\n",
       "      <td>43.806686</td>\n",
       "      <td>-79.194353</td>\n",
       "    </tr>\n",
       "    <tr>\n",
       "      <th>1</th>\n",
       "      <td>M1C</td>\n",
       "      <td>Scarborough</td>\n",
       "      <td>Rouge Hill, Port Union, Highland Creek</td>\n",
       "      <td>43.784535</td>\n",
       "      <td>-79.160497</td>\n",
       "    </tr>\n",
       "    <tr>\n",
       "      <th>2</th>\n",
       "      <td>M1E</td>\n",
       "      <td>Scarborough</td>\n",
       "      <td>Guildwood, Morningside, West Hill</td>\n",
       "      <td>43.763573</td>\n",
       "      <td>-79.188711</td>\n",
       "    </tr>\n",
       "    <tr>\n",
       "      <th>3</th>\n",
       "      <td>M1G</td>\n",
       "      <td>Scarborough</td>\n",
       "      <td>Woburn</td>\n",
       "      <td>43.770992</td>\n",
       "      <td>-79.216917</td>\n",
       "    </tr>\n",
       "    <tr>\n",
       "      <th>4</th>\n",
       "      <td>M1H</td>\n",
       "      <td>Scarborough</td>\n",
       "      <td>Cedarbrae</td>\n",
       "      <td>43.773136</td>\n",
       "      <td>-79.239476</td>\n",
       "    </tr>\n",
       "  </tbody>\n",
       "</table>\n",
       "</div>"
      ],
      "text/plain": [
       "  PostalCode      Borough                            Neighborhood   Latitude  \\\n",
       "0        M1B  Scarborough                          Malvern, Rouge  43.806686   \n",
       "1        M1C  Scarborough  Rouge Hill, Port Union, Highland Creek  43.784535   \n",
       "2        M1E  Scarborough       Guildwood, Morningside, West Hill  43.763573   \n",
       "3        M1G  Scarborough                                  Woburn  43.770992   \n",
       "4        M1H  Scarborough                               Cedarbrae  43.773136   \n",
       "\n",
       "   Longitude  \n",
       "0 -79.194353  \n",
       "1 -79.160497  \n",
       "2 -79.188711  \n",
       "3 -79.216917  \n",
       "4 -79.239476  "
      ]
     },
     "execution_count": 20,
     "metadata": {},
     "output_type": "execute_result"
    }
   ],
   "source": [
    "df3.head()"
   ]
  },
  {
   "cell_type": "code",
   "execution_count": 22,
   "metadata": {},
   "outputs": [
    {
     "data": {
      "text/html": [
       "<div>\n",
       "<style scoped>\n",
       "    .dataframe tbody tr th:only-of-type {\n",
       "        vertical-align: middle;\n",
       "    }\n",
       "\n",
       "    .dataframe tbody tr th {\n",
       "        vertical-align: top;\n",
       "    }\n",
       "\n",
       "    .dataframe thead th {\n",
       "        text-align: right;\n",
       "    }\n",
       "</style>\n",
       "<table border=\"1\" class=\"dataframe\">\n",
       "  <thead>\n",
       "    <tr style=\"text-align: right;\">\n",
       "      <th></th>\n",
       "      <th>PostalCode</th>\n",
       "      <th>Borough</th>\n",
       "      <th>Neighborhood</th>\n",
       "      <th>Latitude</th>\n",
       "      <th>Longitude</th>\n",
       "    </tr>\n",
       "  </thead>\n",
       "  <tbody>\n",
       "    <tr>\n",
       "      <th>0</th>\n",
       "      <td>M4E</td>\n",
       "      <td>East Toronto</td>\n",
       "      <td>The Beaches</td>\n",
       "      <td>43.676357</td>\n",
       "      <td>-79.293031</td>\n",
       "    </tr>\n",
       "    <tr>\n",
       "      <th>1</th>\n",
       "      <td>M4K</td>\n",
       "      <td>East Toronto</td>\n",
       "      <td>The Danforth West, Riverdale</td>\n",
       "      <td>43.679557</td>\n",
       "      <td>-79.352188</td>\n",
       "    </tr>\n",
       "    <tr>\n",
       "      <th>2</th>\n",
       "      <td>M4L</td>\n",
       "      <td>East Toronto</td>\n",
       "      <td>India Bazaar, The Beaches West</td>\n",
       "      <td>43.668999</td>\n",
       "      <td>-79.315572</td>\n",
       "    </tr>\n",
       "    <tr>\n",
       "      <th>3</th>\n",
       "      <td>M4M</td>\n",
       "      <td>East Toronto</td>\n",
       "      <td>Studio District</td>\n",
       "      <td>43.659526</td>\n",
       "      <td>-79.340923</td>\n",
       "    </tr>\n",
       "    <tr>\n",
       "      <th>4</th>\n",
       "      <td>M4N</td>\n",
       "      <td>Central Toronto</td>\n",
       "      <td>Lawrence Park</td>\n",
       "      <td>43.728020</td>\n",
       "      <td>-79.388790</td>\n",
       "    </tr>\n",
       "  </tbody>\n",
       "</table>\n",
       "</div>"
      ],
      "text/plain": [
       "  PostalCode          Borough                    Neighborhood   Latitude  \\\n",
       "0        M4E     East Toronto                     The Beaches  43.676357   \n",
       "1        M4K     East Toronto    The Danforth West, Riverdale  43.679557   \n",
       "2        M4L     East Toronto  India Bazaar, The Beaches West  43.668999   \n",
       "3        M4M     East Toronto                 Studio District  43.659526   \n",
       "4        M4N  Central Toronto                   Lawrence Park  43.728020   \n",
       "\n",
       "   Longitude  \n",
       "0 -79.293031  \n",
       "1 -79.352188  \n",
       "2 -79.315572  \n",
       "3 -79.340923  \n",
       "4 -79.388790  "
      ]
     },
     "execution_count": 22,
     "metadata": {},
     "output_type": "execute_result"
    }
   ],
   "source": [
    "#We work with only \"Borough\" which contain the word Toronto \n",
    "df4=df3[df3['Borough'].str.contains('Toronto')]\n",
    "df5=df4.reset_index(drop=True)\n",
    "df5.head()"
   ]
  },
  {
   "cell_type": "code",
   "execution_count": 23,
   "metadata": {},
   "outputs": [
    {
     "data": {
      "text/plain": [
       "(39, 5)"
      ]
     },
     "execution_count": 23,
     "metadata": {},
     "output_type": "execute_result"
    }
   ],
   "source": [
    "df5.shape"
   ]
  },
  {
   "cell_type": "code",
   "execution_count": 24,
   "metadata": {},
   "outputs": [
    {
     "data": {
      "text/plain": [
       "Downtown Toronto    19\n",
       "Central Toronto      9\n",
       "West Toronto         6\n",
       "East Toronto         5\n",
       "Name: Borough, dtype: int64"
      ]
     },
     "execution_count": 24,
     "metadata": {},
     "output_type": "execute_result"
    }
   ],
   "source": [
    "# Learn the different value of Borough \n",
    "df5['Borough'].value_counts()"
   ]
  },
  {
   "cell_type": "code",
   "execution_count": 25,
   "metadata": {},
   "outputs": [
    {
     "data": {
      "text/html": [
       "<div>\n",
       "<style scoped>\n",
       "    .dataframe tbody tr th:only-of-type {\n",
       "        vertical-align: middle;\n",
       "    }\n",
       "\n",
       "    .dataframe tbody tr th {\n",
       "        vertical-align: top;\n",
       "    }\n",
       "\n",
       "    .dataframe thead th {\n",
       "        text-align: right;\n",
       "    }\n",
       "</style>\n",
       "<table border=\"1\" class=\"dataframe\">\n",
       "  <thead>\n",
       "    <tr style=\"text-align: right;\">\n",
       "      <th></th>\n",
       "      <th>PostalCode</th>\n",
       "      <th>Borough</th>\n",
       "      <th>Neighborhood</th>\n",
       "      <th>Latitude</th>\n",
       "      <th>Longitude</th>\n",
       "      <th>Label</th>\n",
       "    </tr>\n",
       "  </thead>\n",
       "  <tbody>\n",
       "    <tr>\n",
       "      <th>0</th>\n",
       "      <td>M4E</td>\n",
       "      <td>East Toronto</td>\n",
       "      <td>The Beaches</td>\n",
       "      <td>43.676357</td>\n",
       "      <td>-79.293031</td>\n",
       "      <td>4</td>\n",
       "    </tr>\n",
       "    <tr>\n",
       "      <th>1</th>\n",
       "      <td>M4K</td>\n",
       "      <td>East Toronto</td>\n",
       "      <td>The Danforth West, Riverdale</td>\n",
       "      <td>43.679557</td>\n",
       "      <td>-79.352188</td>\n",
       "      <td>4</td>\n",
       "    </tr>\n",
       "    <tr>\n",
       "      <th>2</th>\n",
       "      <td>M4L</td>\n",
       "      <td>East Toronto</td>\n",
       "      <td>India Bazaar, The Beaches West</td>\n",
       "      <td>43.668999</td>\n",
       "      <td>-79.315572</td>\n",
       "      <td>4</td>\n",
       "    </tr>\n",
       "    <tr>\n",
       "      <th>3</th>\n",
       "      <td>M4M</td>\n",
       "      <td>East Toronto</td>\n",
       "      <td>Studio District</td>\n",
       "      <td>43.659526</td>\n",
       "      <td>-79.340923</td>\n",
       "      <td>4</td>\n",
       "    </tr>\n",
       "    <tr>\n",
       "      <th>4</th>\n",
       "      <td>M4N</td>\n",
       "      <td>Central Toronto</td>\n",
       "      <td>Lawrence Park</td>\n",
       "      <td>43.728020</td>\n",
       "      <td>-79.388790</td>\n",
       "      <td>2</td>\n",
       "    </tr>\n",
       "  </tbody>\n",
       "</table>\n",
       "</div>"
      ],
      "text/plain": [
       "  PostalCode          Borough                    Neighborhood   Latitude  \\\n",
       "0        M4E     East Toronto                     The Beaches  43.676357   \n",
       "1        M4K     East Toronto    The Danforth West, Riverdale  43.679557   \n",
       "2        M4L     East Toronto  India Bazaar, The Beaches West  43.668999   \n",
       "3        M4M     East Toronto                 Studio District  43.659526   \n",
       "4        M4N  Central Toronto                   Lawrence Park  43.728020   \n",
       "\n",
       "   Longitude  Label  \n",
       "0 -79.293031      4  \n",
       "1 -79.352188      4  \n",
       "2 -79.315572      4  \n",
       "3 -79.340923      4  \n",
       "4 -79.388790      2  "
      ]
     },
     "execution_count": 25,
     "metadata": {},
     "output_type": "execute_result"
    }
   ],
   "source": [
    "# Create a new column as Label and get the date from 'Borough' as integer\n",
    "df5['Label']=df5['Borough'].replace(to_replace=['Downtown Toronto','Central Toronto','West Toronto','East Toronto'],value=[1,2,3,4],inplace=False)\n",
    "df5.head()"
   ]
  },
  {
   "cell_type": "code",
   "execution_count": 26,
   "metadata": {},
   "outputs": [
    {
     "name": "stdout",
     "output_type": "stream",
     "text": [
      "The geograpical coordinate of Toronto are 43.6534817, -79.3839347.\n"
     ]
    }
   ],
   "source": [
    "address = 'Toronto'\n",
    "geolocator = Nominatim(user_agent=\"toronto_explorer\")\n",
    "location = geolocator.geocode(address)\n",
    "latitude = location.latitude\n",
    "longitude = location.longitude\n",
    "print(f'The geograpical coordinate of Toronto are {latitude}, {longitude}.')"
   ]
  },
  {
   "cell_type": "code",
   "execution_count": 27,
   "metadata": {},
   "outputs": [],
   "source": [
    "#for set the cluster number as label number\n",
    "kclusters=len(df5.Label.unique())\n",
    "\n",
    "# create map\n",
    "map_toronto = folium.Map(location=[latitude, longitude], zoom_start=11)\n",
    "\n",
    "# set color scheme for the clusters\n",
    "x = np.arange(kclusters)\n",
    "ys = [i + x + (i*x)**2 for i in range(kclusters)]\n",
    "colors_array = cm.rainbow(np.linspace(0, 1, len(ys)))\n",
    "rainbow = [colors.rgb2hex(i) for i in colors_array]\n",
    "\n",
    "# add markers to the map\n",
    "markers_colors = []\n",
    "for lat, lon, cluster in zip(df5['Latitude'], df5['Longitude'], df5['Label']):\n",
    "    label = folium.Popup(str(df5['Borough']) + ' Cluster ' + str(cluster), parse_html=True)\n",
    "    folium.CircleMarker(\n",
    "        [lat, lon],\n",
    "        radius=5,\n",
    "        popup=label,\n",
    "        color=rainbow[cluster-1],\n",
    "        fill=True,\n",
    "        fill_color=rainbow[cluster-1],\n",
    "        fill_opacity=0.7).add_to(map_toronto)"
   ]
  },
  {
   "cell_type": "code",
   "execution_count": 28,
   "metadata": {},
   "outputs": [
    {
     "data": {
      "text/html": [
       "<div style=\"width:100%;\"><div style=\"position:relative;width:100%;height:0;padding-bottom:60%;\"><span style=\"color:#565656\">Make this Notebook Trusted to load map: File -> Trust Notebook</span><iframe src=\"about:blank\" style=\"position:absolute;width:100%;height:100%;left:0;top:0;border:none !important;\" data-html=PCFET0NUWVBFIGh0bWw+CjxoZWFkPiAgICAKICAgIDxtZXRhIGh0dHAtZXF1aXY9ImNvbnRlbnQtdHlwZSIgY29udGVudD0idGV4dC9odG1sOyBjaGFyc2V0PVVURi04IiAvPgogICAgCiAgICAgICAgPHNjcmlwdD4KICAgICAgICAgICAgTF9OT19UT1VDSCA9IGZhbHNlOwogICAgICAgICAgICBMX0RJU0FCTEVfM0QgPSBmYWxzZTsKICAgICAgICA8L3NjcmlwdD4KICAgIAogICAgPHNjcmlwdCBzcmM9Imh0dHBzOi8vY2RuLmpzZGVsaXZyLm5ldC9ucG0vbGVhZmxldEAxLjYuMC9kaXN0L2xlYWZsZXQuanMiPjwvc2NyaXB0PgogICAgPHNjcmlwdCBzcmM9Imh0dHBzOi8vY29kZS5qcXVlcnkuY29tL2pxdWVyeS0xLjEyLjQubWluLmpzIj48L3NjcmlwdD4KICAgIDxzY3JpcHQgc3JjPSJodHRwczovL21heGNkbi5ib290c3RyYXBjZG4uY29tL2Jvb3RzdHJhcC8zLjIuMC9qcy9ib290c3RyYXAubWluLmpzIj48L3NjcmlwdD4KICAgIDxzY3JpcHQgc3JjPSJodHRwczovL2NkbmpzLmNsb3VkZmxhcmUuY29tL2FqYXgvbGlicy9MZWFmbGV0LmF3ZXNvbWUtbWFya2Vycy8yLjAuMi9sZWFmbGV0LmF3ZXNvbWUtbWFya2Vycy5qcyI+PC9zY3JpcHQ+CiAgICA8bGluayByZWw9InN0eWxlc2hlZXQiIGhyZWY9Imh0dHBzOi8vY2RuLmpzZGVsaXZyLm5ldC9ucG0vbGVhZmxldEAxLjYuMC9kaXN0L2xlYWZsZXQuY3NzIi8+CiAgICA8bGluayByZWw9InN0eWxlc2hlZXQiIGhyZWY9Imh0dHBzOi8vbWF4Y2RuLmJvb3RzdHJhcGNkbi5jb20vYm9vdHN0cmFwLzMuMi4wL2Nzcy9ib290c3RyYXAubWluLmNzcyIvPgogICAgPGxpbmsgcmVsPSJzdHlsZXNoZWV0IiBocmVmPSJodHRwczovL21heGNkbi5ib290c3RyYXBjZG4uY29tL2Jvb3RzdHJhcC8zLjIuMC9jc3MvYm9vdHN0cmFwLXRoZW1lLm1pbi5jc3MiLz4KICAgIDxsaW5rIHJlbD0ic3R5bGVzaGVldCIgaHJlZj0iaHR0cHM6Ly9tYXhjZG4uYm9vdHN0cmFwY2RuLmNvbS9mb250LWF3ZXNvbWUvNC42LjMvY3NzL2ZvbnQtYXdlc29tZS5taW4uY3NzIi8+CiAgICA8bGluayByZWw9InN0eWxlc2hlZXQiIGhyZWY9Imh0dHBzOi8vY2RuanMuY2xvdWRmbGFyZS5jb20vYWpheC9saWJzL0xlYWZsZXQuYXdlc29tZS1tYXJrZXJzLzIuMC4yL2xlYWZsZXQuYXdlc29tZS1tYXJrZXJzLmNzcyIvPgogICAgPGxpbmsgcmVsPSJzdHlsZXNoZWV0IiBocmVmPSJodHRwczovL3Jhd2Nkbi5naXRoYWNrLmNvbS9weXRob24tdmlzdWFsaXphdGlvbi9mb2xpdW0vbWFzdGVyL2ZvbGl1bS90ZW1wbGF0ZXMvbGVhZmxldC5hd2Vzb21lLnJvdGF0ZS5jc3MiLz4KICAgIDxzdHlsZT5odG1sLCBib2R5IHt3aWR0aDogMTAwJTtoZWlnaHQ6IDEwMCU7bWFyZ2luOiAwO3BhZGRpbmc6IDA7fTwvc3R5bGU+CiAgICA8c3R5bGU+I21hcCB7cG9zaXRpb246YWJzb2x1dGU7dG9wOjA7Ym90dG9tOjA7cmlnaHQ6MDtsZWZ0OjA7fTwvc3R5bGU+CiAgICAKICAgICAgICAgICAgPG1ldGEgbmFtZT0idmlld3BvcnQiIGNvbnRlbnQ9IndpZHRoPWRldmljZS13aWR0aCwKICAgICAgICAgICAgICAgIGluaXRpYWwtc2NhbGU9MS4wLCBtYXhpbXVtLXNjYWxlPTEuMCwgdXNlci1zY2FsYWJsZT1ubyIgLz4KICAgICAgICAgICAgPHN0eWxlPgogICAgICAgICAgICAgICAgI21hcF9jNDJkMjhjNzg5Yjk0NjgzYWJkNTM1YTM5Yzc4N2YzNiB7CiAgICAgICAgICAgICAgICAgICAgcG9zaXRpb246IHJlbGF0aXZlOwogICAgICAgICAgICAgICAgICAgIHdpZHRoOiAxMDAuMCU7CiAgICAgICAgICAgICAgICAgICAgaGVpZ2h0OiAxMDAuMCU7CiAgICAgICAgICAgICAgICAgICAgbGVmdDogMC4wJTsKICAgICAgICAgICAgICAgICAgICB0b3A6IDAuMCU7CiAgICAgICAgICAgICAgICB9CiAgICAgICAgICAgIDwvc3R5bGU+CiAgICAgICAgCjwvaGVhZD4KPGJvZHk+ICAgIAogICAgCiAgICAgICAgICAgIDxkaXYgY2xhc3M9ImZvbGl1bS1tYXAiIGlkPSJtYXBfYzQyZDI4Yzc4OWI5NDY4M2FiZDUzNWEzOWM3ODdmMzYiID48L2Rpdj4KICAgICAgICAKPC9ib2R5Pgo8c2NyaXB0PiAgICAKICAgIAogICAgICAgICAgICB2YXIgbWFwX2M0MmQyOGM3ODliOTQ2ODNhYmQ1MzVhMzljNzg3ZjM2ID0gTC5tYXAoCiAgICAgICAgICAgICAgICAibWFwX2M0MmQyOGM3ODliOTQ2ODNhYmQ1MzVhMzljNzg3ZjM2IiwKICAgICAgICAgICAgICAgIHsKICAgICAgICAgICAgICAgICAgICBjZW50ZXI6IFs0My42NTM0ODE3LCAtNzkuMzgzOTM0N10sCiAgICAgICAgICAgICAgICAgICAgY3JzOiBMLkNSUy5FUFNHMzg1NywKICAgICAgICAgICAgICAgICAgICB6b29tOiAxMSwKICAgICAgICAgICAgICAgICAgICB6b29tQ29udHJvbDogdHJ1ZSwKICAgICAgICAgICAgICAgICAgICBwcmVmZXJDYW52YXM6IGZhbHNlLAogICAgICAgICAgICAgICAgfQogICAgICAgICAgICApOwoKICAgICAgICAgICAgCgogICAgICAgIAogICAgCiAgICAgICAgICAgIHZhciB0aWxlX2xheWVyXzAyM2YxYzIwZDVlNDRmOGZhMGUxNjg4NzBkMGU5YzZiID0gTC50aWxlTGF5ZXIoCiAgICAgICAgICAgICAgICAiaHR0cHM6Ly97c30udGlsZS5vcGVuc3RyZWV0bWFwLm9yZy97en0ve3h9L3t5fS5wbmciLAogICAgICAgICAgICAgICAgeyJhdHRyaWJ1dGlvbiI6ICJEYXRhIGJ5IFx1MDAyNmNvcHk7IFx1MDAzY2EgaHJlZj1cImh0dHA6Ly9vcGVuc3RyZWV0bWFwLm9yZ1wiXHUwMDNlT3BlblN0cmVldE1hcFx1MDAzYy9hXHUwMDNlLCB1bmRlciBcdTAwM2NhIGhyZWY9XCJodHRwOi8vd3d3Lm9wZW5zdHJlZXRtYXAub3JnL2NvcHlyaWdodFwiXHUwMDNlT0RiTFx1MDAzYy9hXHUwMDNlLiIsICJkZXRlY3RSZXRpbmEiOiBmYWxzZSwgIm1heE5hdGl2ZVpvb20iOiAxOCwgIm1heFpvb20iOiAxOCwgIm1pblpvb20iOiAwLCAibm9XcmFwIjogZmFsc2UsICJvcGFjaXR5IjogMSwgInN1YmRvbWFpbnMiOiAiYWJjIiwgInRtcyI6IGZhbHNlfQogICAgICAgICAgICApLmFkZFRvKG1hcF9jNDJkMjhjNzg5Yjk0NjgzYWJkNTM1YTM5Yzc4N2YzNik7CiAgICAgICAgCiAgICAKICAgICAgICAgICAgdmFyIGNpcmNsZV9tYXJrZXJfZWUwZDE3NDllOGEyNGJlYWE2ZWViZGE5ZDE5NzkzNGIgPSBMLmNpcmNsZU1hcmtlcigKICAgICAgICAgICAgICAgIFs0My42NzYzNTczOTk5OTk5OSwgLTc5LjI5MzAzMTJdLAogICAgICAgICAgICAgICAgeyJidWJibGluZ01vdXNlRXZlbnRzIjogdHJ1ZSwgImNvbG9yIjogIiNmZjAwMDAiLCAiZGFzaEFycmF5IjogbnVsbCwgImRhc2hPZmZzZXQiOiBudWxsLCAiZmlsbCI6IHRydWUsICJmaWxsQ29sb3IiOiAiI2ZmMDAwMCIsICJmaWxsT3BhY2l0eSI6IDAuNywgImZpbGxSdWxlIjogImV2ZW5vZGQiLCAibGluZUNhcCI6ICJyb3VuZCIsICJsaW5lSm9pbiI6ICJyb3VuZCIsICJvcGFjaXR5IjogMS4wLCAicmFkaXVzIjogNSwgInN0cm9rZSI6IHRydWUsICJ3ZWlnaHQiOiAzfQogICAgICAgICAgICApLmFkZFRvKG1hcF9jNDJkMjhjNzg5Yjk0NjgzYWJkNTM1YTM5Yzc4N2YzNik7CiAgICAgICAgCiAgICAKICAgICAgICB2YXIgcG9wdXBfNWNmMzM5MTBmNzdiNDMyYjgyYWE5Yjc0MTZhMmY1YjQgPSBMLnBvcHVwKHsibWF4V2lkdGgiOiAiMTAwJSJ9KTsKCiAgICAgICAgCiAgICAgICAgICAgIHZhciBodG1sXzU3ZjVkMDVjMWRjMTQ3OTY4NDk2ODk1NWZkYmI0ZDlkID0gJChgPGRpdiBpZD0iaHRtbF81N2Y1ZDA1YzFkYzE0Nzk2ODQ5Njg5NTVmZGJiNGQ5ZCIgc3R5bGU9IndpZHRoOiAxMDAuMCU7IGhlaWdodDogMTAwLjAlOyI+MCAgICAgICAgIEVhc3QgVG9yb250byAxICAgICAgICAgRWFzdCBUb3JvbnRvIDIgICAgICAgICBFYXN0IFRvcm9udG8gMyAgICAgICAgIEVhc3QgVG9yb250byA0ICAgICAgQ2VudHJhbCBUb3JvbnRvIDUgICAgICBDZW50cmFsIFRvcm9udG8gNiAgICAgIENlbnRyYWwgVG9yb250byA3ICAgICAgQ2VudHJhbCBUb3JvbnRvIDggICAgICBDZW50cmFsIFRvcm9udG8gOSAgICAgIENlbnRyYWwgVG9yb250byAxMCAgICBEb3dudG93biBUb3JvbnRvIDExICAgIERvd250b3duIFRvcm9udG8gMTIgICAgRG93bnRvd24gVG9yb250byAxMyAgICBEb3dudG93biBUb3JvbnRvIDE0ICAgIERvd250b3duIFRvcm9udG8gMTUgICAgRG93bnRvd24gVG9yb250byAxNiAgICBEb3dudG93biBUb3JvbnRvIDE3ICAgIERvd250b3duIFRvcm9udG8gMTggICAgRG93bnRvd24gVG9yb250byAxOSAgICBEb3dudG93biBUb3JvbnRvIDIwICAgIERvd250b3duIFRvcm9udG8gMjEgICAgRG93bnRvd24gVG9yb250byAyMiAgICAgQ2VudHJhbCBUb3JvbnRvIDIzICAgICBDZW50cmFsIFRvcm9udG8gMjQgICAgIENlbnRyYWwgVG9yb250byAyNSAgICBEb3dudG93biBUb3JvbnRvIDI2ICAgIERvd250b3duIFRvcm9udG8gMjcgICAgRG93bnRvd24gVG9yb250byAyOCAgICBEb3dudG93biBUb3JvbnRvIDI5ICAgIERvd250b3duIFRvcm9udG8gMzAgICAgRG93bnRvd24gVG9yb250byAzMSAgICAgICAgV2VzdCBUb3JvbnRvIDMyICAgICAgICBXZXN0IFRvcm9udG8gMzMgICAgICAgIFdlc3QgVG9yb250byAzNCAgICAgICAgV2VzdCBUb3JvbnRvIDM1ICAgICAgICBXZXN0IFRvcm9udG8gMzYgICAgICAgIFdlc3QgVG9yb250byAzNyAgICBEb3dudG93biBUb3JvbnRvIDM4ICAgICAgICBFYXN0IFRvcm9udG8gTmFtZTogQm9yb3VnaCwgZHR5cGU6IG9iamVjdCBDbHVzdGVyIDQ8L2Rpdj5gKVswXTsKICAgICAgICAgICAgcG9wdXBfNWNmMzM5MTBmNzdiNDMyYjgyYWE5Yjc0MTZhMmY1YjQuc2V0Q29udGVudChodG1sXzU3ZjVkMDVjMWRjMTQ3OTY4NDk2ODk1NWZkYmI0ZDlkKTsKICAgICAgICAKCiAgICAgICAgY2lyY2xlX21hcmtlcl9lZTBkMTc0OWU4YTI0YmVhYTZlZWJkYTlkMTk3OTM0Yi5iaW5kUG9wdXAocG9wdXBfNWNmMzM5MTBmNzdiNDMyYjgyYWE5Yjc0MTZhMmY1YjQpCiAgICAgICAgOwoKICAgICAgICAKICAgIAogICAgCiAgICAgICAgICAgIHZhciBjaXJjbGVfbWFya2VyXzFkNDg3ZGNlNWI1NzQ0MzFiOWQxNjc1YWEzNzkzYTRiID0gTC5jaXJjbGVNYXJrZXIoCiAgICAgICAgICAgICAgICBbNDMuNjc5NTU3MSwgLTc5LjM1MjE4OF0sCiAgICAgICAgICAgICAgICB7ImJ1YmJsaW5nTW91c2VFdmVudHMiOiB0cnVlLCAiY29sb3IiOiAiI2ZmMDAwMCIsICJkYXNoQXJyYXkiOiBudWxsLCAiZGFzaE9mZnNldCI6IG51bGwsICJmaWxsIjogdHJ1ZSwgImZpbGxDb2xvciI6ICIjZmYwMDAwIiwgImZpbGxPcGFjaXR5IjogMC43LCAiZmlsbFJ1bGUiOiAiZXZlbm9kZCIsICJsaW5lQ2FwIjogInJvdW5kIiwgImxpbmVKb2luIjogInJvdW5kIiwgIm9wYWNpdHkiOiAxLjAsICJyYWRpdXMiOiA1LCAic3Ryb2tlIjogdHJ1ZSwgIndlaWdodCI6IDN9CiAgICAgICAgICAgICkuYWRkVG8obWFwX2M0MmQyOGM3ODliOTQ2ODNhYmQ1MzVhMzljNzg3ZjM2KTsKICAgICAgICAKICAgIAogICAgICAgIHZhciBwb3B1cF8yNjllOWY2YzkyMzA0ZTlkOWJkZGYwMTA1N2EwNGI0ZiA9IEwucG9wdXAoeyJtYXhXaWR0aCI6ICIxMDAlIn0pOwoKICAgICAgICAKICAgICAgICAgICAgdmFyIGh0bWxfY2M2OTVhNmY5ODcwNGI3ZWExZmUxZjUzMWIwYmZiNTMgPSAkKGA8ZGl2IGlkPSJodG1sX2NjNjk1YTZmOTg3MDRiN2VhMWZlMWY1MzFiMGJmYjUzIiBzdHlsZT0id2lkdGg6IDEwMC4wJTsgaGVpZ2h0OiAxMDAuMCU7Ij4wICAgICAgICAgRWFzdCBUb3JvbnRvIDEgICAgICAgICBFYXN0IFRvcm9udG8gMiAgICAgICAgIEVhc3QgVG9yb250byAzICAgICAgICAgRWFzdCBUb3JvbnRvIDQgICAgICBDZW50cmFsIFRvcm9udG8gNSAgICAgIENlbnRyYWwgVG9yb250byA2ICAgICAgQ2VudHJhbCBUb3JvbnRvIDcgICAgICBDZW50cmFsIFRvcm9udG8gOCAgICAgIENlbnRyYWwgVG9yb250byA5ICAgICAgQ2VudHJhbCBUb3JvbnRvIDEwICAgIERvd250b3duIFRvcm9udG8gMTEgICAgRG93bnRvd24gVG9yb250byAxMiAgICBEb3dudG93biBUb3JvbnRvIDEzICAgIERvd250b3duIFRvcm9udG8gMTQgICAgRG93bnRvd24gVG9yb250byAxNSAgICBEb3dudG93biBUb3JvbnRvIDE2ICAgIERvd250b3duIFRvcm9udG8gMTcgICAgRG93bnRvd24gVG9yb250byAxOCAgICBEb3dudG93biBUb3JvbnRvIDE5ICAgIERvd250b3duIFRvcm9udG8gMjAgICAgRG93bnRvd24gVG9yb250byAyMSAgICBEb3dudG93biBUb3JvbnRvIDIyICAgICBDZW50cmFsIFRvcm9udG8gMjMgICAgIENlbnRyYWwgVG9yb250byAyNCAgICAgQ2VudHJhbCBUb3JvbnRvIDI1ICAgIERvd250b3duIFRvcm9udG8gMjYgICAgRG93bnRvd24gVG9yb250byAyNyAgICBEb3dudG93biBUb3JvbnRvIDI4ICAgIERvd250b3duIFRvcm9udG8gMjkgICAgRG93bnRvd24gVG9yb250byAzMCAgICBEb3dudG93biBUb3JvbnRvIDMxICAgICAgICBXZXN0IFRvcm9udG8gMzIgICAgICAgIFdlc3QgVG9yb250byAzMyAgICAgICAgV2VzdCBUb3JvbnRvIDM0ICAgICAgICBXZXN0IFRvcm9udG8gMzUgICAgICAgIFdlc3QgVG9yb250byAzNiAgICAgICAgV2VzdCBUb3JvbnRvIDM3ICAgIERvd250b3duIFRvcm9udG8gMzggICAgICAgIEVhc3QgVG9yb250byBOYW1lOiBCb3JvdWdoLCBkdHlwZTogb2JqZWN0IENsdXN0ZXIgNDwvZGl2PmApWzBdOwogICAgICAgICAgICBwb3B1cF8yNjllOWY2YzkyMzA0ZTlkOWJkZGYwMTA1N2EwNGI0Zi5zZXRDb250ZW50KGh0bWxfY2M2OTVhNmY5ODcwNGI3ZWExZmUxZjUzMWIwYmZiNTMpOwogICAgICAgIAoKICAgICAgICBjaXJjbGVfbWFya2VyXzFkNDg3ZGNlNWI1NzQ0MzFiOWQxNjc1YWEzNzkzYTRiLmJpbmRQb3B1cChwb3B1cF8yNjllOWY2YzkyMzA0ZTlkOWJkZGYwMTA1N2EwNGI0ZikKICAgICAgICA7CgogICAgICAgIAogICAgCiAgICAKICAgICAgICAgICAgdmFyIGNpcmNsZV9tYXJrZXJfNWU0MmE2YTcyMGRlNGNlOTk0NWQ5ZGY4YTc3NGFlNmEgPSBMLmNpcmNsZU1hcmtlcigKICAgICAgICAgICAgICAgIFs0My42Njg5OTg1LCAtNzkuMzE1NTcxNTk5OTk5OThdLAogICAgICAgICAgICAgICAgeyJidWJibGluZ01vdXNlRXZlbnRzIjogdHJ1ZSwgImNvbG9yIjogIiNmZjAwMDAiLCAiZGFzaEFycmF5IjogbnVsbCwgImRhc2hPZmZzZXQiOiBudWxsLCAiZmlsbCI6IHRydWUsICJmaWxsQ29sb3IiOiAiI2ZmMDAwMCIsICJmaWxsT3BhY2l0eSI6IDAuNywgImZpbGxSdWxlIjogImV2ZW5vZGQiLCAibGluZUNhcCI6ICJyb3VuZCIsICJsaW5lSm9pbiI6ICJyb3VuZCIsICJvcGFjaXR5IjogMS4wLCAicmFkaXVzIjogNSwgInN0cm9rZSI6IHRydWUsICJ3ZWlnaHQiOiAzfQogICAgICAgICAgICApLmFkZFRvKG1hcF9jNDJkMjhjNzg5Yjk0NjgzYWJkNTM1YTM5Yzc4N2YzNik7CiAgICAgICAgCiAgICAKICAgICAgICB2YXIgcG9wdXBfNTdhNjM1NzVmN2MzNDI0Zjk0YTdlMjA2NmJlMzk3MmMgPSBMLnBvcHVwKHsibWF4V2lkdGgiOiAiMTAwJSJ9KTsKCiAgICAgICAgCiAgICAgICAgICAgIHZhciBodG1sXzI1MTA4M2M2NmIzMjQzM2ZhZmY2NTE5YTQ5MmQxMjA0ID0gJChgPGRpdiBpZD0iaHRtbF8yNTEwODNjNjZiMzI0MzNmYWZmNjUxOWE0OTJkMTIwNCIgc3R5bGU9IndpZHRoOiAxMDAuMCU7IGhlaWdodDogMTAwLjAlOyI+MCAgICAgICAgIEVhc3QgVG9yb250byAxICAgICAgICAgRWFzdCBUb3JvbnRvIDIgICAgICAgICBFYXN0IFRvcm9udG8gMyAgICAgICAgIEVhc3QgVG9yb250byA0ICAgICAgQ2VudHJhbCBUb3JvbnRvIDUgICAgICBDZW50cmFsIFRvcm9udG8gNiAgICAgIENlbnRyYWwgVG9yb250byA3ICAgICAgQ2VudHJhbCBUb3JvbnRvIDggICAgICBDZW50cmFsIFRvcm9udG8gOSAgICAgIENlbnRyYWwgVG9yb250byAxMCAgICBEb3dudG93biBUb3JvbnRvIDExICAgIERvd250b3duIFRvcm9udG8gMTIgICAgRG93bnRvd24gVG9yb250byAxMyAgICBEb3dudG93biBUb3JvbnRvIDE0ICAgIERvd250b3duIFRvcm9udG8gMTUgICAgRG93bnRvd24gVG9yb250byAxNiAgICBEb3dudG93biBUb3JvbnRvIDE3ICAgIERvd250b3duIFRvcm9udG8gMTggICAgRG93bnRvd24gVG9yb250byAxOSAgICBEb3dudG93biBUb3JvbnRvIDIwICAgIERvd250b3duIFRvcm9udG8gMjEgICAgRG93bnRvd24gVG9yb250byAyMiAgICAgQ2VudHJhbCBUb3JvbnRvIDIzICAgICBDZW50cmFsIFRvcm9udG8gMjQgICAgIENlbnRyYWwgVG9yb250byAyNSAgICBEb3dudG93biBUb3JvbnRvIDI2ICAgIERvd250b3duIFRvcm9udG8gMjcgICAgRG93bnRvd24gVG9yb250byAyOCAgICBEb3dudG93biBUb3JvbnRvIDI5ICAgIERvd250b3duIFRvcm9udG8gMzAgICAgRG93bnRvd24gVG9yb250byAzMSAgICAgICAgV2VzdCBUb3JvbnRvIDMyICAgICAgICBXZXN0IFRvcm9udG8gMzMgICAgICAgIFdlc3QgVG9yb250byAzNCAgICAgICAgV2VzdCBUb3JvbnRvIDM1ICAgICAgICBXZXN0IFRvcm9udG8gMzYgICAgICAgIFdlc3QgVG9yb250byAzNyAgICBEb3dudG93biBUb3JvbnRvIDM4ICAgICAgICBFYXN0IFRvcm9udG8gTmFtZTogQm9yb3VnaCwgZHR5cGU6IG9iamVjdCBDbHVzdGVyIDQ8L2Rpdj5gKVswXTsKICAgICAgICAgICAgcG9wdXBfNTdhNjM1NzVmN2MzNDI0Zjk0YTdlMjA2NmJlMzk3MmMuc2V0Q29udGVudChodG1sXzI1MTA4M2M2NmIzMjQzM2ZhZmY2NTE5YTQ5MmQxMjA0KTsKICAgICAgICAKCiAgICAgICAgY2lyY2xlX21hcmtlcl81ZTQyYTZhNzIwZGU0Y2U5OTQ1ZDlkZjhhNzc0YWU2YS5iaW5kUG9wdXAocG9wdXBfNTdhNjM1NzVmN2MzNDI0Zjk0YTdlMjA2NmJlMzk3MmMpCiAgICAgICAgOwoKICAgICAgICAKICAgIAogICAgCiAgICAgICAgICAgIHZhciBjaXJjbGVfbWFya2VyXzU2YmM2ZjNlMjJlOTRjODNhMTg2Mzk0OGYwNTg0YTY1ID0gTC5jaXJjbGVNYXJrZXIoCiAgICAgICAgICAgICAgICBbNDMuNjU5NTI1NSwgLTc5LjM0MDkyM10sCiAgICAgICAgICAgICAgICB7ImJ1YmJsaW5nTW91c2VFdmVudHMiOiB0cnVlLCAiY29sb3IiOiAiI2ZmMDAwMCIsICJkYXNoQXJyYXkiOiBudWxsLCAiZGFzaE9mZnNldCI6IG51bGwsICJmaWxsIjogdHJ1ZSwgImZpbGxDb2xvciI6ICIjZmYwMDAwIiwgImZpbGxPcGFjaXR5IjogMC43LCAiZmlsbFJ1bGUiOiAiZXZlbm9kZCIsICJsaW5lQ2FwIjogInJvdW5kIiwgImxpbmVKb2luIjogInJvdW5kIiwgIm9wYWNpdHkiOiAxLjAsICJyYWRpdXMiOiA1LCAic3Ryb2tlIjogdHJ1ZSwgIndlaWdodCI6IDN9CiAgICAgICAgICAgICkuYWRkVG8obWFwX2M0MmQyOGM3ODliOTQ2ODNhYmQ1MzVhMzljNzg3ZjM2KTsKICAgICAgICAKICAgIAogICAgICAgIHZhciBwb3B1cF9lZjU5OWNiNmJiZGM0ZWVjYTVmZTY4OTU4NWNkMGE1YyA9IEwucG9wdXAoeyJtYXhXaWR0aCI6ICIxMDAlIn0pOwoKICAgICAgICAKICAgICAgICAgICAgdmFyIGh0bWxfMjE5N2Q2YjI5MjhjNDQyOGI4ZTVmYjE4YjU3MGJmMmMgPSAkKGA8ZGl2IGlkPSJodG1sXzIxOTdkNmIyOTI4YzQ0MjhiOGU1ZmIxOGI1NzBiZjJjIiBzdHlsZT0id2lkdGg6IDEwMC4wJTsgaGVpZ2h0OiAxMDAuMCU7Ij4wICAgICAgICAgRWFzdCBUb3JvbnRvIDEgICAgICAgICBFYXN0IFRvcm9udG8gMiAgICAgICAgIEVhc3QgVG9yb250byAzICAgICAgICAgRWFzdCBUb3JvbnRvIDQgICAgICBDZW50cmFsIFRvcm9udG8gNSAgICAgIENlbnRyYWwgVG9yb250byA2ICAgICAgQ2VudHJhbCBUb3JvbnRvIDcgICAgICBDZW50cmFsIFRvcm9udG8gOCAgICAgIENlbnRyYWwgVG9yb250byA5ICAgICAgQ2VudHJhbCBUb3JvbnRvIDEwICAgIERvd250b3duIFRvcm9udG8gMTEgICAgRG93bnRvd24gVG9yb250byAxMiAgICBEb3dudG93biBUb3JvbnRvIDEzICAgIERvd250b3duIFRvcm9udG8gMTQgICAgRG93bnRvd24gVG9yb250byAxNSAgICBEb3dudG93biBUb3JvbnRvIDE2ICAgIERvd250b3duIFRvcm9udG8gMTcgICAgRG93bnRvd24gVG9yb250byAxOCAgICBEb3dudG93biBUb3JvbnRvIDE5ICAgIERvd250b3duIFRvcm9udG8gMjAgICAgRG93bnRvd24gVG9yb250byAyMSAgICBEb3dudG93biBUb3JvbnRvIDIyICAgICBDZW50cmFsIFRvcm9udG8gMjMgICAgIENlbnRyYWwgVG9yb250byAyNCAgICAgQ2VudHJhbCBUb3JvbnRvIDI1ICAgIERvd250b3duIFRvcm9udG8gMjYgICAgRG93bnRvd24gVG9yb250byAyNyAgICBEb3dudG93biBUb3JvbnRvIDI4ICAgIERvd250b3duIFRvcm9udG8gMjkgICAgRG93bnRvd24gVG9yb250byAzMCAgICBEb3dudG93biBUb3JvbnRvIDMxICAgICAgICBXZXN0IFRvcm9udG8gMzIgICAgICAgIFdlc3QgVG9yb250byAzMyAgICAgICAgV2VzdCBUb3JvbnRvIDM0ICAgICAgICBXZXN0IFRvcm9udG8gMzUgICAgICAgIFdlc3QgVG9yb250byAzNiAgICAgICAgV2VzdCBUb3JvbnRvIDM3ICAgIERvd250b3duIFRvcm9udG8gMzggICAgICAgIEVhc3QgVG9yb250byBOYW1lOiBCb3JvdWdoLCBkdHlwZTogb2JqZWN0IENsdXN0ZXIgNDwvZGl2PmApWzBdOwogICAgICAgICAgICBwb3B1cF9lZjU5OWNiNmJiZGM0ZWVjYTVmZTY4OTU4NWNkMGE1Yy5zZXRDb250ZW50KGh0bWxfMjE5N2Q2YjI5MjhjNDQyOGI4ZTVmYjE4YjU3MGJmMmMpOwogICAgICAgIAoKICAgICAgICBjaXJjbGVfbWFya2VyXzU2YmM2ZjNlMjJlOTRjODNhMTg2Mzk0OGYwNTg0YTY1LmJpbmRQb3B1cChwb3B1cF9lZjU5OWNiNmJiZGM0ZWVjYTVmZTY4OTU4NWNkMGE1YykKICAgICAgICA7CgogICAgICAgIAogICAgCiAgICAKICAgICAgICAgICAgdmFyIGNpcmNsZV9tYXJrZXJfMjViMjJiY2ViZWM2NDA5NDhiM2U3NDZmNDcwMzJkNzcgPSBMLmNpcmNsZU1hcmtlcigKICAgICAgICAgICAgICAgIFs0My43MjgwMjA1LCAtNzkuMzg4NzkwMV0sCiAgICAgICAgICAgICAgICB7ImJ1YmJsaW5nTW91c2VFdmVudHMiOiB0cnVlLCAiY29sb3IiOiAiIzJhZGRkZCIsICJkYXNoQXJyYXkiOiBudWxsLCAiZGFzaE9mZnNldCI6IG51bGwsICJmaWxsIjogdHJ1ZSwgImZpbGxDb2xvciI6ICIjMmFkZGRkIiwgImZpbGxPcGFjaXR5IjogMC43LCAiZmlsbFJ1bGUiOiAiZXZlbm9kZCIsICJsaW5lQ2FwIjogInJvdW5kIiwgImxpbmVKb2luIjogInJvdW5kIiwgIm9wYWNpdHkiOiAxLjAsICJyYWRpdXMiOiA1LCAic3Ryb2tlIjogdHJ1ZSwgIndlaWdodCI6IDN9CiAgICAgICAgICAgICkuYWRkVG8obWFwX2M0MmQyOGM3ODliOTQ2ODNhYmQ1MzVhMzljNzg3ZjM2KTsKICAgICAgICAKICAgIAogICAgICAgIHZhciBwb3B1cF80ZjljNmI5YmZhMWU0YWE0OGIyODg4OTRjZmQ2Mzg5NCA9IEwucG9wdXAoeyJtYXhXaWR0aCI6ICIxMDAlIn0pOwoKICAgICAgICAKICAgICAgICAgICAgdmFyIGh0bWxfNDAwYWNjM2UzMDYzNGJmM2E0M2RhYWQwY2E1MGFlMGIgPSAkKGA8ZGl2IGlkPSJodG1sXzQwMGFjYzNlMzA2MzRiZjNhNDNkYWFkMGNhNTBhZTBiIiBzdHlsZT0id2lkdGg6IDEwMC4wJTsgaGVpZ2h0OiAxMDAuMCU7Ij4wICAgICAgICAgRWFzdCBUb3JvbnRvIDEgICAgICAgICBFYXN0IFRvcm9udG8gMiAgICAgICAgIEVhc3QgVG9yb250byAzICAgICAgICAgRWFzdCBUb3JvbnRvIDQgICAgICBDZW50cmFsIFRvcm9udG8gNSAgICAgIENlbnRyYWwgVG9yb250byA2ICAgICAgQ2VudHJhbCBUb3JvbnRvIDcgICAgICBDZW50cmFsIFRvcm9udG8gOCAgICAgIENlbnRyYWwgVG9yb250byA5ICAgICAgQ2VudHJhbCBUb3JvbnRvIDEwICAgIERvd250b3duIFRvcm9udG8gMTEgICAgRG93bnRvd24gVG9yb250byAxMiAgICBEb3dudG93biBUb3JvbnRvIDEzICAgIERvd250b3duIFRvcm9udG8gMTQgICAgRG93bnRvd24gVG9yb250byAxNSAgICBEb3dudG93biBUb3JvbnRvIDE2ICAgIERvd250b3duIFRvcm9udG8gMTcgICAgRG93bnRvd24gVG9yb250byAxOCAgICBEb3dudG93biBUb3JvbnRvIDE5ICAgIERvd250b3duIFRvcm9udG8gMjAgICAgRG93bnRvd24gVG9yb250byAyMSAgICBEb3dudG93biBUb3JvbnRvIDIyICAgICBDZW50cmFsIFRvcm9udG8gMjMgICAgIENlbnRyYWwgVG9yb250byAyNCAgICAgQ2VudHJhbCBUb3JvbnRvIDI1ICAgIERvd250b3duIFRvcm9udG8gMjYgICAgRG93bnRvd24gVG9yb250byAyNyAgICBEb3dudG93biBUb3JvbnRvIDI4ICAgIERvd250b3duIFRvcm9udG8gMjkgICAgRG93bnRvd24gVG9yb250byAzMCAgICBEb3dudG93biBUb3JvbnRvIDMxICAgICAgICBXZXN0IFRvcm9udG8gMzIgICAgICAgIFdlc3QgVG9yb250byAzMyAgICAgICAgV2VzdCBUb3JvbnRvIDM0ICAgICAgICBXZXN0IFRvcm9udG8gMzUgICAgICAgIFdlc3QgVG9yb250byAzNiAgICAgICAgV2VzdCBUb3JvbnRvIDM3ICAgIERvd250b3duIFRvcm9udG8gMzggICAgICAgIEVhc3QgVG9yb250byBOYW1lOiBCb3JvdWdoLCBkdHlwZTogb2JqZWN0IENsdXN0ZXIgMjwvZGl2PmApWzBdOwogICAgICAgICAgICBwb3B1cF80ZjljNmI5YmZhMWU0YWE0OGIyODg4OTRjZmQ2Mzg5NC5zZXRDb250ZW50KGh0bWxfNDAwYWNjM2UzMDYzNGJmM2E0M2RhYWQwY2E1MGFlMGIpOwogICAgICAgIAoKICAgICAgICBjaXJjbGVfbWFya2VyXzI1YjIyYmNlYmVjNjQwOTQ4YjNlNzQ2ZjQ3MDMyZDc3LmJpbmRQb3B1cChwb3B1cF80ZjljNmI5YmZhMWU0YWE0OGIyODg4OTRjZmQ2Mzg5NCkKICAgICAgICA7CgogICAgICAgIAogICAgCiAgICAKICAgICAgICAgICAgdmFyIGNpcmNsZV9tYXJrZXJfNmUyYWY0MGM4OTAyNDAxM2E2NzdhNTIwYjA2YTg1OWYgPSBMLmNpcmNsZU1hcmtlcigKICAgICAgICAgICAgICAgIFs0My43MTI3NTExLCAtNzkuMzkwMTk3NV0sCiAgICAgICAgICAgICAgICB7ImJ1YmJsaW5nTW91c2VFdmVudHMiOiB0cnVlLCAiY29sb3IiOiAiIzJhZGRkZCIsICJkYXNoQXJyYXkiOiBudWxsLCAiZGFzaE9mZnNldCI6IG51bGwsICJmaWxsIjogdHJ1ZSwgImZpbGxDb2xvciI6ICIjMmFkZGRkIiwgImZpbGxPcGFjaXR5IjogMC43LCAiZmlsbFJ1bGUiOiAiZXZlbm9kZCIsICJsaW5lQ2FwIjogInJvdW5kIiwgImxpbmVKb2luIjogInJvdW5kIiwgIm9wYWNpdHkiOiAxLjAsICJyYWRpdXMiOiA1LCAic3Ryb2tlIjogdHJ1ZSwgIndlaWdodCI6IDN9CiAgICAgICAgICAgICkuYWRkVG8obWFwX2M0MmQyOGM3ODliOTQ2ODNhYmQ1MzVhMzljNzg3ZjM2KTsKICAgICAgICAKICAgIAogICAgICAgIHZhciBwb3B1cF9mYmE5NTA0ZGY3MWE0MmFlOTkxNzg1NGMzOTIyZmE5YSA9IEwucG9wdXAoeyJtYXhXaWR0aCI6ICIxMDAlIn0pOwoKICAgICAgICAKICAgICAgICAgICAgdmFyIGh0bWxfZGIwNTFjMTMwOWNkNDhkM2JkMzBiYzJmOGVlOTc4NDUgPSAkKGA8ZGl2IGlkPSJodG1sX2RiMDUxYzEzMDljZDQ4ZDNiZDMwYmMyZjhlZTk3ODQ1IiBzdHlsZT0id2lkdGg6IDEwMC4wJTsgaGVpZ2h0OiAxMDAuMCU7Ij4wICAgICAgICAgRWFzdCBUb3JvbnRvIDEgICAgICAgICBFYXN0IFRvcm9udG8gMiAgICAgICAgIEVhc3QgVG9yb250byAzICAgICAgICAgRWFzdCBUb3JvbnRvIDQgICAgICBDZW50cmFsIFRvcm9udG8gNSAgICAgIENlbnRyYWwgVG9yb250byA2ICAgICAgQ2VudHJhbCBUb3JvbnRvIDcgICAgICBDZW50cmFsIFRvcm9udG8gOCAgICAgIENlbnRyYWwgVG9yb250byA5ICAgICAgQ2VudHJhbCBUb3JvbnRvIDEwICAgIERvd250b3duIFRvcm9udG8gMTEgICAgRG93bnRvd24gVG9yb250byAxMiAgICBEb3dudG93biBUb3JvbnRvIDEzICAgIERvd250b3duIFRvcm9udG8gMTQgICAgRG93bnRvd24gVG9yb250byAxNSAgICBEb3dudG93biBUb3JvbnRvIDE2ICAgIERvd250b3duIFRvcm9udG8gMTcgICAgRG93bnRvd24gVG9yb250byAxOCAgICBEb3dudG93biBUb3JvbnRvIDE5ICAgIERvd250b3duIFRvcm9udG8gMjAgICAgRG93bnRvd24gVG9yb250byAyMSAgICBEb3dudG93biBUb3JvbnRvIDIyICAgICBDZW50cmFsIFRvcm9udG8gMjMgICAgIENlbnRyYWwgVG9yb250byAyNCAgICAgQ2VudHJhbCBUb3JvbnRvIDI1ICAgIERvd250b3duIFRvcm9udG8gMjYgICAgRG93bnRvd24gVG9yb250byAyNyAgICBEb3dudG93biBUb3JvbnRvIDI4ICAgIERvd250b3duIFRvcm9udG8gMjkgICAgRG93bnRvd24gVG9yb250byAzMCAgICBEb3dudG93biBUb3JvbnRvIDMxICAgICAgICBXZXN0IFRvcm9udG8gMzIgICAgICAgIFdlc3QgVG9yb250byAzMyAgICAgICAgV2VzdCBUb3JvbnRvIDM0ICAgICAgICBXZXN0IFRvcm9udG8gMzUgICAgICAgIFdlc3QgVG9yb250byAzNiAgICAgICAgV2VzdCBUb3JvbnRvIDM3ICAgIERvd250b3duIFRvcm9udG8gMzggICAgICAgIEVhc3QgVG9yb250byBOYW1lOiBCb3JvdWdoLCBkdHlwZTogb2JqZWN0IENsdXN0ZXIgMjwvZGl2PmApWzBdOwogICAgICAgICAgICBwb3B1cF9mYmE5NTA0ZGY3MWE0MmFlOTkxNzg1NGMzOTIyZmE5YS5zZXRDb250ZW50KGh0bWxfZGIwNTFjMTMwOWNkNDhkM2JkMzBiYzJmOGVlOTc4NDUpOwogICAgICAgIAoKICAgICAgICBjaXJjbGVfbWFya2VyXzZlMmFmNDBjODkwMjQwMTNhNjc3YTUyMGIwNmE4NTlmLmJpbmRQb3B1cChwb3B1cF9mYmE5NTA0ZGY3MWE0MmFlOTkxNzg1NGMzOTIyZmE5YSkKICAgICAgICA7CgogICAgICAgIAogICAgCiAgICAKICAgICAgICAgICAgdmFyIGNpcmNsZV9tYXJrZXJfMjI2NTM4YWYyOTU4NGRlMzlkZmFhMmY2ZDk5MGMxNmIgPSBMLmNpcmNsZU1hcmtlcigKICAgICAgICAgICAgICAgIFs0My43MTUzODM0LCAtNzkuNDA1Njc4NDAwMDAwMDFdLAogICAgICAgICAgICAgICAgeyJidWJibGluZ01vdXNlRXZlbnRzIjogdHJ1ZSwgImNvbG9yIjogIiMyYWRkZGQiLCAiZGFzaEFycmF5IjogbnVsbCwgImRhc2hPZmZzZXQiOiBudWxsLCAiZmlsbCI6IHRydWUsICJmaWxsQ29sb3IiOiAiIzJhZGRkZCIsICJmaWxsT3BhY2l0eSI6IDAuNywgImZpbGxSdWxlIjogImV2ZW5vZGQiLCAibGluZUNhcCI6ICJyb3VuZCIsICJsaW5lSm9pbiI6ICJyb3VuZCIsICJvcGFjaXR5IjogMS4wLCAicmFkaXVzIjogNSwgInN0cm9rZSI6IHRydWUsICJ3ZWlnaHQiOiAzfQogICAgICAgICAgICApLmFkZFRvKG1hcF9jNDJkMjhjNzg5Yjk0NjgzYWJkNTM1YTM5Yzc4N2YzNik7CiAgICAgICAgCiAgICAKICAgICAgICB2YXIgcG9wdXBfZjE3ZjkwN2Q4YzM0NDMzMWI3MTQ2MjcwM2YyZWM3MDkgPSBMLnBvcHVwKHsibWF4V2lkdGgiOiAiMTAwJSJ9KTsKCiAgICAgICAgCiAgICAgICAgICAgIHZhciBodG1sX2FjYTY0M2FiZWI4OTRmMjQ5Yjk1ZTYwMGQyY2ZkZGYyID0gJChgPGRpdiBpZD0iaHRtbF9hY2E2NDNhYmViODk0ZjI0OWI5NWU2MDBkMmNmZGRmMiIgc3R5bGU9IndpZHRoOiAxMDAuMCU7IGhlaWdodDogMTAwLjAlOyI+MCAgICAgICAgIEVhc3QgVG9yb250byAxICAgICAgICAgRWFzdCBUb3JvbnRvIDIgICAgICAgICBFYXN0IFRvcm9udG8gMyAgICAgICAgIEVhc3QgVG9yb250byA0ICAgICAgQ2VudHJhbCBUb3JvbnRvIDUgICAgICBDZW50cmFsIFRvcm9udG8gNiAgICAgIENlbnRyYWwgVG9yb250byA3ICAgICAgQ2VudHJhbCBUb3JvbnRvIDggICAgICBDZW50cmFsIFRvcm9udG8gOSAgICAgIENlbnRyYWwgVG9yb250byAxMCAgICBEb3dudG93biBUb3JvbnRvIDExICAgIERvd250b3duIFRvcm9udG8gMTIgICAgRG93bnRvd24gVG9yb250byAxMyAgICBEb3dudG93biBUb3JvbnRvIDE0ICAgIERvd250b3duIFRvcm9udG8gMTUgICAgRG93bnRvd24gVG9yb250byAxNiAgICBEb3dudG93biBUb3JvbnRvIDE3ICAgIERvd250b3duIFRvcm9udG8gMTggICAgRG93bnRvd24gVG9yb250byAxOSAgICBEb3dudG93biBUb3JvbnRvIDIwICAgIERvd250b3duIFRvcm9udG8gMjEgICAgRG93bnRvd24gVG9yb250byAyMiAgICAgQ2VudHJhbCBUb3JvbnRvIDIzICAgICBDZW50cmFsIFRvcm9udG8gMjQgICAgIENlbnRyYWwgVG9yb250byAyNSAgICBEb3dudG93biBUb3JvbnRvIDI2ICAgIERvd250b3duIFRvcm9udG8gMjcgICAgRG93bnRvd24gVG9yb250byAyOCAgICBEb3dudG93biBUb3JvbnRvIDI5ICAgIERvd250b3duIFRvcm9udG8gMzAgICAgRG93bnRvd24gVG9yb250byAzMSAgICAgICAgV2VzdCBUb3JvbnRvIDMyICAgICAgICBXZXN0IFRvcm9udG8gMzMgICAgICAgIFdlc3QgVG9yb250byAzNCAgICAgICAgV2VzdCBUb3JvbnRvIDM1ICAgICAgICBXZXN0IFRvcm9udG8gMzYgICAgICAgIFdlc3QgVG9yb250byAzNyAgICBEb3dudG93biBUb3JvbnRvIDM4ICAgICAgICBFYXN0IFRvcm9udG8gTmFtZTogQm9yb3VnaCwgZHR5cGU6IG9iamVjdCBDbHVzdGVyIDI8L2Rpdj5gKVswXTsKICAgICAgICAgICAgcG9wdXBfZjE3ZjkwN2Q4YzM0NDMzMWI3MTQ2MjcwM2YyZWM3MDkuc2V0Q29udGVudChodG1sX2FjYTY0M2FiZWI4OTRmMjQ5Yjk1ZTYwMGQyY2ZkZGYyKTsKICAgICAgICAKCiAgICAgICAgY2lyY2xlX21hcmtlcl8yMjY1MzhhZjI5NTg0ZGUzOWRmYWEyZjZkOTkwYzE2Yi5iaW5kUG9wdXAocG9wdXBfZjE3ZjkwN2Q4YzM0NDMzMWI3MTQ2MjcwM2YyZWM3MDkpCiAgICAgICAgOwoKICAgICAgICAKICAgIAogICAgCiAgICAgICAgICAgIHZhciBjaXJjbGVfbWFya2VyXzU3NDg3NDU0NmZkNTQ2NjZhNjhjNTI0MmJlOTA2OTcyID0gTC5jaXJjbGVNYXJrZXIoCiAgICAgICAgICAgICAgICBbNDMuNzA0MzI0NCwgLTc5LjM4ODc5MDFdLAogICAgICAgICAgICAgICAgeyJidWJibGluZ01vdXNlRXZlbnRzIjogdHJ1ZSwgImNvbG9yIjogIiMyYWRkZGQiLCAiZGFzaEFycmF5IjogbnVsbCwgImRhc2hPZmZzZXQiOiBudWxsLCAiZmlsbCI6IHRydWUsICJmaWxsQ29sb3IiOiAiIzJhZGRkZCIsICJmaWxsT3BhY2l0eSI6IDAuNywgImZpbGxSdWxlIjogImV2ZW5vZGQiLCAibGluZUNhcCI6ICJyb3VuZCIsICJsaW5lSm9pbiI6ICJyb3VuZCIsICJvcGFjaXR5IjogMS4wLCAicmFkaXVzIjogNSwgInN0cm9rZSI6IHRydWUsICJ3ZWlnaHQiOiAzfQogICAgICAgICAgICApLmFkZFRvKG1hcF9jNDJkMjhjNzg5Yjk0NjgzYWJkNTM1YTM5Yzc4N2YzNik7CiAgICAgICAgCiAgICAKICAgICAgICB2YXIgcG9wdXBfMWE2ZjhjZWI4YmQ4NDRmMTk3MTBhNjExN2MyNjhhMTEgPSBMLnBvcHVwKHsibWF4V2lkdGgiOiAiMTAwJSJ9KTsKCiAgICAgICAgCiAgICAgICAgICAgIHZhciBodG1sXzY3MDI5ODBiMWQ2MTQ3ZDZiMWE0Nzg0YmJjZDNkNTZkID0gJChgPGRpdiBpZD0iaHRtbF82NzAyOTgwYjFkNjE0N2Q2YjFhNDc4NGJiY2QzZDU2ZCIgc3R5bGU9IndpZHRoOiAxMDAuMCU7IGhlaWdodDogMTAwLjAlOyI+MCAgICAgICAgIEVhc3QgVG9yb250byAxICAgICAgICAgRWFzdCBUb3JvbnRvIDIgICAgICAgICBFYXN0IFRvcm9udG8gMyAgICAgICAgIEVhc3QgVG9yb250byA0ICAgICAgQ2VudHJhbCBUb3JvbnRvIDUgICAgICBDZW50cmFsIFRvcm9udG8gNiAgICAgIENlbnRyYWwgVG9yb250byA3ICAgICAgQ2VudHJhbCBUb3JvbnRvIDggICAgICBDZW50cmFsIFRvcm9udG8gOSAgICAgIENlbnRyYWwgVG9yb250byAxMCAgICBEb3dudG93biBUb3JvbnRvIDExICAgIERvd250b3duIFRvcm9udG8gMTIgICAgRG93bnRvd24gVG9yb250byAxMyAgICBEb3dudG93biBUb3JvbnRvIDE0ICAgIERvd250b3duIFRvcm9udG8gMTUgICAgRG93bnRvd24gVG9yb250byAxNiAgICBEb3dudG93biBUb3JvbnRvIDE3ICAgIERvd250b3duIFRvcm9udG8gMTggICAgRG93bnRvd24gVG9yb250byAxOSAgICBEb3dudG93biBUb3JvbnRvIDIwICAgIERvd250b3duIFRvcm9udG8gMjEgICAgRG93bnRvd24gVG9yb250byAyMiAgICAgQ2VudHJhbCBUb3JvbnRvIDIzICAgICBDZW50cmFsIFRvcm9udG8gMjQgICAgIENlbnRyYWwgVG9yb250byAyNSAgICBEb3dudG93biBUb3JvbnRvIDI2ICAgIERvd250b3duIFRvcm9udG8gMjcgICAgRG93bnRvd24gVG9yb250byAyOCAgICBEb3dudG93biBUb3JvbnRvIDI5ICAgIERvd250b3duIFRvcm9udG8gMzAgICAgRG93bnRvd24gVG9yb250byAzMSAgICAgICAgV2VzdCBUb3JvbnRvIDMyICAgICAgICBXZXN0IFRvcm9udG8gMzMgICAgICAgIFdlc3QgVG9yb250byAzNCAgICAgICAgV2VzdCBUb3JvbnRvIDM1ICAgICAgICBXZXN0IFRvcm9udG8gMzYgICAgICAgIFdlc3QgVG9yb250byAzNyAgICBEb3dudG93biBUb3JvbnRvIDM4ICAgICAgICBFYXN0IFRvcm9udG8gTmFtZTogQm9yb3VnaCwgZHR5cGU6IG9iamVjdCBDbHVzdGVyIDI8L2Rpdj5gKVswXTsKICAgICAgICAgICAgcG9wdXBfMWE2ZjhjZWI4YmQ4NDRmMTk3MTBhNjExN2MyNjhhMTEuc2V0Q29udGVudChodG1sXzY3MDI5ODBiMWQ2MTQ3ZDZiMWE0Nzg0YmJjZDNkNTZkKTsKICAgICAgICAKCiAgICAgICAgY2lyY2xlX21hcmtlcl81NzQ4NzQ1NDZmZDU0NjY2YTY4YzUyNDJiZTkwNjk3Mi5iaW5kUG9wdXAocG9wdXBfMWE2ZjhjZWI4YmQ4NDRmMTk3MTBhNjExN2MyNjhhMTEpCiAgICAgICAgOwoKICAgICAgICAKICAgIAogICAgCiAgICAgICAgICAgIHZhciBjaXJjbGVfbWFya2VyX2JiYWRkZGRmYWJmZTQzNjliYzFkODFhYzJmZDJlOTE4ID0gTC5jaXJjbGVNYXJrZXIoCiAgICAgICAgICAgICAgICBbNDMuNjg5NTc0MywgLTc5LjM4MzE1OTkwMDAwMDAxXSwKICAgICAgICAgICAgICAgIHsiYnViYmxpbmdNb3VzZUV2ZW50cyI6IHRydWUsICJjb2xvciI6ICIjMmFkZGRkIiwgImRhc2hBcnJheSI6IG51bGwsICJkYXNoT2Zmc2V0IjogbnVsbCwgImZpbGwiOiB0cnVlLCAiZmlsbENvbG9yIjogIiMyYWRkZGQiLCAiZmlsbE9wYWNpdHkiOiAwLjcsICJmaWxsUnVsZSI6ICJldmVub2RkIiwgImxpbmVDYXAiOiAicm91bmQiLCAibGluZUpvaW4iOiAicm91bmQiLCAib3BhY2l0eSI6IDEuMCwgInJhZGl1cyI6IDUsICJzdHJva2UiOiB0cnVlLCAid2VpZ2h0IjogM30KICAgICAgICAgICAgKS5hZGRUbyhtYXBfYzQyZDI4Yzc4OWI5NDY4M2FiZDUzNWEzOWM3ODdmMzYpOwogICAgICAgIAogICAgCiAgICAgICAgdmFyIHBvcHVwXzJlMDMwYWI2YjViZTRjYTQ5MzAzNzVjM2ZkMDFiM2RjID0gTC5wb3B1cCh7Im1heFdpZHRoIjogIjEwMCUifSk7CgogICAgICAgIAogICAgICAgICAgICB2YXIgaHRtbF81ZTVhYTA3N2E0YjA0NzNlYTMxZDQxOWFhNDZkODMyOCA9ICQoYDxkaXYgaWQ9Imh0bWxfNWU1YWEwNzdhNGIwNDczZWEzMWQ0MTlhYTQ2ZDgzMjgiIHN0eWxlPSJ3aWR0aDogMTAwLjAlOyBoZWlnaHQ6IDEwMC4wJTsiPjAgICAgICAgICBFYXN0IFRvcm9udG8gMSAgICAgICAgIEVhc3QgVG9yb250byAyICAgICAgICAgRWFzdCBUb3JvbnRvIDMgICAgICAgICBFYXN0IFRvcm9udG8gNCAgICAgIENlbnRyYWwgVG9yb250byA1ICAgICAgQ2VudHJhbCBUb3JvbnRvIDYgICAgICBDZW50cmFsIFRvcm9udG8gNyAgICAgIENlbnRyYWwgVG9yb250byA4ICAgICAgQ2VudHJhbCBUb3JvbnRvIDkgICAgICBDZW50cmFsIFRvcm9udG8gMTAgICAgRG93bnRvd24gVG9yb250byAxMSAgICBEb3dudG93biBUb3JvbnRvIDEyICAgIERvd250b3duIFRvcm9udG8gMTMgICAgRG93bnRvd24gVG9yb250byAxNCAgICBEb3dudG93biBUb3JvbnRvIDE1ICAgIERvd250b3duIFRvcm9udG8gMTYgICAgRG93bnRvd24gVG9yb250byAxNyAgICBEb3dudG93biBUb3JvbnRvIDE4ICAgIERvd250b3duIFRvcm9udG8gMTkgICAgRG93bnRvd24gVG9yb250byAyMCAgICBEb3dudG93biBUb3JvbnRvIDIxICAgIERvd250b3duIFRvcm9udG8gMjIgICAgIENlbnRyYWwgVG9yb250byAyMyAgICAgQ2VudHJhbCBUb3JvbnRvIDI0ICAgICBDZW50cmFsIFRvcm9udG8gMjUgICAgRG93bnRvd24gVG9yb250byAyNiAgICBEb3dudG93biBUb3JvbnRvIDI3ICAgIERvd250b3duIFRvcm9udG8gMjggICAgRG93bnRvd24gVG9yb250byAyOSAgICBEb3dudG93biBUb3JvbnRvIDMwICAgIERvd250b3duIFRvcm9udG8gMzEgICAgICAgIFdlc3QgVG9yb250byAzMiAgICAgICAgV2VzdCBUb3JvbnRvIDMzICAgICAgICBXZXN0IFRvcm9udG8gMzQgICAgICAgIFdlc3QgVG9yb250byAzNSAgICAgICAgV2VzdCBUb3JvbnRvIDM2ICAgICAgICBXZXN0IFRvcm9udG8gMzcgICAgRG93bnRvd24gVG9yb250byAzOCAgICAgICAgRWFzdCBUb3JvbnRvIE5hbWU6IEJvcm91Z2gsIGR0eXBlOiBvYmplY3QgQ2x1c3RlciAyPC9kaXY+YClbMF07CiAgICAgICAgICAgIHBvcHVwXzJlMDMwYWI2YjViZTRjYTQ5MzAzNzVjM2ZkMDFiM2RjLnNldENvbnRlbnQoaHRtbF81ZTVhYTA3N2E0YjA0NzNlYTMxZDQxOWFhNDZkODMyOCk7CiAgICAgICAgCgogICAgICAgIGNpcmNsZV9tYXJrZXJfYmJhZGRkZGZhYmZlNDM2OWJjMWQ4MWFjMmZkMmU5MTguYmluZFBvcHVwKHBvcHVwXzJlMDMwYWI2YjViZTRjYTQ5MzAzNzVjM2ZkMDFiM2RjKQogICAgICAgIDsKCiAgICAgICAgCiAgICAKICAgIAogICAgICAgICAgICB2YXIgY2lyY2xlX21hcmtlcl8zOTU0MTA2YmNiOGU0ZWZiOTc0NmIzZTlmMDI4YjYyOSA9IEwuY2lyY2xlTWFya2VyKAogICAgICAgICAgICAgICAgWzQzLjY4NjQxMjI5OTk5OTk5LCAtNzkuNDAwMDQ5M10sCiAgICAgICAgICAgICAgICB7ImJ1YmJsaW5nTW91c2VFdmVudHMiOiB0cnVlLCAiY29sb3IiOiAiIzJhZGRkZCIsICJkYXNoQXJyYXkiOiBudWxsLCAiZGFzaE9mZnNldCI6IG51bGwsICJmaWxsIjogdHJ1ZSwgImZpbGxDb2xvciI6ICIjMmFkZGRkIiwgImZpbGxPcGFjaXR5IjogMC43LCAiZmlsbFJ1bGUiOiAiZXZlbm9kZCIsICJsaW5lQ2FwIjogInJvdW5kIiwgImxpbmVKb2luIjogInJvdW5kIiwgIm9wYWNpdHkiOiAxLjAsICJyYWRpdXMiOiA1LCAic3Ryb2tlIjogdHJ1ZSwgIndlaWdodCI6IDN9CiAgICAgICAgICAgICkuYWRkVG8obWFwX2M0MmQyOGM3ODliOTQ2ODNhYmQ1MzVhMzljNzg3ZjM2KTsKICAgICAgICAKICAgIAogICAgICAgIHZhciBwb3B1cF9jNDg4NjEwMzZjNGU0MjE2OTNmMjRmOGFjNzljZjdlMSA9IEwucG9wdXAoeyJtYXhXaWR0aCI6ICIxMDAlIn0pOwoKICAgICAgICAKICAgICAgICAgICAgdmFyIGh0bWxfN2I4NjVlZGE4YTYzNDVjNDhkNzUxNDVlOWI4ZmU0ZDYgPSAkKGA8ZGl2IGlkPSJodG1sXzdiODY1ZWRhOGE2MzQ1YzQ4ZDc1MTQ1ZTliOGZlNGQ2IiBzdHlsZT0id2lkdGg6IDEwMC4wJTsgaGVpZ2h0OiAxMDAuMCU7Ij4wICAgICAgICAgRWFzdCBUb3JvbnRvIDEgICAgICAgICBFYXN0IFRvcm9udG8gMiAgICAgICAgIEVhc3QgVG9yb250byAzICAgICAgICAgRWFzdCBUb3JvbnRvIDQgICAgICBDZW50cmFsIFRvcm9udG8gNSAgICAgIENlbnRyYWwgVG9yb250byA2ICAgICAgQ2VudHJhbCBUb3JvbnRvIDcgICAgICBDZW50cmFsIFRvcm9udG8gOCAgICAgIENlbnRyYWwgVG9yb250byA5ICAgICAgQ2VudHJhbCBUb3JvbnRvIDEwICAgIERvd250b3duIFRvcm9udG8gMTEgICAgRG93bnRvd24gVG9yb250byAxMiAgICBEb3dudG93biBUb3JvbnRvIDEzICAgIERvd250b3duIFRvcm9udG8gMTQgICAgRG93bnRvd24gVG9yb250byAxNSAgICBEb3dudG93biBUb3JvbnRvIDE2ICAgIERvd250b3duIFRvcm9udG8gMTcgICAgRG93bnRvd24gVG9yb250byAxOCAgICBEb3dudG93biBUb3JvbnRvIDE5ICAgIERvd250b3duIFRvcm9udG8gMjAgICAgRG93bnRvd24gVG9yb250byAyMSAgICBEb3dudG93biBUb3JvbnRvIDIyICAgICBDZW50cmFsIFRvcm9udG8gMjMgICAgIENlbnRyYWwgVG9yb250byAyNCAgICAgQ2VudHJhbCBUb3JvbnRvIDI1ICAgIERvd250b3duIFRvcm9udG8gMjYgICAgRG93bnRvd24gVG9yb250byAyNyAgICBEb3dudG93biBUb3JvbnRvIDI4ICAgIERvd250b3duIFRvcm9udG8gMjkgICAgRG93bnRvd24gVG9yb250byAzMCAgICBEb3dudG93biBUb3JvbnRvIDMxICAgICAgICBXZXN0IFRvcm9udG8gMzIgICAgICAgIFdlc3QgVG9yb250byAzMyAgICAgICAgV2VzdCBUb3JvbnRvIDM0ICAgICAgICBXZXN0IFRvcm9udG8gMzUgICAgICAgIFdlc3QgVG9yb250byAzNiAgICAgICAgV2VzdCBUb3JvbnRvIDM3ICAgIERvd250b3duIFRvcm9udG8gMzggICAgICAgIEVhc3QgVG9yb250byBOYW1lOiBCb3JvdWdoLCBkdHlwZTogb2JqZWN0IENsdXN0ZXIgMjwvZGl2PmApWzBdOwogICAgICAgICAgICBwb3B1cF9jNDg4NjEwMzZjNGU0MjE2OTNmMjRmOGFjNzljZjdlMS5zZXRDb250ZW50KGh0bWxfN2I4NjVlZGE4YTYzNDVjNDhkNzUxNDVlOWI4ZmU0ZDYpOwogICAgICAgIAoKICAgICAgICBjaXJjbGVfbWFya2VyXzM5NTQxMDZiY2I4ZTRlZmI5NzQ2YjNlOWYwMjhiNjI5LmJpbmRQb3B1cChwb3B1cF9jNDg4NjEwMzZjNGU0MjE2OTNmMjRmOGFjNzljZjdlMSkKICAgICAgICA7CgogICAgICAgIAogICAgCiAgICAKICAgICAgICAgICAgdmFyIGNpcmNsZV9tYXJrZXJfYjlhMTJjNDE4YzA5NDYzOWEyYTg4YmI3MWY5NWNjMTMgPSBMLmNpcmNsZU1hcmtlcigKICAgICAgICAgICAgICAgIFs0My42Nzk1NjI2LCAtNzkuMzc3NTI5NDAwMDAwMDFdLAogICAgICAgICAgICAgICAgeyJidWJibGluZ01vdXNlRXZlbnRzIjogdHJ1ZSwgImNvbG9yIjogIiM4MDAwZmYiLCAiZGFzaEFycmF5IjogbnVsbCwgImRhc2hPZmZzZXQiOiBudWxsLCAiZmlsbCI6IHRydWUsICJmaWxsQ29sb3IiOiAiIzgwMDBmZiIsICJmaWxsT3BhY2l0eSI6IDAuNywgImZpbGxSdWxlIjogImV2ZW5vZGQiLCAibGluZUNhcCI6ICJyb3VuZCIsICJsaW5lSm9pbiI6ICJyb3VuZCIsICJvcGFjaXR5IjogMS4wLCAicmFkaXVzIjogNSwgInN0cm9rZSI6IHRydWUsICJ3ZWlnaHQiOiAzfQogICAgICAgICAgICApLmFkZFRvKG1hcF9jNDJkMjhjNzg5Yjk0NjgzYWJkNTM1YTM5Yzc4N2YzNik7CiAgICAgICAgCiAgICAKICAgICAgICB2YXIgcG9wdXBfMzE4NGVkZTBhMTdhNGE2OGE2ZDY4OTM5NGFlNTdlNTggPSBMLnBvcHVwKHsibWF4V2lkdGgiOiAiMTAwJSJ9KTsKCiAgICAgICAgCiAgICAgICAgICAgIHZhciBodG1sXzNlZTkxNjE0MGEyYjQ2MjBiZTc2NDViNmM1NjliMTQ1ID0gJChgPGRpdiBpZD0iaHRtbF8zZWU5MTYxNDBhMmI0NjIwYmU3NjQ1YjZjNTY5YjE0NSIgc3R5bGU9IndpZHRoOiAxMDAuMCU7IGhlaWdodDogMTAwLjAlOyI+MCAgICAgICAgIEVhc3QgVG9yb250byAxICAgICAgICAgRWFzdCBUb3JvbnRvIDIgICAgICAgICBFYXN0IFRvcm9udG8gMyAgICAgICAgIEVhc3QgVG9yb250byA0ICAgICAgQ2VudHJhbCBUb3JvbnRvIDUgICAgICBDZW50cmFsIFRvcm9udG8gNiAgICAgIENlbnRyYWwgVG9yb250byA3ICAgICAgQ2VudHJhbCBUb3JvbnRvIDggICAgICBDZW50cmFsIFRvcm9udG8gOSAgICAgIENlbnRyYWwgVG9yb250byAxMCAgICBEb3dudG93biBUb3JvbnRvIDExICAgIERvd250b3duIFRvcm9udG8gMTIgICAgRG93bnRvd24gVG9yb250byAxMyAgICBEb3dudG93biBUb3JvbnRvIDE0ICAgIERvd250b3duIFRvcm9udG8gMTUgICAgRG93bnRvd24gVG9yb250byAxNiAgICBEb3dudG93biBUb3JvbnRvIDE3ICAgIERvd250b3duIFRvcm9udG8gMTggICAgRG93bnRvd24gVG9yb250byAxOSAgICBEb3dudG93biBUb3JvbnRvIDIwICAgIERvd250b3duIFRvcm9udG8gMjEgICAgRG93bnRvd24gVG9yb250byAyMiAgICAgQ2VudHJhbCBUb3JvbnRvIDIzICAgICBDZW50cmFsIFRvcm9udG8gMjQgICAgIENlbnRyYWwgVG9yb250byAyNSAgICBEb3dudG93biBUb3JvbnRvIDI2ICAgIERvd250b3duIFRvcm9udG8gMjcgICAgRG93bnRvd24gVG9yb250byAyOCAgICBEb3dudG93biBUb3JvbnRvIDI5ICAgIERvd250b3duIFRvcm9udG8gMzAgICAgRG93bnRvd24gVG9yb250byAzMSAgICAgICAgV2VzdCBUb3JvbnRvIDMyICAgICAgICBXZXN0IFRvcm9udG8gMzMgICAgICAgIFdlc3QgVG9yb250byAzNCAgICAgICAgV2VzdCBUb3JvbnRvIDM1ICAgICAgICBXZXN0IFRvcm9udG8gMzYgICAgICAgIFdlc3QgVG9yb250byAzNyAgICBEb3dudG93biBUb3JvbnRvIDM4ICAgICAgICBFYXN0IFRvcm9udG8gTmFtZTogQm9yb3VnaCwgZHR5cGU6IG9iamVjdCBDbHVzdGVyIDE8L2Rpdj5gKVswXTsKICAgICAgICAgICAgcG9wdXBfMzE4NGVkZTBhMTdhNGE2OGE2ZDY4OTM5NGFlNTdlNTguc2V0Q29udGVudChodG1sXzNlZTkxNjE0MGEyYjQ2MjBiZTc2NDViNmM1NjliMTQ1KTsKICAgICAgICAKCiAgICAgICAgY2lyY2xlX21hcmtlcl9iOWExMmM0MThjMDk0NjM5YTJhODhiYjcxZjk1Y2MxMy5iaW5kUG9wdXAocG9wdXBfMzE4NGVkZTBhMTdhNGE2OGE2ZDY4OTM5NGFlNTdlNTgpCiAgICAgICAgOwoKICAgICAgICAKICAgIAogICAgCiAgICAgICAgICAgIHZhciBjaXJjbGVfbWFya2VyX2E4M2Y2MTdjN2I1MDRjYThiMWJiY2M5ZjE4NjBlNTRkID0gTC5jaXJjbGVNYXJrZXIoCiAgICAgICAgICAgICAgICBbNDMuNjY3OTY3LCAtNzkuMzY3Njc1M10sCiAgICAgICAgICAgICAgICB7ImJ1YmJsaW5nTW91c2VFdmVudHMiOiB0cnVlLCAiY29sb3IiOiAiIzgwMDBmZiIsICJkYXNoQXJyYXkiOiBudWxsLCAiZGFzaE9mZnNldCI6IG51bGwsICJmaWxsIjogdHJ1ZSwgImZpbGxDb2xvciI6ICIjODAwMGZmIiwgImZpbGxPcGFjaXR5IjogMC43LCAiZmlsbFJ1bGUiOiAiZXZlbm9kZCIsICJsaW5lQ2FwIjogInJvdW5kIiwgImxpbmVKb2luIjogInJvdW5kIiwgIm9wYWNpdHkiOiAxLjAsICJyYWRpdXMiOiA1LCAic3Ryb2tlIjogdHJ1ZSwgIndlaWdodCI6IDN9CiAgICAgICAgICAgICkuYWRkVG8obWFwX2M0MmQyOGM3ODliOTQ2ODNhYmQ1MzVhMzljNzg3ZjM2KTsKICAgICAgICAKICAgIAogICAgICAgIHZhciBwb3B1cF85ZmIwYzM2MWZmZjU0MDJkYjNiY2M0NDhmNzdmZjg2NSA9IEwucG9wdXAoeyJtYXhXaWR0aCI6ICIxMDAlIn0pOwoKICAgICAgICAKICAgICAgICAgICAgdmFyIGh0bWxfZjU3NDJjOTY4OTc1NGNkNGJlNjkyNGY1NzNhYzhmNmYgPSAkKGA8ZGl2IGlkPSJodG1sX2Y1NzQyYzk2ODk3NTRjZDRiZTY5MjRmNTczYWM4ZjZmIiBzdHlsZT0id2lkdGg6IDEwMC4wJTsgaGVpZ2h0OiAxMDAuMCU7Ij4wICAgICAgICAgRWFzdCBUb3JvbnRvIDEgICAgICAgICBFYXN0IFRvcm9udG8gMiAgICAgICAgIEVhc3QgVG9yb250byAzICAgICAgICAgRWFzdCBUb3JvbnRvIDQgICAgICBDZW50cmFsIFRvcm9udG8gNSAgICAgIENlbnRyYWwgVG9yb250byA2ICAgICAgQ2VudHJhbCBUb3JvbnRvIDcgICAgICBDZW50cmFsIFRvcm9udG8gOCAgICAgIENlbnRyYWwgVG9yb250byA5ICAgICAgQ2VudHJhbCBUb3JvbnRvIDEwICAgIERvd250b3duIFRvcm9udG8gMTEgICAgRG93bnRvd24gVG9yb250byAxMiAgICBEb3dudG93biBUb3JvbnRvIDEzICAgIERvd250b3duIFRvcm9udG8gMTQgICAgRG93bnRvd24gVG9yb250byAxNSAgICBEb3dudG93biBUb3JvbnRvIDE2ICAgIERvd250b3duIFRvcm9udG8gMTcgICAgRG93bnRvd24gVG9yb250byAxOCAgICBEb3dudG93biBUb3JvbnRvIDE5ICAgIERvd250b3duIFRvcm9udG8gMjAgICAgRG93bnRvd24gVG9yb250byAyMSAgICBEb3dudG93biBUb3JvbnRvIDIyICAgICBDZW50cmFsIFRvcm9udG8gMjMgICAgIENlbnRyYWwgVG9yb250byAyNCAgICAgQ2VudHJhbCBUb3JvbnRvIDI1ICAgIERvd250b3duIFRvcm9udG8gMjYgICAgRG93bnRvd24gVG9yb250byAyNyAgICBEb3dudG93biBUb3JvbnRvIDI4ICAgIERvd250b3duIFRvcm9udG8gMjkgICAgRG93bnRvd24gVG9yb250byAzMCAgICBEb3dudG93biBUb3JvbnRvIDMxICAgICAgICBXZXN0IFRvcm9udG8gMzIgICAgICAgIFdlc3QgVG9yb250byAzMyAgICAgICAgV2VzdCBUb3JvbnRvIDM0ICAgICAgICBXZXN0IFRvcm9udG8gMzUgICAgICAgIFdlc3QgVG9yb250byAzNiAgICAgICAgV2VzdCBUb3JvbnRvIDM3ICAgIERvd250b3duIFRvcm9udG8gMzggICAgICAgIEVhc3QgVG9yb250byBOYW1lOiBCb3JvdWdoLCBkdHlwZTogb2JqZWN0IENsdXN0ZXIgMTwvZGl2PmApWzBdOwogICAgICAgICAgICBwb3B1cF85ZmIwYzM2MWZmZjU0MDJkYjNiY2M0NDhmNzdmZjg2NS5zZXRDb250ZW50KGh0bWxfZjU3NDJjOTY4OTc1NGNkNGJlNjkyNGY1NzNhYzhmNmYpOwogICAgICAgIAoKICAgICAgICBjaXJjbGVfbWFya2VyX2E4M2Y2MTdjN2I1MDRjYThiMWJiY2M5ZjE4NjBlNTRkLmJpbmRQb3B1cChwb3B1cF85ZmIwYzM2MWZmZjU0MDJkYjNiY2M0NDhmNzdmZjg2NSkKICAgICAgICA7CgogICAgICAgIAogICAgCiAgICAKICAgICAgICAgICAgdmFyIGNpcmNsZV9tYXJrZXJfNTFmYzU1MDFmMjM5NDhjNzkxMThhZDg4NzFhYmUxOGYgPSBMLmNpcmNsZU1hcmtlcigKICAgICAgICAgICAgICAgIFs0My42NjU4NTk5LCAtNzkuMzgzMTU5OTAwMDAwMDFdLAogICAgICAgICAgICAgICAgeyJidWJibGluZ01vdXNlRXZlbnRzIjogdHJ1ZSwgImNvbG9yIjogIiM4MDAwZmYiLCAiZGFzaEFycmF5IjogbnVsbCwgImRhc2hPZmZzZXQiOiBudWxsLCAiZmlsbCI6IHRydWUsICJmaWxsQ29sb3IiOiAiIzgwMDBmZiIsICJmaWxsT3BhY2l0eSI6IDAuNywgImZpbGxSdWxlIjogImV2ZW5vZGQiLCAibGluZUNhcCI6ICJyb3VuZCIsICJsaW5lSm9pbiI6ICJyb3VuZCIsICJvcGFjaXR5IjogMS4wLCAicmFkaXVzIjogNSwgInN0cm9rZSI6IHRydWUsICJ3ZWlnaHQiOiAzfQogICAgICAgICAgICApLmFkZFRvKG1hcF9jNDJkMjhjNzg5Yjk0NjgzYWJkNTM1YTM5Yzc4N2YzNik7CiAgICAgICAgCiAgICAKICAgICAgICB2YXIgcG9wdXBfYTI0YTNkNWMwNzczNDg4YjgwNjY0ZDA5OWI0OTMyOGIgPSBMLnBvcHVwKHsibWF4V2lkdGgiOiAiMTAwJSJ9KTsKCiAgICAgICAgCiAgICAgICAgICAgIHZhciBodG1sXzAwNTEzYWFiYjVjYjQ5MjI5MjJjY2Q4NGNiYWQ4NmU4ID0gJChgPGRpdiBpZD0iaHRtbF8wMDUxM2FhYmI1Y2I0OTIyOTIyY2NkODRjYmFkODZlOCIgc3R5bGU9IndpZHRoOiAxMDAuMCU7IGhlaWdodDogMTAwLjAlOyI+MCAgICAgICAgIEVhc3QgVG9yb250byAxICAgICAgICAgRWFzdCBUb3JvbnRvIDIgICAgICAgICBFYXN0IFRvcm9udG8gMyAgICAgICAgIEVhc3QgVG9yb250byA0ICAgICAgQ2VudHJhbCBUb3JvbnRvIDUgICAgICBDZW50cmFsIFRvcm9udG8gNiAgICAgIENlbnRyYWwgVG9yb250byA3ICAgICAgQ2VudHJhbCBUb3JvbnRvIDggICAgICBDZW50cmFsIFRvcm9udG8gOSAgICAgIENlbnRyYWwgVG9yb250byAxMCAgICBEb3dudG93biBUb3JvbnRvIDExICAgIERvd250b3duIFRvcm9udG8gMTIgICAgRG93bnRvd24gVG9yb250byAxMyAgICBEb3dudG93biBUb3JvbnRvIDE0ICAgIERvd250b3duIFRvcm9udG8gMTUgICAgRG93bnRvd24gVG9yb250byAxNiAgICBEb3dudG93biBUb3JvbnRvIDE3ICAgIERvd250b3duIFRvcm9udG8gMTggICAgRG93bnRvd24gVG9yb250byAxOSAgICBEb3dudG93biBUb3JvbnRvIDIwICAgIERvd250b3duIFRvcm9udG8gMjEgICAgRG93bnRvd24gVG9yb250byAyMiAgICAgQ2VudHJhbCBUb3JvbnRvIDIzICAgICBDZW50cmFsIFRvcm9udG8gMjQgICAgIENlbnRyYWwgVG9yb250byAyNSAgICBEb3dudG93biBUb3JvbnRvIDI2ICAgIERvd250b3duIFRvcm9udG8gMjcgICAgRG93bnRvd24gVG9yb250byAyOCAgICBEb3dudG93biBUb3JvbnRvIDI5ICAgIERvd250b3duIFRvcm9udG8gMzAgICAgRG93bnRvd24gVG9yb250byAzMSAgICAgICAgV2VzdCBUb3JvbnRvIDMyICAgICAgICBXZXN0IFRvcm9udG8gMzMgICAgICAgIFdlc3QgVG9yb250byAzNCAgICAgICAgV2VzdCBUb3JvbnRvIDM1ICAgICAgICBXZXN0IFRvcm9udG8gMzYgICAgICAgIFdlc3QgVG9yb250byAzNyAgICBEb3dudG93biBUb3JvbnRvIDM4ICAgICAgICBFYXN0IFRvcm9udG8gTmFtZTogQm9yb3VnaCwgZHR5cGU6IG9iamVjdCBDbHVzdGVyIDE8L2Rpdj5gKVswXTsKICAgICAgICAgICAgcG9wdXBfYTI0YTNkNWMwNzczNDg4YjgwNjY0ZDA5OWI0OTMyOGIuc2V0Q29udGVudChodG1sXzAwNTEzYWFiYjVjYjQ5MjI5MjJjY2Q4NGNiYWQ4NmU4KTsKICAgICAgICAKCiAgICAgICAgY2lyY2xlX21hcmtlcl81MWZjNTUwMWYyMzk0OGM3OTExOGFkODg3MWFiZTE4Zi5iaW5kUG9wdXAocG9wdXBfYTI0YTNkNWMwNzczNDg4YjgwNjY0ZDA5OWI0OTMyOGIpCiAgICAgICAgOwoKICAgICAgICAKICAgIAogICAgCiAgICAgICAgICAgIHZhciBjaXJjbGVfbWFya2VyX2MyOTdmZTZlMWZhMjQ4ZmU5NjFlN2M3MzQzOWQ3MjhkID0gTC5jaXJjbGVNYXJrZXIoCiAgICAgICAgICAgICAgICBbNDMuNjU0MjU5OSwgLTc5LjM2MDYzNTldLAogICAgICAgICAgICAgICAgeyJidWJibGluZ01vdXNlRXZlbnRzIjogdHJ1ZSwgImNvbG9yIjogIiM4MDAwZmYiLCAiZGFzaEFycmF5IjogbnVsbCwgImRhc2hPZmZzZXQiOiBudWxsLCAiZmlsbCI6IHRydWUsICJmaWxsQ29sb3IiOiAiIzgwMDBmZiIsICJmaWxsT3BhY2l0eSI6IDAuNywgImZpbGxSdWxlIjogImV2ZW5vZGQiLCAibGluZUNhcCI6ICJyb3VuZCIsICJsaW5lSm9pbiI6ICJyb3VuZCIsICJvcGFjaXR5IjogMS4wLCAicmFkaXVzIjogNSwgInN0cm9rZSI6IHRydWUsICJ3ZWlnaHQiOiAzfQogICAgICAgICAgICApLmFkZFRvKG1hcF9jNDJkMjhjNzg5Yjk0NjgzYWJkNTM1YTM5Yzc4N2YzNik7CiAgICAgICAgCiAgICAKICAgICAgICB2YXIgcG9wdXBfZTJhOWYzNTQ0ZjJkNDllYjlmYzI3YzM2MTFjZGUwNjMgPSBMLnBvcHVwKHsibWF4V2lkdGgiOiAiMTAwJSJ9KTsKCiAgICAgICAgCiAgICAgICAgICAgIHZhciBodG1sX2M3ZDllY2JkMTBhYTQ3YjU5YzI0M2E5MzU1Y2VmZGMyID0gJChgPGRpdiBpZD0iaHRtbF9jN2Q5ZWNiZDEwYWE0N2I1OWMyNDNhOTM1NWNlZmRjMiIgc3R5bGU9IndpZHRoOiAxMDAuMCU7IGhlaWdodDogMTAwLjAlOyI+MCAgICAgICAgIEVhc3QgVG9yb250byAxICAgICAgICAgRWFzdCBUb3JvbnRvIDIgICAgICAgICBFYXN0IFRvcm9udG8gMyAgICAgICAgIEVhc3QgVG9yb250byA0ICAgICAgQ2VudHJhbCBUb3JvbnRvIDUgICAgICBDZW50cmFsIFRvcm9udG8gNiAgICAgIENlbnRyYWwgVG9yb250byA3ICAgICAgQ2VudHJhbCBUb3JvbnRvIDggICAgICBDZW50cmFsIFRvcm9udG8gOSAgICAgIENlbnRyYWwgVG9yb250byAxMCAgICBEb3dudG93biBUb3JvbnRvIDExICAgIERvd250b3duIFRvcm9udG8gMTIgICAgRG93bnRvd24gVG9yb250byAxMyAgICBEb3dudG93biBUb3JvbnRvIDE0ICAgIERvd250b3duIFRvcm9udG8gMTUgICAgRG93bnRvd24gVG9yb250byAxNiAgICBEb3dudG93biBUb3JvbnRvIDE3ICAgIERvd250b3duIFRvcm9udG8gMTggICAgRG93bnRvd24gVG9yb250byAxOSAgICBEb3dudG93biBUb3JvbnRvIDIwICAgIERvd250b3duIFRvcm9udG8gMjEgICAgRG93bnRvd24gVG9yb250byAyMiAgICAgQ2VudHJhbCBUb3JvbnRvIDIzICAgICBDZW50cmFsIFRvcm9udG8gMjQgICAgIENlbnRyYWwgVG9yb250byAyNSAgICBEb3dudG93biBUb3JvbnRvIDI2ICAgIERvd250b3duIFRvcm9udG8gMjcgICAgRG93bnRvd24gVG9yb250byAyOCAgICBEb3dudG93biBUb3JvbnRvIDI5ICAgIERvd250b3duIFRvcm9udG8gMzAgICAgRG93bnRvd24gVG9yb250byAzMSAgICAgICAgV2VzdCBUb3JvbnRvIDMyICAgICAgICBXZXN0IFRvcm9udG8gMzMgICAgICAgIFdlc3QgVG9yb250byAzNCAgICAgICAgV2VzdCBUb3JvbnRvIDM1ICAgICAgICBXZXN0IFRvcm9udG8gMzYgICAgICAgIFdlc3QgVG9yb250byAzNyAgICBEb3dudG93biBUb3JvbnRvIDM4ICAgICAgICBFYXN0IFRvcm9udG8gTmFtZTogQm9yb3VnaCwgZHR5cGU6IG9iamVjdCBDbHVzdGVyIDE8L2Rpdj5gKVswXTsKICAgICAgICAgICAgcG9wdXBfZTJhOWYzNTQ0ZjJkNDllYjlmYzI3YzM2MTFjZGUwNjMuc2V0Q29udGVudChodG1sX2M3ZDllY2JkMTBhYTQ3YjU5YzI0M2E5MzU1Y2VmZGMyKTsKICAgICAgICAKCiAgICAgICAgY2lyY2xlX21hcmtlcl9jMjk3ZmU2ZTFmYTI0OGZlOTYxZTdjNzM0MzlkNzI4ZC5iaW5kUG9wdXAocG9wdXBfZTJhOWYzNTQ0ZjJkNDllYjlmYzI3YzM2MTFjZGUwNjMpCiAgICAgICAgOwoKICAgICAgICAKICAgIAogICAgCiAgICAgICAgICAgIHZhciBjaXJjbGVfbWFya2VyX2QwOWMwOWQwY2U0YTQ4NWY4ZGIxNThiODZmMGY2NmFhID0gTC5jaXJjbGVNYXJrZXIoCiAgICAgICAgICAgICAgICBbNDMuNjU3MTYxOCwgLTc5LjM3ODkzNzA5OTk5OTk5XSwKICAgICAgICAgICAgICAgIHsiYnViYmxpbmdNb3VzZUV2ZW50cyI6IHRydWUsICJjb2xvciI6ICIjODAwMGZmIiwgImRhc2hBcnJheSI6IG51bGwsICJkYXNoT2Zmc2V0IjogbnVsbCwgImZpbGwiOiB0cnVlLCAiZmlsbENvbG9yIjogIiM4MDAwZmYiLCAiZmlsbE9wYWNpdHkiOiAwLjcsICJmaWxsUnVsZSI6ICJldmVub2RkIiwgImxpbmVDYXAiOiAicm91bmQiLCAibGluZUpvaW4iOiAicm91bmQiLCAib3BhY2l0eSI6IDEuMCwgInJhZGl1cyI6IDUsICJzdHJva2UiOiB0cnVlLCAid2VpZ2h0IjogM30KICAgICAgICAgICAgKS5hZGRUbyhtYXBfYzQyZDI4Yzc4OWI5NDY4M2FiZDUzNWEzOWM3ODdmMzYpOwogICAgICAgIAogICAgCiAgICAgICAgdmFyIHBvcHVwX2EyYjBjMDY5MmE0ZTQwMTQ4NTAzYzU1NThlOGMxM2RhID0gTC5wb3B1cCh7Im1heFdpZHRoIjogIjEwMCUifSk7CgogICAgICAgIAogICAgICAgICAgICB2YXIgaHRtbF80MDI3ZmNhZmQwMzk0N2JhYjJhZWI3OTdhZjEwZjM1MCA9ICQoYDxkaXYgaWQ9Imh0bWxfNDAyN2ZjYWZkMDM5NDdiYWIyYWViNzk3YWYxMGYzNTAiIHN0eWxlPSJ3aWR0aDogMTAwLjAlOyBoZWlnaHQ6IDEwMC4wJTsiPjAgICAgICAgICBFYXN0IFRvcm9udG8gMSAgICAgICAgIEVhc3QgVG9yb250byAyICAgICAgICAgRWFzdCBUb3JvbnRvIDMgICAgICAgICBFYXN0IFRvcm9udG8gNCAgICAgIENlbnRyYWwgVG9yb250byA1ICAgICAgQ2VudHJhbCBUb3JvbnRvIDYgICAgICBDZW50cmFsIFRvcm9udG8gNyAgICAgIENlbnRyYWwgVG9yb250byA4ICAgICAgQ2VudHJhbCBUb3JvbnRvIDkgICAgICBDZW50cmFsIFRvcm9udG8gMTAgICAgRG93bnRvd24gVG9yb250byAxMSAgICBEb3dudG93biBUb3JvbnRvIDEyICAgIERvd250b3duIFRvcm9udG8gMTMgICAgRG93bnRvd24gVG9yb250byAxNCAgICBEb3dudG93biBUb3JvbnRvIDE1ICAgIERvd250b3duIFRvcm9udG8gMTYgICAgRG93bnRvd24gVG9yb250byAxNyAgICBEb3dudG93biBUb3JvbnRvIDE4ICAgIERvd250b3duIFRvcm9udG8gMTkgICAgRG93bnRvd24gVG9yb250byAyMCAgICBEb3dudG93biBUb3JvbnRvIDIxICAgIERvd250b3duIFRvcm9udG8gMjIgICAgIENlbnRyYWwgVG9yb250byAyMyAgICAgQ2VudHJhbCBUb3JvbnRvIDI0ICAgICBDZW50cmFsIFRvcm9udG8gMjUgICAgRG93bnRvd24gVG9yb250byAyNiAgICBEb3dudG93biBUb3JvbnRvIDI3ICAgIERvd250b3duIFRvcm9udG8gMjggICAgRG93bnRvd24gVG9yb250byAyOSAgICBEb3dudG93biBUb3JvbnRvIDMwICAgIERvd250b3duIFRvcm9udG8gMzEgICAgICAgIFdlc3QgVG9yb250byAzMiAgICAgICAgV2VzdCBUb3JvbnRvIDMzICAgICAgICBXZXN0IFRvcm9udG8gMzQgICAgICAgIFdlc3QgVG9yb250byAzNSAgICAgICAgV2VzdCBUb3JvbnRvIDM2ICAgICAgICBXZXN0IFRvcm9udG8gMzcgICAgRG93bnRvd24gVG9yb250byAzOCAgICAgICAgRWFzdCBUb3JvbnRvIE5hbWU6IEJvcm91Z2gsIGR0eXBlOiBvYmplY3QgQ2x1c3RlciAxPC9kaXY+YClbMF07CiAgICAgICAgICAgIHBvcHVwX2EyYjBjMDY5MmE0ZTQwMTQ4NTAzYzU1NThlOGMxM2RhLnNldENvbnRlbnQoaHRtbF80MDI3ZmNhZmQwMzk0N2JhYjJhZWI3OTdhZjEwZjM1MCk7CiAgICAgICAgCgogICAgICAgIGNpcmNsZV9tYXJrZXJfZDA5YzA5ZDBjZTRhNDg1ZjhkYjE1OGI4NmYwZjY2YWEuYmluZFBvcHVwKHBvcHVwX2EyYjBjMDY5MmE0ZTQwMTQ4NTAzYzU1NThlOGMxM2RhKQogICAgICAgIDsKCiAgICAgICAgCiAgICAKICAgIAogICAgICAgICAgICB2YXIgY2lyY2xlX21hcmtlcl84ZWE3MGMwZjczNzA0YmQ4OWZhM2EwNWQxMWRkOWQ3YSA9IEwuY2lyY2xlTWFya2VyKAogICAgICAgICAgICAgICAgWzQzLjY1MTQ5MzksIC03OS4zNzU0MTc5XSwKICAgICAgICAgICAgICAgIHsiYnViYmxpbmdNb3VzZUV2ZW50cyI6IHRydWUsICJjb2xvciI6ICIjODAwMGZmIiwgImRhc2hBcnJheSI6IG51bGwsICJkYXNoT2Zmc2V0IjogbnVsbCwgImZpbGwiOiB0cnVlLCAiZmlsbENvbG9yIjogIiM4MDAwZmYiLCAiZmlsbE9wYWNpdHkiOiAwLjcsICJmaWxsUnVsZSI6ICJldmVub2RkIiwgImxpbmVDYXAiOiAicm91bmQiLCAibGluZUpvaW4iOiAicm91bmQiLCAib3BhY2l0eSI6IDEuMCwgInJhZGl1cyI6IDUsICJzdHJva2UiOiB0cnVlLCAid2VpZ2h0IjogM30KICAgICAgICAgICAgKS5hZGRUbyhtYXBfYzQyZDI4Yzc4OWI5NDY4M2FiZDUzNWEzOWM3ODdmMzYpOwogICAgICAgIAogICAgCiAgICAgICAgdmFyIHBvcHVwXzAxNzQ1ZGM0ZGJkYzRkMTVhOTc0NzJmMjZhZjgwZDQ3ID0gTC5wb3B1cCh7Im1heFdpZHRoIjogIjEwMCUifSk7CgogICAgICAgIAogICAgICAgICAgICB2YXIgaHRtbF9mNGYwNDAwYTljYmE0N2RjYTE1NTU5OWFlMTUxZTQ5NiA9ICQoYDxkaXYgaWQ9Imh0bWxfZjRmMDQwMGE5Y2JhNDdkY2ExNTU1OTlhZTE1MWU0OTYiIHN0eWxlPSJ3aWR0aDogMTAwLjAlOyBoZWlnaHQ6IDEwMC4wJTsiPjAgICAgICAgICBFYXN0IFRvcm9udG8gMSAgICAgICAgIEVhc3QgVG9yb250byAyICAgICAgICAgRWFzdCBUb3JvbnRvIDMgICAgICAgICBFYXN0IFRvcm9udG8gNCAgICAgIENlbnRyYWwgVG9yb250byA1ICAgICAgQ2VudHJhbCBUb3JvbnRvIDYgICAgICBDZW50cmFsIFRvcm9udG8gNyAgICAgIENlbnRyYWwgVG9yb250byA4ICAgICAgQ2VudHJhbCBUb3JvbnRvIDkgICAgICBDZW50cmFsIFRvcm9udG8gMTAgICAgRG93bnRvd24gVG9yb250byAxMSAgICBEb3dudG93biBUb3JvbnRvIDEyICAgIERvd250b3duIFRvcm9udG8gMTMgICAgRG93bnRvd24gVG9yb250byAxNCAgICBEb3dudG93biBUb3JvbnRvIDE1ICAgIERvd250b3duIFRvcm9udG8gMTYgICAgRG93bnRvd24gVG9yb250byAxNyAgICBEb3dudG93biBUb3JvbnRvIDE4ICAgIERvd250b3duIFRvcm9udG8gMTkgICAgRG93bnRvd24gVG9yb250byAyMCAgICBEb3dudG93biBUb3JvbnRvIDIxICAgIERvd250b3duIFRvcm9udG8gMjIgICAgIENlbnRyYWwgVG9yb250byAyMyAgICAgQ2VudHJhbCBUb3JvbnRvIDI0ICAgICBDZW50cmFsIFRvcm9udG8gMjUgICAgRG93bnRvd24gVG9yb250byAyNiAgICBEb3dudG93biBUb3JvbnRvIDI3ICAgIERvd250b3duIFRvcm9udG8gMjggICAgRG93bnRvd24gVG9yb250byAyOSAgICBEb3dudG93biBUb3JvbnRvIDMwICAgIERvd250b3duIFRvcm9udG8gMzEgICAgICAgIFdlc3QgVG9yb250byAzMiAgICAgICAgV2VzdCBUb3JvbnRvIDMzICAgICAgICBXZXN0IFRvcm9udG8gMzQgICAgICAgIFdlc3QgVG9yb250byAzNSAgICAgICAgV2VzdCBUb3JvbnRvIDM2ICAgICAgICBXZXN0IFRvcm9udG8gMzcgICAgRG93bnRvd24gVG9yb250byAzOCAgICAgICAgRWFzdCBUb3JvbnRvIE5hbWU6IEJvcm91Z2gsIGR0eXBlOiBvYmplY3QgQ2x1c3RlciAxPC9kaXY+YClbMF07CiAgICAgICAgICAgIHBvcHVwXzAxNzQ1ZGM0ZGJkYzRkMTVhOTc0NzJmMjZhZjgwZDQ3LnNldENvbnRlbnQoaHRtbF9mNGYwNDAwYTljYmE0N2RjYTE1NTU5OWFlMTUxZTQ5Nik7CiAgICAgICAgCgogICAgICAgIGNpcmNsZV9tYXJrZXJfOGVhNzBjMGY3MzcwNGJkODlmYTNhMDVkMTFkZDlkN2EuYmluZFBvcHVwKHBvcHVwXzAxNzQ1ZGM0ZGJkYzRkMTVhOTc0NzJmMjZhZjgwZDQ3KQogICAgICAgIDsKCiAgICAgICAgCiAgICAKICAgIAogICAgICAgICAgICB2YXIgY2lyY2xlX21hcmtlcl9mNjM1MTA2YjE0OWE0NTFmYmNjMzg4NDU2MjQ0MThmOSA9IEwuY2lyY2xlTWFya2VyKAogICAgICAgICAgICAgICAgWzQzLjY0NDc3MDc5OTk5OTk5NiwgLTc5LjM3MzMwNjRdLAogICAgICAgICAgICAgICAgeyJidWJibGluZ01vdXNlRXZlbnRzIjogdHJ1ZSwgImNvbG9yIjogIiM4MDAwZmYiLCAiZGFzaEFycmF5IjogbnVsbCwgImRhc2hPZmZzZXQiOiBudWxsLCAiZmlsbCI6IHRydWUsICJmaWxsQ29sb3IiOiAiIzgwMDBmZiIsICJmaWxsT3BhY2l0eSI6IDAuNywgImZpbGxSdWxlIjogImV2ZW5vZGQiLCAibGluZUNhcCI6ICJyb3VuZCIsICJsaW5lSm9pbiI6ICJyb3VuZCIsICJvcGFjaXR5IjogMS4wLCAicmFkaXVzIjogNSwgInN0cm9rZSI6IHRydWUsICJ3ZWlnaHQiOiAzfQogICAgICAgICAgICApLmFkZFRvKG1hcF9jNDJkMjhjNzg5Yjk0NjgzYWJkNTM1YTM5Yzc4N2YzNik7CiAgICAgICAgCiAgICAKICAgICAgICB2YXIgcG9wdXBfYTA3MTkzNzAzZWU4NDQ5MDhjZDA2NmQyMGNmZTI2ZGYgPSBMLnBvcHVwKHsibWF4V2lkdGgiOiAiMTAwJSJ9KTsKCiAgICAgICAgCiAgICAgICAgICAgIHZhciBodG1sXzAwYTYyMGE4YTNmNzRkOGFiODk2ZjEzZTYxMDI0YzQ2ID0gJChgPGRpdiBpZD0iaHRtbF8wMGE2MjBhOGEzZjc0ZDhhYjg5NmYxM2U2MTAyNGM0NiIgc3R5bGU9IndpZHRoOiAxMDAuMCU7IGhlaWdodDogMTAwLjAlOyI+MCAgICAgICAgIEVhc3QgVG9yb250byAxICAgICAgICAgRWFzdCBUb3JvbnRvIDIgICAgICAgICBFYXN0IFRvcm9udG8gMyAgICAgICAgIEVhc3QgVG9yb250byA0ICAgICAgQ2VudHJhbCBUb3JvbnRvIDUgICAgICBDZW50cmFsIFRvcm9udG8gNiAgICAgIENlbnRyYWwgVG9yb250byA3ICAgICAgQ2VudHJhbCBUb3JvbnRvIDggICAgICBDZW50cmFsIFRvcm9udG8gOSAgICAgIENlbnRyYWwgVG9yb250byAxMCAgICBEb3dudG93biBUb3JvbnRvIDExICAgIERvd250b3duIFRvcm9udG8gMTIgICAgRG93bnRvd24gVG9yb250byAxMyAgICBEb3dudG93biBUb3JvbnRvIDE0ICAgIERvd250b3duIFRvcm9udG8gMTUgICAgRG93bnRvd24gVG9yb250byAxNiAgICBEb3dudG93biBUb3JvbnRvIDE3ICAgIERvd250b3duIFRvcm9udG8gMTggICAgRG93bnRvd24gVG9yb250byAxOSAgICBEb3dudG93biBUb3JvbnRvIDIwICAgIERvd250b3duIFRvcm9udG8gMjEgICAgRG93bnRvd24gVG9yb250byAyMiAgICAgQ2VudHJhbCBUb3JvbnRvIDIzICAgICBDZW50cmFsIFRvcm9udG8gMjQgICAgIENlbnRyYWwgVG9yb250byAyNSAgICBEb3dudG93biBUb3JvbnRvIDI2ICAgIERvd250b3duIFRvcm9udG8gMjcgICAgRG93bnRvd24gVG9yb250byAyOCAgICBEb3dudG93biBUb3JvbnRvIDI5ICAgIERvd250b3duIFRvcm9udG8gMzAgICAgRG93bnRvd24gVG9yb250byAzMSAgICAgICAgV2VzdCBUb3JvbnRvIDMyICAgICAgICBXZXN0IFRvcm9udG8gMzMgICAgICAgIFdlc3QgVG9yb250byAzNCAgICAgICAgV2VzdCBUb3JvbnRvIDM1ICAgICAgICBXZXN0IFRvcm9udG8gMzYgICAgICAgIFdlc3QgVG9yb250byAzNyAgICBEb3dudG93biBUb3JvbnRvIDM4ICAgICAgICBFYXN0IFRvcm9udG8gTmFtZTogQm9yb3VnaCwgZHR5cGU6IG9iamVjdCBDbHVzdGVyIDE8L2Rpdj5gKVswXTsKICAgICAgICAgICAgcG9wdXBfYTA3MTkzNzAzZWU4NDQ5MDhjZDA2NmQyMGNmZTI2ZGYuc2V0Q29udGVudChodG1sXzAwYTYyMGE4YTNmNzRkOGFiODk2ZjEzZTYxMDI0YzQ2KTsKICAgICAgICAKCiAgICAgICAgY2lyY2xlX21hcmtlcl9mNjM1MTA2YjE0OWE0NTFmYmNjMzg4NDU2MjQ0MThmOS5iaW5kUG9wdXAocG9wdXBfYTA3MTkzNzAzZWU4NDQ5MDhjZDA2NmQyMGNmZTI2ZGYpCiAgICAgICAgOwoKICAgICAgICAKICAgIAogICAgCiAgICAgICAgICAgIHZhciBjaXJjbGVfbWFya2VyX2JjNzE2NzMzMmI3YzQ1Mjc4NDdjOTAxOWQzNjdiZjkyID0gTC5jaXJjbGVNYXJrZXIoCiAgICAgICAgICAgICAgICBbNDMuNjU3OTUyNCwgLTc5LjM4NzM4MjZdLAogICAgICAgICAgICAgICAgeyJidWJibGluZ01vdXNlRXZlbnRzIjogdHJ1ZSwgImNvbG9yIjogIiM4MDAwZmYiLCAiZGFzaEFycmF5IjogbnVsbCwgImRhc2hPZmZzZXQiOiBudWxsLCAiZmlsbCI6IHRydWUsICJmaWxsQ29sb3IiOiAiIzgwMDBmZiIsICJmaWxsT3BhY2l0eSI6IDAuNywgImZpbGxSdWxlIjogImV2ZW5vZGQiLCAibGluZUNhcCI6ICJyb3VuZCIsICJsaW5lSm9pbiI6ICJyb3VuZCIsICJvcGFjaXR5IjogMS4wLCAicmFkaXVzIjogNSwgInN0cm9rZSI6IHRydWUsICJ3ZWlnaHQiOiAzfQogICAgICAgICAgICApLmFkZFRvKG1hcF9jNDJkMjhjNzg5Yjk0NjgzYWJkNTM1YTM5Yzc4N2YzNik7CiAgICAgICAgCiAgICAKICAgICAgICB2YXIgcG9wdXBfMzIxMTBmNDdjNzRiNGQ0Y2EzNDNlMGMzYjVlYWVjOTggPSBMLnBvcHVwKHsibWF4V2lkdGgiOiAiMTAwJSJ9KTsKCiAgICAgICAgCiAgICAgICAgICAgIHZhciBodG1sXzM4NjY2OTdhZTliNjQ1ZjQ5NDY1N2VhZjBkYTkwODgzID0gJChgPGRpdiBpZD0iaHRtbF8zODY2Njk3YWU5YjY0NWY0OTQ2NTdlYWYwZGE5MDg4MyIgc3R5bGU9IndpZHRoOiAxMDAuMCU7IGhlaWdodDogMTAwLjAlOyI+MCAgICAgICAgIEVhc3QgVG9yb250byAxICAgICAgICAgRWFzdCBUb3JvbnRvIDIgICAgICAgICBFYXN0IFRvcm9udG8gMyAgICAgICAgIEVhc3QgVG9yb250byA0ICAgICAgQ2VudHJhbCBUb3JvbnRvIDUgICAgICBDZW50cmFsIFRvcm9udG8gNiAgICAgIENlbnRyYWwgVG9yb250byA3ICAgICAgQ2VudHJhbCBUb3JvbnRvIDggICAgICBDZW50cmFsIFRvcm9udG8gOSAgICAgIENlbnRyYWwgVG9yb250byAxMCAgICBEb3dudG93biBUb3JvbnRvIDExICAgIERvd250b3duIFRvcm9udG8gMTIgICAgRG93bnRvd24gVG9yb250byAxMyAgICBEb3dudG93biBUb3JvbnRvIDE0ICAgIERvd250b3duIFRvcm9udG8gMTUgICAgRG93bnRvd24gVG9yb250byAxNiAgICBEb3dudG93biBUb3JvbnRvIDE3ICAgIERvd250b3duIFRvcm9udG8gMTggICAgRG93bnRvd24gVG9yb250byAxOSAgICBEb3dudG93biBUb3JvbnRvIDIwICAgIERvd250b3duIFRvcm9udG8gMjEgICAgRG93bnRvd24gVG9yb250byAyMiAgICAgQ2VudHJhbCBUb3JvbnRvIDIzICAgICBDZW50cmFsIFRvcm9udG8gMjQgICAgIENlbnRyYWwgVG9yb250byAyNSAgICBEb3dudG93biBUb3JvbnRvIDI2ICAgIERvd250b3duIFRvcm9udG8gMjcgICAgRG93bnRvd24gVG9yb250byAyOCAgICBEb3dudG93biBUb3JvbnRvIDI5ICAgIERvd250b3duIFRvcm9udG8gMzAgICAgRG93bnRvd24gVG9yb250byAzMSAgICAgICAgV2VzdCBUb3JvbnRvIDMyICAgICAgICBXZXN0IFRvcm9udG8gMzMgICAgICAgIFdlc3QgVG9yb250byAzNCAgICAgICAgV2VzdCBUb3JvbnRvIDM1ICAgICAgICBXZXN0IFRvcm9udG8gMzYgICAgICAgIFdlc3QgVG9yb250byAzNyAgICBEb3dudG93biBUb3JvbnRvIDM4ICAgICAgICBFYXN0IFRvcm9udG8gTmFtZTogQm9yb3VnaCwgZHR5cGU6IG9iamVjdCBDbHVzdGVyIDE8L2Rpdj5gKVswXTsKICAgICAgICAgICAgcG9wdXBfMzIxMTBmNDdjNzRiNGQ0Y2EzNDNlMGMzYjVlYWVjOTguc2V0Q29udGVudChodG1sXzM4NjY2OTdhZTliNjQ1ZjQ5NDY1N2VhZjBkYTkwODgzKTsKICAgICAgICAKCiAgICAgICAgY2lyY2xlX21hcmtlcl9iYzcxNjczMzJiN2M0NTI3ODQ3YzkwMTlkMzY3YmY5Mi5iaW5kUG9wdXAocG9wdXBfMzIxMTBmNDdjNzRiNGQ0Y2EzNDNlMGMzYjVlYWVjOTgpCiAgICAgICAgOwoKICAgICAgICAKICAgIAogICAgCiAgICAgICAgICAgIHZhciBjaXJjbGVfbWFya2VyX2UyMTU3MGVmZGVlNzQ3NWRiM2ViYThiZjQxMTgyOWEzID0gTC5jaXJjbGVNYXJrZXIoCiAgICAgICAgICAgICAgICBbNDMuNjUwNTcxMjAwMDAwMDEsIC03OS4zODQ1Njc1XSwKICAgICAgICAgICAgICAgIHsiYnViYmxpbmdNb3VzZUV2ZW50cyI6IHRydWUsICJjb2xvciI6ICIjODAwMGZmIiwgImRhc2hBcnJheSI6IG51bGwsICJkYXNoT2Zmc2V0IjogbnVsbCwgImZpbGwiOiB0cnVlLCAiZmlsbENvbG9yIjogIiM4MDAwZmYiLCAiZmlsbE9wYWNpdHkiOiAwLjcsICJmaWxsUnVsZSI6ICJldmVub2RkIiwgImxpbmVDYXAiOiAicm91bmQiLCAibGluZUpvaW4iOiAicm91bmQiLCAib3BhY2l0eSI6IDEuMCwgInJhZGl1cyI6IDUsICJzdHJva2UiOiB0cnVlLCAid2VpZ2h0IjogM30KICAgICAgICAgICAgKS5hZGRUbyhtYXBfYzQyZDI4Yzc4OWI5NDY4M2FiZDUzNWEzOWM3ODdmMzYpOwogICAgICAgIAogICAgCiAgICAgICAgdmFyIHBvcHVwX2ZlOTZmNjQxOTg2ZTRlMjg4Yzg0MzljZjJlYzZjZDNhID0gTC5wb3B1cCh7Im1heFdpZHRoIjogIjEwMCUifSk7CgogICAgICAgIAogICAgICAgICAgICB2YXIgaHRtbF8xMzM5NmI1NWEzNzQ0NzZhYjQ4ZWNhYTlhYjBiMTc4ZiA9ICQoYDxkaXYgaWQ9Imh0bWxfMTMzOTZiNTVhMzc0NDc2YWI0OGVjYWE5YWIwYjE3OGYiIHN0eWxlPSJ3aWR0aDogMTAwLjAlOyBoZWlnaHQ6IDEwMC4wJTsiPjAgICAgICAgICBFYXN0IFRvcm9udG8gMSAgICAgICAgIEVhc3QgVG9yb250byAyICAgICAgICAgRWFzdCBUb3JvbnRvIDMgICAgICAgICBFYXN0IFRvcm9udG8gNCAgICAgIENlbnRyYWwgVG9yb250byA1ICAgICAgQ2VudHJhbCBUb3JvbnRvIDYgICAgICBDZW50cmFsIFRvcm9udG8gNyAgICAgIENlbnRyYWwgVG9yb250byA4ICAgICAgQ2VudHJhbCBUb3JvbnRvIDkgICAgICBDZW50cmFsIFRvcm9udG8gMTAgICAgRG93bnRvd24gVG9yb250byAxMSAgICBEb3dudG93biBUb3JvbnRvIDEyICAgIERvd250b3duIFRvcm9udG8gMTMgICAgRG93bnRvd24gVG9yb250byAxNCAgICBEb3dudG93biBUb3JvbnRvIDE1ICAgIERvd250b3duIFRvcm9udG8gMTYgICAgRG93bnRvd24gVG9yb250byAxNyAgICBEb3dudG93biBUb3JvbnRvIDE4ICAgIERvd250b3duIFRvcm9udG8gMTkgICAgRG93bnRvd24gVG9yb250byAyMCAgICBEb3dudG93biBUb3JvbnRvIDIxICAgIERvd250b3duIFRvcm9udG8gMjIgICAgIENlbnRyYWwgVG9yb250byAyMyAgICAgQ2VudHJhbCBUb3JvbnRvIDI0ICAgICBDZW50cmFsIFRvcm9udG8gMjUgICAgRG93bnRvd24gVG9yb250byAyNiAgICBEb3dudG93biBUb3JvbnRvIDI3ICAgIERvd250b3duIFRvcm9udG8gMjggICAgRG93bnRvd24gVG9yb250byAyOSAgICBEb3dudG93biBUb3JvbnRvIDMwICAgIERvd250b3duIFRvcm9udG8gMzEgICAgICAgIFdlc3QgVG9yb250byAzMiAgICAgICAgV2VzdCBUb3JvbnRvIDMzICAgICAgICBXZXN0IFRvcm9udG8gMzQgICAgICAgIFdlc3QgVG9yb250byAzNSAgICAgICAgV2VzdCBUb3JvbnRvIDM2ICAgICAgICBXZXN0IFRvcm9udG8gMzcgICAgRG93bnRvd24gVG9yb250byAzOCAgICAgICAgRWFzdCBUb3JvbnRvIE5hbWU6IEJvcm91Z2gsIGR0eXBlOiBvYmplY3QgQ2x1c3RlciAxPC9kaXY+YClbMF07CiAgICAgICAgICAgIHBvcHVwX2ZlOTZmNjQxOTg2ZTRlMjg4Yzg0MzljZjJlYzZjZDNhLnNldENvbnRlbnQoaHRtbF8xMzM5NmI1NWEzNzQ0NzZhYjQ4ZWNhYTlhYjBiMTc4Zik7CiAgICAgICAgCgogICAgICAgIGNpcmNsZV9tYXJrZXJfZTIxNTcwZWZkZWU3NDc1ZGIzZWJhOGJmNDExODI5YTMuYmluZFBvcHVwKHBvcHVwX2ZlOTZmNjQxOTg2ZTRlMjg4Yzg0MzljZjJlYzZjZDNhKQogICAgICAgIDsKCiAgICAgICAgCiAgICAKICAgIAogICAgICAgICAgICB2YXIgY2lyY2xlX21hcmtlcl8zNDE4YjliZDk3OGY0M2YwYjQwZWViZDA2Y2M4NmViYSA9IEwuY2lyY2xlTWFya2VyKAogICAgICAgICAgICAgICAgWzQzLjY0MDgxNTcsIC03OS4zODE3NTIyOTk5OTk5OV0sCiAgICAgICAgICAgICAgICB7ImJ1YmJsaW5nTW91c2VFdmVudHMiOiB0cnVlLCAiY29sb3IiOiAiIzgwMDBmZiIsICJkYXNoQXJyYXkiOiBudWxsLCAiZGFzaE9mZnNldCI6IG51bGwsICJmaWxsIjogdHJ1ZSwgImZpbGxDb2xvciI6ICIjODAwMGZmIiwgImZpbGxPcGFjaXR5IjogMC43LCAiZmlsbFJ1bGUiOiAiZXZlbm9kZCIsICJsaW5lQ2FwIjogInJvdW5kIiwgImxpbmVKb2luIjogInJvdW5kIiwgIm9wYWNpdHkiOiAxLjAsICJyYWRpdXMiOiA1LCAic3Ryb2tlIjogdHJ1ZSwgIndlaWdodCI6IDN9CiAgICAgICAgICAgICkuYWRkVG8obWFwX2M0MmQyOGM3ODliOTQ2ODNhYmQ1MzVhMzljNzg3ZjM2KTsKICAgICAgICAKICAgIAogICAgICAgIHZhciBwb3B1cF8xZjY2ZWJlNzk4MGU0MDNjYjI2Mjk1NmI0OTIyNzVhYiA9IEwucG9wdXAoeyJtYXhXaWR0aCI6ICIxMDAlIn0pOwoKICAgICAgICAKICAgICAgICAgICAgdmFyIGh0bWxfZmU3NTM5OWYzOTZlNDk2OWFjNDkzNjlmYmYzYjExMDYgPSAkKGA8ZGl2IGlkPSJodG1sX2ZlNzUzOTlmMzk2ZTQ5NjlhYzQ5MzY5ZmJmM2IxMTA2IiBzdHlsZT0id2lkdGg6IDEwMC4wJTsgaGVpZ2h0OiAxMDAuMCU7Ij4wICAgICAgICAgRWFzdCBUb3JvbnRvIDEgICAgICAgICBFYXN0IFRvcm9udG8gMiAgICAgICAgIEVhc3QgVG9yb250byAzICAgICAgICAgRWFzdCBUb3JvbnRvIDQgICAgICBDZW50cmFsIFRvcm9udG8gNSAgICAgIENlbnRyYWwgVG9yb250byA2ICAgICAgQ2VudHJhbCBUb3JvbnRvIDcgICAgICBDZW50cmFsIFRvcm9udG8gOCAgICAgIENlbnRyYWwgVG9yb250byA5ICAgICAgQ2VudHJhbCBUb3JvbnRvIDEwICAgIERvd250b3duIFRvcm9udG8gMTEgICAgRG93bnRvd24gVG9yb250byAxMiAgICBEb3dudG93biBUb3JvbnRvIDEzICAgIERvd250b3duIFRvcm9udG8gMTQgICAgRG93bnRvd24gVG9yb250byAxNSAgICBEb3dudG93biBUb3JvbnRvIDE2ICAgIERvd250b3duIFRvcm9udG8gMTcgICAgRG93bnRvd24gVG9yb250byAxOCAgICBEb3dudG93biBUb3JvbnRvIDE5ICAgIERvd250b3duIFRvcm9udG8gMjAgICAgRG93bnRvd24gVG9yb250byAyMSAgICBEb3dudG93biBUb3JvbnRvIDIyICAgICBDZW50cmFsIFRvcm9udG8gMjMgICAgIENlbnRyYWwgVG9yb250byAyNCAgICAgQ2VudHJhbCBUb3JvbnRvIDI1ICAgIERvd250b3duIFRvcm9udG8gMjYgICAgRG93bnRvd24gVG9yb250byAyNyAgICBEb3dudG93biBUb3JvbnRvIDI4ICAgIERvd250b3duIFRvcm9udG8gMjkgICAgRG93bnRvd24gVG9yb250byAzMCAgICBEb3dudG93biBUb3JvbnRvIDMxICAgICAgICBXZXN0IFRvcm9udG8gMzIgICAgICAgIFdlc3QgVG9yb250byAzMyAgICAgICAgV2VzdCBUb3JvbnRvIDM0ICAgICAgICBXZXN0IFRvcm9udG8gMzUgICAgICAgIFdlc3QgVG9yb250byAzNiAgICAgICAgV2VzdCBUb3JvbnRvIDM3ICAgIERvd250b3duIFRvcm9udG8gMzggICAgICAgIEVhc3QgVG9yb250byBOYW1lOiBCb3JvdWdoLCBkdHlwZTogb2JqZWN0IENsdXN0ZXIgMTwvZGl2PmApWzBdOwogICAgICAgICAgICBwb3B1cF8xZjY2ZWJlNzk4MGU0MDNjYjI2Mjk1NmI0OTIyNzVhYi5zZXRDb250ZW50KGh0bWxfZmU3NTM5OWYzOTZlNDk2OWFjNDkzNjlmYmYzYjExMDYpOwogICAgICAgIAoKICAgICAgICBjaXJjbGVfbWFya2VyXzM0MThiOWJkOTc4ZjQzZjBiNDBlZWJkMDZjYzg2ZWJhLmJpbmRQb3B1cChwb3B1cF8xZjY2ZWJlNzk4MGU0MDNjYjI2Mjk1NmI0OTIyNzVhYikKICAgICAgICA7CgogICAgICAgIAogICAgCiAgICAKICAgICAgICAgICAgdmFyIGNpcmNsZV9tYXJrZXJfMWJlMmMzOGVjZjUwNDZiNWJlYjQ2NjE1NDc4NTA2ZDcgPSBMLmNpcmNsZU1hcmtlcigKICAgICAgICAgICAgICAgIFs0My42NDcxNzY4LCAtNzkuMzgxNTc2NDAwMDAwMDFdLAogICAgICAgICAgICAgICAgeyJidWJibGluZ01vdXNlRXZlbnRzIjogdHJ1ZSwgImNvbG9yIjogIiM4MDAwZmYiLCAiZGFzaEFycmF5IjogbnVsbCwgImRhc2hPZmZzZXQiOiBudWxsLCAiZmlsbCI6IHRydWUsICJmaWxsQ29sb3IiOiAiIzgwMDBmZiIsICJmaWxsT3BhY2l0eSI6IDAuNywgImZpbGxSdWxlIjogImV2ZW5vZGQiLCAibGluZUNhcCI6ICJyb3VuZCIsICJsaW5lSm9pbiI6ICJyb3VuZCIsICJvcGFjaXR5IjogMS4wLCAicmFkaXVzIjogNSwgInN0cm9rZSI6IHRydWUsICJ3ZWlnaHQiOiAzfQogICAgICAgICAgICApLmFkZFRvKG1hcF9jNDJkMjhjNzg5Yjk0NjgzYWJkNTM1YTM5Yzc4N2YzNik7CiAgICAgICAgCiAgICAKICAgICAgICB2YXIgcG9wdXBfM2JjMjNhNTg3N2MyNDAyZDhjMjNhYWQ1NDJkNmQ1MzIgPSBMLnBvcHVwKHsibWF4V2lkdGgiOiAiMTAwJSJ9KTsKCiAgICAgICAgCiAgICAgICAgICAgIHZhciBodG1sXzNkODJlZThmNDVhMzQzOGFiZTYyYTlmMzkyZmY0ZjBkID0gJChgPGRpdiBpZD0iaHRtbF8zZDgyZWU4ZjQ1YTM0MzhhYmU2MmE5ZjM5MmZmNGYwZCIgc3R5bGU9IndpZHRoOiAxMDAuMCU7IGhlaWdodDogMTAwLjAlOyI+MCAgICAgICAgIEVhc3QgVG9yb250byAxICAgICAgICAgRWFzdCBUb3JvbnRvIDIgICAgICAgICBFYXN0IFRvcm9udG8gMyAgICAgICAgIEVhc3QgVG9yb250byA0ICAgICAgQ2VudHJhbCBUb3JvbnRvIDUgICAgICBDZW50cmFsIFRvcm9udG8gNiAgICAgIENlbnRyYWwgVG9yb250byA3ICAgICAgQ2VudHJhbCBUb3JvbnRvIDggICAgICBDZW50cmFsIFRvcm9udG8gOSAgICAgIENlbnRyYWwgVG9yb250byAxMCAgICBEb3dudG93biBUb3JvbnRvIDExICAgIERvd250b3duIFRvcm9udG8gMTIgICAgRG93bnRvd24gVG9yb250byAxMyAgICBEb3dudG93biBUb3JvbnRvIDE0ICAgIERvd250b3duIFRvcm9udG8gMTUgICAgRG93bnRvd24gVG9yb250byAxNiAgICBEb3dudG93biBUb3JvbnRvIDE3ICAgIERvd250b3duIFRvcm9udG8gMTggICAgRG93bnRvd24gVG9yb250byAxOSAgICBEb3dudG93biBUb3JvbnRvIDIwICAgIERvd250b3duIFRvcm9udG8gMjEgICAgRG93bnRvd24gVG9yb250byAyMiAgICAgQ2VudHJhbCBUb3JvbnRvIDIzICAgICBDZW50cmFsIFRvcm9udG8gMjQgICAgIENlbnRyYWwgVG9yb250byAyNSAgICBEb3dudG93biBUb3JvbnRvIDI2ICAgIERvd250b3duIFRvcm9udG8gMjcgICAgRG93bnRvd24gVG9yb250byAyOCAgICBEb3dudG93biBUb3JvbnRvIDI5ICAgIERvd250b3duIFRvcm9udG8gMzAgICAgRG93bnRvd24gVG9yb250byAzMSAgICAgICAgV2VzdCBUb3JvbnRvIDMyICAgICAgICBXZXN0IFRvcm9udG8gMzMgICAgICAgIFdlc3QgVG9yb250byAzNCAgICAgICAgV2VzdCBUb3JvbnRvIDM1ICAgICAgICBXZXN0IFRvcm9udG8gMzYgICAgICAgIFdlc3QgVG9yb250byAzNyAgICBEb3dudG93biBUb3JvbnRvIDM4ICAgICAgICBFYXN0IFRvcm9udG8gTmFtZTogQm9yb3VnaCwgZHR5cGU6IG9iamVjdCBDbHVzdGVyIDE8L2Rpdj5gKVswXTsKICAgICAgICAgICAgcG9wdXBfM2JjMjNhNTg3N2MyNDAyZDhjMjNhYWQ1NDJkNmQ1MzIuc2V0Q29udGVudChodG1sXzNkODJlZThmNDVhMzQzOGFiZTYyYTlmMzkyZmY0ZjBkKTsKICAgICAgICAKCiAgICAgICAgY2lyY2xlX21hcmtlcl8xYmUyYzM4ZWNmNTA0NmI1YmViNDY2MTU0Nzg1MDZkNy5iaW5kUG9wdXAocG9wdXBfM2JjMjNhNTg3N2MyNDAyZDhjMjNhYWQ1NDJkNmQ1MzIpCiAgICAgICAgOwoKICAgICAgICAKICAgIAogICAgCiAgICAgICAgICAgIHZhciBjaXJjbGVfbWFya2VyXzg2Yzg5Y2I5YTRhOTQ3OWY5ZTZmNWUxMWEwZjdiOGZjID0gTC5jaXJjbGVNYXJrZXIoCiAgICAgICAgICAgICAgICBbNDMuNjQ4MTk4NSwgLTc5LjM3OTgxNjkwMDAwMDAxXSwKICAgICAgICAgICAgICAgIHsiYnViYmxpbmdNb3VzZUV2ZW50cyI6IHRydWUsICJjb2xvciI6ICIjODAwMGZmIiwgImRhc2hBcnJheSI6IG51bGwsICJkYXNoT2Zmc2V0IjogbnVsbCwgImZpbGwiOiB0cnVlLCAiZmlsbENvbG9yIjogIiM4MDAwZmYiLCAiZmlsbE9wYWNpdHkiOiAwLjcsICJmaWxsUnVsZSI6ICJldmVub2RkIiwgImxpbmVDYXAiOiAicm91bmQiLCAibGluZUpvaW4iOiAicm91bmQiLCAib3BhY2l0eSI6IDEuMCwgInJhZGl1cyI6IDUsICJzdHJva2UiOiB0cnVlLCAid2VpZ2h0IjogM30KICAgICAgICAgICAgKS5hZGRUbyhtYXBfYzQyZDI4Yzc4OWI5NDY4M2FiZDUzNWEzOWM3ODdmMzYpOwogICAgICAgIAogICAgCiAgICAgICAgdmFyIHBvcHVwXzgzNTQzNjI0ODU4ZjQ0YWViODliZTMxYjNiMDQ0NDJjID0gTC5wb3B1cCh7Im1heFdpZHRoIjogIjEwMCUifSk7CgogICAgICAgIAogICAgICAgICAgICB2YXIgaHRtbF8xNWE1M2I4NGFiNjk0NjIzOGQ0MzRhZGI5ZjBlZDk5MiA9ICQoYDxkaXYgaWQ9Imh0bWxfMTVhNTNiODRhYjY5NDYyMzhkNDM0YWRiOWYwZWQ5OTIiIHN0eWxlPSJ3aWR0aDogMTAwLjAlOyBoZWlnaHQ6IDEwMC4wJTsiPjAgICAgICAgICBFYXN0IFRvcm9udG8gMSAgICAgICAgIEVhc3QgVG9yb250byAyICAgICAgICAgRWFzdCBUb3JvbnRvIDMgICAgICAgICBFYXN0IFRvcm9udG8gNCAgICAgIENlbnRyYWwgVG9yb250byA1ICAgICAgQ2VudHJhbCBUb3JvbnRvIDYgICAgICBDZW50cmFsIFRvcm9udG8gNyAgICAgIENlbnRyYWwgVG9yb250byA4ICAgICAgQ2VudHJhbCBUb3JvbnRvIDkgICAgICBDZW50cmFsIFRvcm9udG8gMTAgICAgRG93bnRvd24gVG9yb250byAxMSAgICBEb3dudG93biBUb3JvbnRvIDEyICAgIERvd250b3duIFRvcm9udG8gMTMgICAgRG93bnRvd24gVG9yb250byAxNCAgICBEb3dudG93biBUb3JvbnRvIDE1ICAgIERvd250b3duIFRvcm9udG8gMTYgICAgRG93bnRvd24gVG9yb250byAxNyAgICBEb3dudG93biBUb3JvbnRvIDE4ICAgIERvd250b3duIFRvcm9udG8gMTkgICAgRG93bnRvd24gVG9yb250byAyMCAgICBEb3dudG93biBUb3JvbnRvIDIxICAgIERvd250b3duIFRvcm9udG8gMjIgICAgIENlbnRyYWwgVG9yb250byAyMyAgICAgQ2VudHJhbCBUb3JvbnRvIDI0ICAgICBDZW50cmFsIFRvcm9udG8gMjUgICAgRG93bnRvd24gVG9yb250byAyNiAgICBEb3dudG93biBUb3JvbnRvIDI3ICAgIERvd250b3duIFRvcm9udG8gMjggICAgRG93bnRvd24gVG9yb250byAyOSAgICBEb3dudG93biBUb3JvbnRvIDMwICAgIERvd250b3duIFRvcm9udG8gMzEgICAgICAgIFdlc3QgVG9yb250byAzMiAgICAgICAgV2VzdCBUb3JvbnRvIDMzICAgICAgICBXZXN0IFRvcm9udG8gMzQgICAgICAgIFdlc3QgVG9yb250byAzNSAgICAgICAgV2VzdCBUb3JvbnRvIDM2ICAgICAgICBXZXN0IFRvcm9udG8gMzcgICAgRG93bnRvd24gVG9yb250byAzOCAgICAgICAgRWFzdCBUb3JvbnRvIE5hbWU6IEJvcm91Z2gsIGR0eXBlOiBvYmplY3QgQ2x1c3RlciAxPC9kaXY+YClbMF07CiAgICAgICAgICAgIHBvcHVwXzgzNTQzNjI0ODU4ZjQ0YWViODliZTMxYjNiMDQ0NDJjLnNldENvbnRlbnQoaHRtbF8xNWE1M2I4NGFiNjk0NjIzOGQ0MzRhZGI5ZjBlZDk5Mik7CiAgICAgICAgCgogICAgICAgIGNpcmNsZV9tYXJrZXJfODZjODljYjlhNGE5NDc5ZjllNmY1ZTExYTBmN2I4ZmMuYmluZFBvcHVwKHBvcHVwXzgzNTQzNjI0ODU4ZjQ0YWViODliZTMxYjNiMDQ0NDJjKQogICAgICAgIDsKCiAgICAgICAgCiAgICAKICAgIAogICAgICAgICAgICB2YXIgY2lyY2xlX21hcmtlcl9iZDUwNWFjZTgwZDI0NDQ5OWIzY2UzOTllNzlmOWU2OCA9IEwuY2lyY2xlTWFya2VyKAogICAgICAgICAgICAgICAgWzQzLjcxMTY5NDgsIC03OS40MTY5MzU1OTk5OTk5OV0sCiAgICAgICAgICAgICAgICB7ImJ1YmJsaW5nTW91c2VFdmVudHMiOiB0cnVlLCAiY29sb3IiOiAiIzJhZGRkZCIsICJkYXNoQXJyYXkiOiBudWxsLCAiZGFzaE9mZnNldCI6IG51bGwsICJmaWxsIjogdHJ1ZSwgImZpbGxDb2xvciI6ICIjMmFkZGRkIiwgImZpbGxPcGFjaXR5IjogMC43LCAiZmlsbFJ1bGUiOiAiZXZlbm9kZCIsICJsaW5lQ2FwIjogInJvdW5kIiwgImxpbmVKb2luIjogInJvdW5kIiwgIm9wYWNpdHkiOiAxLjAsICJyYWRpdXMiOiA1LCAic3Ryb2tlIjogdHJ1ZSwgIndlaWdodCI6IDN9CiAgICAgICAgICAgICkuYWRkVG8obWFwX2M0MmQyOGM3ODliOTQ2ODNhYmQ1MzVhMzljNzg3ZjM2KTsKICAgICAgICAKICAgIAogICAgICAgIHZhciBwb3B1cF83NTYwNjZlNzVmMDY0MzA4OWM4NDQ2OWEwYjZiNzAyZCA9IEwucG9wdXAoeyJtYXhXaWR0aCI6ICIxMDAlIn0pOwoKICAgICAgICAKICAgICAgICAgICAgdmFyIGh0bWxfOGUyNWQ5NGFkNjIwNDFiOGFjN2E0OWUzZmIwMzYyNWUgPSAkKGA8ZGl2IGlkPSJodG1sXzhlMjVkOTRhZDYyMDQxYjhhYzdhNDllM2ZiMDM2MjVlIiBzdHlsZT0id2lkdGg6IDEwMC4wJTsgaGVpZ2h0OiAxMDAuMCU7Ij4wICAgICAgICAgRWFzdCBUb3JvbnRvIDEgICAgICAgICBFYXN0IFRvcm9udG8gMiAgICAgICAgIEVhc3QgVG9yb250byAzICAgICAgICAgRWFzdCBUb3JvbnRvIDQgICAgICBDZW50cmFsIFRvcm9udG8gNSAgICAgIENlbnRyYWwgVG9yb250byA2ICAgICAgQ2VudHJhbCBUb3JvbnRvIDcgICAgICBDZW50cmFsIFRvcm9udG8gOCAgICAgIENlbnRyYWwgVG9yb250byA5ICAgICAgQ2VudHJhbCBUb3JvbnRvIDEwICAgIERvd250b3duIFRvcm9udG8gMTEgICAgRG93bnRvd24gVG9yb250byAxMiAgICBEb3dudG93biBUb3JvbnRvIDEzICAgIERvd250b3duIFRvcm9udG8gMTQgICAgRG93bnRvd24gVG9yb250byAxNSAgICBEb3dudG93biBUb3JvbnRvIDE2ICAgIERvd250b3duIFRvcm9udG8gMTcgICAgRG93bnRvd24gVG9yb250byAxOCAgICBEb3dudG93biBUb3JvbnRvIDE5ICAgIERvd250b3duIFRvcm9udG8gMjAgICAgRG93bnRvd24gVG9yb250byAyMSAgICBEb3dudG93biBUb3JvbnRvIDIyICAgICBDZW50cmFsIFRvcm9udG8gMjMgICAgIENlbnRyYWwgVG9yb250byAyNCAgICAgQ2VudHJhbCBUb3JvbnRvIDI1ICAgIERvd250b3duIFRvcm9udG8gMjYgICAgRG93bnRvd24gVG9yb250byAyNyAgICBEb3dudG93biBUb3JvbnRvIDI4ICAgIERvd250b3duIFRvcm9udG8gMjkgICAgRG93bnRvd24gVG9yb250byAzMCAgICBEb3dudG93biBUb3JvbnRvIDMxICAgICAgICBXZXN0IFRvcm9udG8gMzIgICAgICAgIFdlc3QgVG9yb250byAzMyAgICAgICAgV2VzdCBUb3JvbnRvIDM0ICAgICAgICBXZXN0IFRvcm9udG8gMzUgICAgICAgIFdlc3QgVG9yb250byAzNiAgICAgICAgV2VzdCBUb3JvbnRvIDM3ICAgIERvd250b3duIFRvcm9udG8gMzggICAgICAgIEVhc3QgVG9yb250byBOYW1lOiBCb3JvdWdoLCBkdHlwZTogb2JqZWN0IENsdXN0ZXIgMjwvZGl2PmApWzBdOwogICAgICAgICAgICBwb3B1cF83NTYwNjZlNzVmMDY0MzA4OWM4NDQ2OWEwYjZiNzAyZC5zZXRDb250ZW50KGh0bWxfOGUyNWQ5NGFkNjIwNDFiOGFjN2E0OWUzZmIwMzYyNWUpOwogICAgICAgIAoKICAgICAgICBjaXJjbGVfbWFya2VyX2JkNTA1YWNlODBkMjQ0NDk5YjNjZTM5OWU3OWY5ZTY4LmJpbmRQb3B1cChwb3B1cF83NTYwNjZlNzVmMDY0MzA4OWM4NDQ2OWEwYjZiNzAyZCkKICAgICAgICA7CgogICAgICAgIAogICAgCiAgICAKICAgICAgICAgICAgdmFyIGNpcmNsZV9tYXJrZXJfM2MwMzc3OGQwYzIwNDY1Nzg5MTczYzdmYzE5OTEyM2QgPSBMLmNpcmNsZU1hcmtlcigKICAgICAgICAgICAgICAgIFs0My42OTY5NDc2LCAtNzkuNDExMzA3MjAwMDAwMDFdLAogICAgICAgICAgICAgICAgeyJidWJibGluZ01vdXNlRXZlbnRzIjogdHJ1ZSwgImNvbG9yIjogIiMyYWRkZGQiLCAiZGFzaEFycmF5IjogbnVsbCwgImRhc2hPZmZzZXQiOiBudWxsLCAiZmlsbCI6IHRydWUsICJmaWxsQ29sb3IiOiAiIzJhZGRkZCIsICJmaWxsT3BhY2l0eSI6IDAuNywgImZpbGxSdWxlIjogImV2ZW5vZGQiLCAibGluZUNhcCI6ICJyb3VuZCIsICJsaW5lSm9pbiI6ICJyb3VuZCIsICJvcGFjaXR5IjogMS4wLCAicmFkaXVzIjogNSwgInN0cm9rZSI6IHRydWUsICJ3ZWlnaHQiOiAzfQogICAgICAgICAgICApLmFkZFRvKG1hcF9jNDJkMjhjNzg5Yjk0NjgzYWJkNTM1YTM5Yzc4N2YzNik7CiAgICAgICAgCiAgICAKICAgICAgICB2YXIgcG9wdXBfNmNmZWU5N2QxN2FiNDVhZWJjNTIyNjlmNjJjZDk5MTEgPSBMLnBvcHVwKHsibWF4V2lkdGgiOiAiMTAwJSJ9KTsKCiAgICAgICAgCiAgICAgICAgICAgIHZhciBodG1sXzZhZjJkMzM1ODlkODQ1YmNiYmRlNmNjYzAyZDY5Njg1ID0gJChgPGRpdiBpZD0iaHRtbF82YWYyZDMzNTg5ZDg0NWJjYmJkZTZjY2MwMmQ2OTY4NSIgc3R5bGU9IndpZHRoOiAxMDAuMCU7IGhlaWdodDogMTAwLjAlOyI+MCAgICAgICAgIEVhc3QgVG9yb250byAxICAgICAgICAgRWFzdCBUb3JvbnRvIDIgICAgICAgICBFYXN0IFRvcm9udG8gMyAgICAgICAgIEVhc3QgVG9yb250byA0ICAgICAgQ2VudHJhbCBUb3JvbnRvIDUgICAgICBDZW50cmFsIFRvcm9udG8gNiAgICAgIENlbnRyYWwgVG9yb250byA3ICAgICAgQ2VudHJhbCBUb3JvbnRvIDggICAgICBDZW50cmFsIFRvcm9udG8gOSAgICAgIENlbnRyYWwgVG9yb250byAxMCAgICBEb3dudG93biBUb3JvbnRvIDExICAgIERvd250b3duIFRvcm9udG8gMTIgICAgRG93bnRvd24gVG9yb250byAxMyAgICBEb3dudG93biBUb3JvbnRvIDE0ICAgIERvd250b3duIFRvcm9udG8gMTUgICAgRG93bnRvd24gVG9yb250byAxNiAgICBEb3dudG93biBUb3JvbnRvIDE3ICAgIERvd250b3duIFRvcm9udG8gMTggICAgRG93bnRvd24gVG9yb250byAxOSAgICBEb3dudG93biBUb3JvbnRvIDIwICAgIERvd250b3duIFRvcm9udG8gMjEgICAgRG93bnRvd24gVG9yb250byAyMiAgICAgQ2VudHJhbCBUb3JvbnRvIDIzICAgICBDZW50cmFsIFRvcm9udG8gMjQgICAgIENlbnRyYWwgVG9yb250byAyNSAgICBEb3dudG93biBUb3JvbnRvIDI2ICAgIERvd250b3duIFRvcm9udG8gMjcgICAgRG93bnRvd24gVG9yb250byAyOCAgICBEb3dudG93biBUb3JvbnRvIDI5ICAgIERvd250b3duIFRvcm9udG8gMzAgICAgRG93bnRvd24gVG9yb250byAzMSAgICAgICAgV2VzdCBUb3JvbnRvIDMyICAgICAgICBXZXN0IFRvcm9udG8gMzMgICAgICAgIFdlc3QgVG9yb250byAzNCAgICAgICAgV2VzdCBUb3JvbnRvIDM1ICAgICAgICBXZXN0IFRvcm9udG8gMzYgICAgICAgIFdlc3QgVG9yb250byAzNyAgICBEb3dudG93biBUb3JvbnRvIDM4ICAgICAgICBFYXN0IFRvcm9udG8gTmFtZTogQm9yb3VnaCwgZHR5cGU6IG9iamVjdCBDbHVzdGVyIDI8L2Rpdj5gKVswXTsKICAgICAgICAgICAgcG9wdXBfNmNmZWU5N2QxN2FiNDVhZWJjNTIyNjlmNjJjZDk5MTEuc2V0Q29udGVudChodG1sXzZhZjJkMzM1ODlkODQ1YmNiYmRlNmNjYzAyZDY5Njg1KTsKICAgICAgICAKCiAgICAgICAgY2lyY2xlX21hcmtlcl8zYzAzNzc4ZDBjMjA0NjU3ODkxNzNjN2ZjMTk5MTIzZC5iaW5kUG9wdXAocG9wdXBfNmNmZWU5N2QxN2FiNDVhZWJjNTIyNjlmNjJjZDk5MTEpCiAgICAgICAgOwoKICAgICAgICAKICAgIAogICAgCiAgICAgICAgICAgIHZhciBjaXJjbGVfbWFya2VyXzhhMWNlYWU1ODhkMjRlYzBiNThkNjViNjFkYjY1OTVmID0gTC5jaXJjbGVNYXJrZXIoCiAgICAgICAgICAgICAgICBbNDMuNjcyNzA5NywgLTc5LjQwNTY3ODQwMDAwMDAxXSwKICAgICAgICAgICAgICAgIHsiYnViYmxpbmdNb3VzZUV2ZW50cyI6IHRydWUsICJjb2xvciI6ICIjMmFkZGRkIiwgImRhc2hBcnJheSI6IG51bGwsICJkYXNoT2Zmc2V0IjogbnVsbCwgImZpbGwiOiB0cnVlLCAiZmlsbENvbG9yIjogIiMyYWRkZGQiLCAiZmlsbE9wYWNpdHkiOiAwLjcsICJmaWxsUnVsZSI6ICJldmVub2RkIiwgImxpbmVDYXAiOiAicm91bmQiLCAibGluZUpvaW4iOiAicm91bmQiLCAib3BhY2l0eSI6IDEuMCwgInJhZGl1cyI6IDUsICJzdHJva2UiOiB0cnVlLCAid2VpZ2h0IjogM30KICAgICAgICAgICAgKS5hZGRUbyhtYXBfYzQyZDI4Yzc4OWI5NDY4M2FiZDUzNWEzOWM3ODdmMzYpOwogICAgICAgIAogICAgCiAgICAgICAgdmFyIHBvcHVwX2RlY2JkZmU0NTA5ODRhZDFiOTNhNTQ2MTNjMDVmMWZhID0gTC5wb3B1cCh7Im1heFdpZHRoIjogIjEwMCUifSk7CgogICAgICAgIAogICAgICAgICAgICB2YXIgaHRtbF80OTJjMmQxN2I0NTI0OGFmOWI3Nzc5YmI5YjZiZDQ4NyA9ICQoYDxkaXYgaWQ9Imh0bWxfNDkyYzJkMTdiNDUyNDhhZjliNzc3OWJiOWI2YmQ0ODciIHN0eWxlPSJ3aWR0aDogMTAwLjAlOyBoZWlnaHQ6IDEwMC4wJTsiPjAgICAgICAgICBFYXN0IFRvcm9udG8gMSAgICAgICAgIEVhc3QgVG9yb250byAyICAgICAgICAgRWFzdCBUb3JvbnRvIDMgICAgICAgICBFYXN0IFRvcm9udG8gNCAgICAgIENlbnRyYWwgVG9yb250byA1ICAgICAgQ2VudHJhbCBUb3JvbnRvIDYgICAgICBDZW50cmFsIFRvcm9udG8gNyAgICAgIENlbnRyYWwgVG9yb250byA4ICAgICAgQ2VudHJhbCBUb3JvbnRvIDkgICAgICBDZW50cmFsIFRvcm9udG8gMTAgICAgRG93bnRvd24gVG9yb250byAxMSAgICBEb3dudG93biBUb3JvbnRvIDEyICAgIERvd250b3duIFRvcm9udG8gMTMgICAgRG93bnRvd24gVG9yb250byAxNCAgICBEb3dudG93biBUb3JvbnRvIDE1ICAgIERvd250b3duIFRvcm9udG8gMTYgICAgRG93bnRvd24gVG9yb250byAxNyAgICBEb3dudG93biBUb3JvbnRvIDE4ICAgIERvd250b3duIFRvcm9udG8gMTkgICAgRG93bnRvd24gVG9yb250byAyMCAgICBEb3dudG93biBUb3JvbnRvIDIxICAgIERvd250b3duIFRvcm9udG8gMjIgICAgIENlbnRyYWwgVG9yb250byAyMyAgICAgQ2VudHJhbCBUb3JvbnRvIDI0ICAgICBDZW50cmFsIFRvcm9udG8gMjUgICAgRG93bnRvd24gVG9yb250byAyNiAgICBEb3dudG93biBUb3JvbnRvIDI3ICAgIERvd250b3duIFRvcm9udG8gMjggICAgRG93bnRvd24gVG9yb250byAyOSAgICBEb3dudG93biBUb3JvbnRvIDMwICAgIERvd250b3duIFRvcm9udG8gMzEgICAgICAgIFdlc3QgVG9yb250byAzMiAgICAgICAgV2VzdCBUb3JvbnRvIDMzICAgICAgICBXZXN0IFRvcm9udG8gMzQgICAgICAgIFdlc3QgVG9yb250byAzNSAgICAgICAgV2VzdCBUb3JvbnRvIDM2ICAgICAgICBXZXN0IFRvcm9udG8gMzcgICAgRG93bnRvd24gVG9yb250byAzOCAgICAgICAgRWFzdCBUb3JvbnRvIE5hbWU6IEJvcm91Z2gsIGR0eXBlOiBvYmplY3QgQ2x1c3RlciAyPC9kaXY+YClbMF07CiAgICAgICAgICAgIHBvcHVwX2RlY2JkZmU0NTA5ODRhZDFiOTNhNTQ2MTNjMDVmMWZhLnNldENvbnRlbnQoaHRtbF80OTJjMmQxN2I0NTI0OGFmOWI3Nzc5YmI5YjZiZDQ4Nyk7CiAgICAgICAgCgogICAgICAgIGNpcmNsZV9tYXJrZXJfOGExY2VhZTU4OGQyNGVjMGI1OGQ2NWI2MWRiNjU5NWYuYmluZFBvcHVwKHBvcHVwX2RlY2JkZmU0NTA5ODRhZDFiOTNhNTQ2MTNjMDVmMWZhKQogICAgICAgIDsKCiAgICAgICAgCiAgICAKICAgIAogICAgICAgICAgICB2YXIgY2lyY2xlX21hcmtlcl8yYzgxMWRkNjgwYzg0ZDFjOGYzM2Y4YjA0MGY1ZGE0NiA9IEwuY2lyY2xlTWFya2VyKAogICAgICAgICAgICAgICAgWzQzLjY2MjY5NTYsIC03OS40MDAwNDkzXSwKICAgICAgICAgICAgICAgIHsiYnViYmxpbmdNb3VzZUV2ZW50cyI6IHRydWUsICJjb2xvciI6ICIjODAwMGZmIiwgImRhc2hBcnJheSI6IG51bGwsICJkYXNoT2Zmc2V0IjogbnVsbCwgImZpbGwiOiB0cnVlLCAiZmlsbENvbG9yIjogIiM4MDAwZmYiLCAiZmlsbE9wYWNpdHkiOiAwLjcsICJmaWxsUnVsZSI6ICJldmVub2RkIiwgImxpbmVDYXAiOiAicm91bmQiLCAibGluZUpvaW4iOiAicm91bmQiLCAib3BhY2l0eSI6IDEuMCwgInJhZGl1cyI6IDUsICJzdHJva2UiOiB0cnVlLCAid2VpZ2h0IjogM30KICAgICAgICAgICAgKS5hZGRUbyhtYXBfYzQyZDI4Yzc4OWI5NDY4M2FiZDUzNWEzOWM3ODdmMzYpOwogICAgICAgIAogICAgCiAgICAgICAgdmFyIHBvcHVwXzg2ZmFkYjZiODg2YjRkZjViMGJjYTIyYjY1MDRiMDIyID0gTC5wb3B1cCh7Im1heFdpZHRoIjogIjEwMCUifSk7CgogICAgICAgIAogICAgICAgICAgICB2YXIgaHRtbF9hZjIzNTlkZTg4ZWQ0OTAzYTExM2FhM2JhMGJmZTA5ZSA9ICQoYDxkaXYgaWQ9Imh0bWxfYWYyMzU5ZGU4OGVkNDkwM2ExMTNhYTNiYTBiZmUwOWUiIHN0eWxlPSJ3aWR0aDogMTAwLjAlOyBoZWlnaHQ6IDEwMC4wJTsiPjAgICAgICAgICBFYXN0IFRvcm9udG8gMSAgICAgICAgIEVhc3QgVG9yb250byAyICAgICAgICAgRWFzdCBUb3JvbnRvIDMgICAgICAgICBFYXN0IFRvcm9udG8gNCAgICAgIENlbnRyYWwgVG9yb250byA1ICAgICAgQ2VudHJhbCBUb3JvbnRvIDYgICAgICBDZW50cmFsIFRvcm9udG8gNyAgICAgIENlbnRyYWwgVG9yb250byA4ICAgICAgQ2VudHJhbCBUb3JvbnRvIDkgICAgICBDZW50cmFsIFRvcm9udG8gMTAgICAgRG93bnRvd24gVG9yb250byAxMSAgICBEb3dudG93biBUb3JvbnRvIDEyICAgIERvd250b3duIFRvcm9udG8gMTMgICAgRG93bnRvd24gVG9yb250byAxNCAgICBEb3dudG93biBUb3JvbnRvIDE1ICAgIERvd250b3duIFRvcm9udG8gMTYgICAgRG93bnRvd24gVG9yb250byAxNyAgICBEb3dudG93biBUb3JvbnRvIDE4ICAgIERvd250b3duIFRvcm9udG8gMTkgICAgRG93bnRvd24gVG9yb250byAyMCAgICBEb3dudG93biBUb3JvbnRvIDIxICAgIERvd250b3duIFRvcm9udG8gMjIgICAgIENlbnRyYWwgVG9yb250byAyMyAgICAgQ2VudHJhbCBUb3JvbnRvIDI0ICAgICBDZW50cmFsIFRvcm9udG8gMjUgICAgRG93bnRvd24gVG9yb250byAyNiAgICBEb3dudG93biBUb3JvbnRvIDI3ICAgIERvd250b3duIFRvcm9udG8gMjggICAgRG93bnRvd24gVG9yb250byAyOSAgICBEb3dudG93biBUb3JvbnRvIDMwICAgIERvd250b3duIFRvcm9udG8gMzEgICAgICAgIFdlc3QgVG9yb250byAzMiAgICAgICAgV2VzdCBUb3JvbnRvIDMzICAgICAgICBXZXN0IFRvcm9udG8gMzQgICAgICAgIFdlc3QgVG9yb250byAzNSAgICAgICAgV2VzdCBUb3JvbnRvIDM2ICAgICAgICBXZXN0IFRvcm9udG8gMzcgICAgRG93bnRvd24gVG9yb250byAzOCAgICAgICAgRWFzdCBUb3JvbnRvIE5hbWU6IEJvcm91Z2gsIGR0eXBlOiBvYmplY3QgQ2x1c3RlciAxPC9kaXY+YClbMF07CiAgICAgICAgICAgIHBvcHVwXzg2ZmFkYjZiODg2YjRkZjViMGJjYTIyYjY1MDRiMDIyLnNldENvbnRlbnQoaHRtbF9hZjIzNTlkZTg4ZWQ0OTAzYTExM2FhM2JhMGJmZTA5ZSk7CiAgICAgICAgCgogICAgICAgIGNpcmNsZV9tYXJrZXJfMmM4MTFkZDY4MGM4NGQxYzhmMzNmOGIwNDBmNWRhNDYuYmluZFBvcHVwKHBvcHVwXzg2ZmFkYjZiODg2YjRkZjViMGJjYTIyYjY1MDRiMDIyKQogICAgICAgIDsKCiAgICAgICAgCiAgICAKICAgIAogICAgICAgICAgICB2YXIgY2lyY2xlX21hcmtlcl85ODI4YWE1MTEwYzg0OWVhODRmYWQ3Yzc3OWNiZjQ2NCA9IEwuY2lyY2xlTWFya2VyKAogICAgICAgICAgICAgICAgWzQzLjY1MzIwNTcsIC03OS40MDAwNDkzXSwKICAgICAgICAgICAgICAgIHsiYnViYmxpbmdNb3VzZUV2ZW50cyI6IHRydWUsICJjb2xvciI6ICIjODAwMGZmIiwgImRhc2hBcnJheSI6IG51bGwsICJkYXNoT2Zmc2V0IjogbnVsbCwgImZpbGwiOiB0cnVlLCAiZmlsbENvbG9yIjogIiM4MDAwZmYiLCAiZmlsbE9wYWNpdHkiOiAwLjcsICJmaWxsUnVsZSI6ICJldmVub2RkIiwgImxpbmVDYXAiOiAicm91bmQiLCAibGluZUpvaW4iOiAicm91bmQiLCAib3BhY2l0eSI6IDEuMCwgInJhZGl1cyI6IDUsICJzdHJva2UiOiB0cnVlLCAid2VpZ2h0IjogM30KICAgICAgICAgICAgKS5hZGRUbyhtYXBfYzQyZDI4Yzc4OWI5NDY4M2FiZDUzNWEzOWM3ODdmMzYpOwogICAgICAgIAogICAgCiAgICAgICAgdmFyIHBvcHVwXzg2YzUzODMyNzdjYjQ3MzM5M2FkODNmYmQ2OTVmZWNmID0gTC5wb3B1cCh7Im1heFdpZHRoIjogIjEwMCUifSk7CgogICAgICAgIAogICAgICAgICAgICB2YXIgaHRtbF81M2VjNGJlMDY3ODc0ZjlhYmZjNjRhOWRiMGZiNjViNyA9ICQoYDxkaXYgaWQ9Imh0bWxfNTNlYzRiZTA2Nzg3NGY5YWJmYzY0YTlkYjBmYjY1YjciIHN0eWxlPSJ3aWR0aDogMTAwLjAlOyBoZWlnaHQ6IDEwMC4wJTsiPjAgICAgICAgICBFYXN0IFRvcm9udG8gMSAgICAgICAgIEVhc3QgVG9yb250byAyICAgICAgICAgRWFzdCBUb3JvbnRvIDMgICAgICAgICBFYXN0IFRvcm9udG8gNCAgICAgIENlbnRyYWwgVG9yb250byA1ICAgICAgQ2VudHJhbCBUb3JvbnRvIDYgICAgICBDZW50cmFsIFRvcm9udG8gNyAgICAgIENlbnRyYWwgVG9yb250byA4ICAgICAgQ2VudHJhbCBUb3JvbnRvIDkgICAgICBDZW50cmFsIFRvcm9udG8gMTAgICAgRG93bnRvd24gVG9yb250byAxMSAgICBEb3dudG93biBUb3JvbnRvIDEyICAgIERvd250b3duIFRvcm9udG8gMTMgICAgRG93bnRvd24gVG9yb250byAxNCAgICBEb3dudG93biBUb3JvbnRvIDE1ICAgIERvd250b3duIFRvcm9udG8gMTYgICAgRG93bnRvd24gVG9yb250byAxNyAgICBEb3dudG93biBUb3JvbnRvIDE4ICAgIERvd250b3duIFRvcm9udG8gMTkgICAgRG93bnRvd24gVG9yb250byAyMCAgICBEb3dudG93biBUb3JvbnRvIDIxICAgIERvd250b3duIFRvcm9udG8gMjIgICAgIENlbnRyYWwgVG9yb250byAyMyAgICAgQ2VudHJhbCBUb3JvbnRvIDI0ICAgICBDZW50cmFsIFRvcm9udG8gMjUgICAgRG93bnRvd24gVG9yb250byAyNiAgICBEb3dudG93biBUb3JvbnRvIDI3ICAgIERvd250b3duIFRvcm9udG8gMjggICAgRG93bnRvd24gVG9yb250byAyOSAgICBEb3dudG93biBUb3JvbnRvIDMwICAgIERvd250b3duIFRvcm9udG8gMzEgICAgICAgIFdlc3QgVG9yb250byAzMiAgICAgICAgV2VzdCBUb3JvbnRvIDMzICAgICAgICBXZXN0IFRvcm9udG8gMzQgICAgICAgIFdlc3QgVG9yb250byAzNSAgICAgICAgV2VzdCBUb3JvbnRvIDM2ICAgICAgICBXZXN0IFRvcm9udG8gMzcgICAgRG93bnRvd24gVG9yb250byAzOCAgICAgICAgRWFzdCBUb3JvbnRvIE5hbWU6IEJvcm91Z2gsIGR0eXBlOiBvYmplY3QgQ2x1c3RlciAxPC9kaXY+YClbMF07CiAgICAgICAgICAgIHBvcHVwXzg2YzUzODMyNzdjYjQ3MzM5M2FkODNmYmQ2OTVmZWNmLnNldENvbnRlbnQoaHRtbF81M2VjNGJlMDY3ODc0ZjlhYmZjNjRhOWRiMGZiNjViNyk7CiAgICAgICAgCgogICAgICAgIGNpcmNsZV9tYXJrZXJfOTgyOGFhNTExMGM4NDllYTg0ZmFkN2M3NzljYmY0NjQuYmluZFBvcHVwKHBvcHVwXzg2YzUzODMyNzdjYjQ3MzM5M2FkODNmYmQ2OTVmZWNmKQogICAgICAgIDsKCiAgICAgICAgCiAgICAKICAgIAogICAgICAgICAgICB2YXIgY2lyY2xlX21hcmtlcl83ZjgxMDFlYzFiMzg0ZTJlOTA3YmM1YjM0OTA5NjFiZiA9IEwuY2lyY2xlTWFya2VyKAogICAgICAgICAgICAgICAgWzQzLjYyODk0NjcsIC03OS4zOTQ0MTk5XSwKICAgICAgICAgICAgICAgIHsiYnViYmxpbmdNb3VzZUV2ZW50cyI6IHRydWUsICJjb2xvciI6ICIjODAwMGZmIiwgImRhc2hBcnJheSI6IG51bGwsICJkYXNoT2Zmc2V0IjogbnVsbCwgImZpbGwiOiB0cnVlLCAiZmlsbENvbG9yIjogIiM4MDAwZmYiLCAiZmlsbE9wYWNpdHkiOiAwLjcsICJmaWxsUnVsZSI6ICJldmVub2RkIiwgImxpbmVDYXAiOiAicm91bmQiLCAibGluZUpvaW4iOiAicm91bmQiLCAib3BhY2l0eSI6IDEuMCwgInJhZGl1cyI6IDUsICJzdHJva2UiOiB0cnVlLCAid2VpZ2h0IjogM30KICAgICAgICAgICAgKS5hZGRUbyhtYXBfYzQyZDI4Yzc4OWI5NDY4M2FiZDUzNWEzOWM3ODdmMzYpOwogICAgICAgIAogICAgCiAgICAgICAgdmFyIHBvcHVwX2NhOTQ5ODM0NTM0YjQyODFiNzNlMTVkMDlhOWM1ZjZjID0gTC5wb3B1cCh7Im1heFdpZHRoIjogIjEwMCUifSk7CgogICAgICAgIAogICAgICAgICAgICB2YXIgaHRtbF85Zjc3ZDJkNDZlNDI0NjAyOTBlNzdlNGJkMmE4ZDNiOCA9ICQoYDxkaXYgaWQ9Imh0bWxfOWY3N2QyZDQ2ZTQyNDYwMjkwZTc3ZTRiZDJhOGQzYjgiIHN0eWxlPSJ3aWR0aDogMTAwLjAlOyBoZWlnaHQ6IDEwMC4wJTsiPjAgICAgICAgICBFYXN0IFRvcm9udG8gMSAgICAgICAgIEVhc3QgVG9yb250byAyICAgICAgICAgRWFzdCBUb3JvbnRvIDMgICAgICAgICBFYXN0IFRvcm9udG8gNCAgICAgIENlbnRyYWwgVG9yb250byA1ICAgICAgQ2VudHJhbCBUb3JvbnRvIDYgICAgICBDZW50cmFsIFRvcm9udG8gNyAgICAgIENlbnRyYWwgVG9yb250byA4ICAgICAgQ2VudHJhbCBUb3JvbnRvIDkgICAgICBDZW50cmFsIFRvcm9udG8gMTAgICAgRG93bnRvd24gVG9yb250byAxMSAgICBEb3dudG93biBUb3JvbnRvIDEyICAgIERvd250b3duIFRvcm9udG8gMTMgICAgRG93bnRvd24gVG9yb250byAxNCAgICBEb3dudG93biBUb3JvbnRvIDE1ICAgIERvd250b3duIFRvcm9udG8gMTYgICAgRG93bnRvd24gVG9yb250byAxNyAgICBEb3dudG93biBUb3JvbnRvIDE4ICAgIERvd250b3duIFRvcm9udG8gMTkgICAgRG93bnRvd24gVG9yb250byAyMCAgICBEb3dudG93biBUb3JvbnRvIDIxICAgIERvd250b3duIFRvcm9udG8gMjIgICAgIENlbnRyYWwgVG9yb250byAyMyAgICAgQ2VudHJhbCBUb3JvbnRvIDI0ICAgICBDZW50cmFsIFRvcm9udG8gMjUgICAgRG93bnRvd24gVG9yb250byAyNiAgICBEb3dudG93biBUb3JvbnRvIDI3ICAgIERvd250b3duIFRvcm9udG8gMjggICAgRG93bnRvd24gVG9yb250byAyOSAgICBEb3dudG93biBUb3JvbnRvIDMwICAgIERvd250b3duIFRvcm9udG8gMzEgICAgICAgIFdlc3QgVG9yb250byAzMiAgICAgICAgV2VzdCBUb3JvbnRvIDMzICAgICAgICBXZXN0IFRvcm9udG8gMzQgICAgICAgIFdlc3QgVG9yb250byAzNSAgICAgICAgV2VzdCBUb3JvbnRvIDM2ICAgICAgICBXZXN0IFRvcm9udG8gMzcgICAgRG93bnRvd24gVG9yb250byAzOCAgICAgICAgRWFzdCBUb3JvbnRvIE5hbWU6IEJvcm91Z2gsIGR0eXBlOiBvYmplY3QgQ2x1c3RlciAxPC9kaXY+YClbMF07CiAgICAgICAgICAgIHBvcHVwX2NhOTQ5ODM0NTM0YjQyODFiNzNlMTVkMDlhOWM1ZjZjLnNldENvbnRlbnQoaHRtbF85Zjc3ZDJkNDZlNDI0NjAyOTBlNzdlNGJkMmE4ZDNiOCk7CiAgICAgICAgCgogICAgICAgIGNpcmNsZV9tYXJrZXJfN2Y4MTAxZWMxYjM4NGUyZTkwN2JjNWIzNDkwOTYxYmYuYmluZFBvcHVwKHBvcHVwX2NhOTQ5ODM0NTM0YjQyODFiNzNlMTVkMDlhOWM1ZjZjKQogICAgICAgIDsKCiAgICAgICAgCiAgICAKICAgIAogICAgICAgICAgICB2YXIgY2lyY2xlX21hcmtlcl9kOGQ4ZGUzYjZkMDk0YmFkODRkNjA0MmEyY2Y4M2FjYSA9IEwuY2lyY2xlTWFya2VyKAogICAgICAgICAgICAgICAgWzQzLjY0NjQzNTIsIC03OS4zNzQ4NDU5OTk5OTk5OV0sCiAgICAgICAgICAgICAgICB7ImJ1YmJsaW5nTW91c2VFdmVudHMiOiB0cnVlLCAiY29sb3IiOiAiIzgwMDBmZiIsICJkYXNoQXJyYXkiOiBudWxsLCAiZGFzaE9mZnNldCI6IG51bGwsICJmaWxsIjogdHJ1ZSwgImZpbGxDb2xvciI6ICIjODAwMGZmIiwgImZpbGxPcGFjaXR5IjogMC43LCAiZmlsbFJ1bGUiOiAiZXZlbm9kZCIsICJsaW5lQ2FwIjogInJvdW5kIiwgImxpbmVKb2luIjogInJvdW5kIiwgIm9wYWNpdHkiOiAxLjAsICJyYWRpdXMiOiA1LCAic3Ryb2tlIjogdHJ1ZSwgIndlaWdodCI6IDN9CiAgICAgICAgICAgICkuYWRkVG8obWFwX2M0MmQyOGM3ODliOTQ2ODNhYmQ1MzVhMzljNzg3ZjM2KTsKICAgICAgICAKICAgIAogICAgICAgIHZhciBwb3B1cF85MWFkYTBhMDk0MjA0NTgwOWNiODMwMjdkOWRlOTJmMCA9IEwucG9wdXAoeyJtYXhXaWR0aCI6ICIxMDAlIn0pOwoKICAgICAgICAKICAgICAgICAgICAgdmFyIGh0bWxfNzVlMGViMWJhN2QwNDA5ZTkzMDE2NDQwOTM1NWVkNWUgPSAkKGA8ZGl2IGlkPSJodG1sXzc1ZTBlYjFiYTdkMDQwOWU5MzAxNjQ0MDkzNTVlZDVlIiBzdHlsZT0id2lkdGg6IDEwMC4wJTsgaGVpZ2h0OiAxMDAuMCU7Ij4wICAgICAgICAgRWFzdCBUb3JvbnRvIDEgICAgICAgICBFYXN0IFRvcm9udG8gMiAgICAgICAgIEVhc3QgVG9yb250byAzICAgICAgICAgRWFzdCBUb3JvbnRvIDQgICAgICBDZW50cmFsIFRvcm9udG8gNSAgICAgIENlbnRyYWwgVG9yb250byA2ICAgICAgQ2VudHJhbCBUb3JvbnRvIDcgICAgICBDZW50cmFsIFRvcm9udG8gOCAgICAgIENlbnRyYWwgVG9yb250byA5ICAgICAgQ2VudHJhbCBUb3JvbnRvIDEwICAgIERvd250b3duIFRvcm9udG8gMTEgICAgRG93bnRvd24gVG9yb250byAxMiAgICBEb3dudG93biBUb3JvbnRvIDEzICAgIERvd250b3duIFRvcm9udG8gMTQgICAgRG93bnRvd24gVG9yb250byAxNSAgICBEb3dudG93biBUb3JvbnRvIDE2ICAgIERvd250b3duIFRvcm9udG8gMTcgICAgRG93bnRvd24gVG9yb250byAxOCAgICBEb3dudG93biBUb3JvbnRvIDE5ICAgIERvd250b3duIFRvcm9udG8gMjAgICAgRG93bnRvd24gVG9yb250byAyMSAgICBEb3dudG93biBUb3JvbnRvIDIyICAgICBDZW50cmFsIFRvcm9udG8gMjMgICAgIENlbnRyYWwgVG9yb250byAyNCAgICAgQ2VudHJhbCBUb3JvbnRvIDI1ICAgIERvd250b3duIFRvcm9udG8gMjYgICAgRG93bnRvd24gVG9yb250byAyNyAgICBEb3dudG93biBUb3JvbnRvIDI4ICAgIERvd250b3duIFRvcm9udG8gMjkgICAgRG93bnRvd24gVG9yb250byAzMCAgICBEb3dudG93biBUb3JvbnRvIDMxICAgICAgICBXZXN0IFRvcm9udG8gMzIgICAgICAgIFdlc3QgVG9yb250byAzMyAgICAgICAgV2VzdCBUb3JvbnRvIDM0ICAgICAgICBXZXN0IFRvcm9udG8gMzUgICAgICAgIFdlc3QgVG9yb250byAzNiAgICAgICAgV2VzdCBUb3JvbnRvIDM3ICAgIERvd250b3duIFRvcm9udG8gMzggICAgICAgIEVhc3QgVG9yb250byBOYW1lOiBCb3JvdWdoLCBkdHlwZTogb2JqZWN0IENsdXN0ZXIgMTwvZGl2PmApWzBdOwogICAgICAgICAgICBwb3B1cF85MWFkYTBhMDk0MjA0NTgwOWNiODMwMjdkOWRlOTJmMC5zZXRDb250ZW50KGh0bWxfNzVlMGViMWJhN2QwNDA5ZTkzMDE2NDQwOTM1NWVkNWUpOwogICAgICAgIAoKICAgICAgICBjaXJjbGVfbWFya2VyX2Q4ZDhkZTNiNmQwOTRiYWQ4NGQ2MDQyYTJjZjgzYWNhLmJpbmRQb3B1cChwb3B1cF85MWFkYTBhMDk0MjA0NTgwOWNiODMwMjdkOWRlOTJmMCkKICAgICAgICA7CgogICAgICAgIAogICAgCiAgICAKICAgICAgICAgICAgdmFyIGNpcmNsZV9tYXJrZXJfZjkwNWM0MDU5NTM5NDVlZjliNjg1NmNlODg3ZmFmZjAgPSBMLmNpcmNsZU1hcmtlcigKICAgICAgICAgICAgICAgIFs0My42NDg0MjkyLCAtNzkuMzgyMjgwMl0sCiAgICAgICAgICAgICAgICB7ImJ1YmJsaW5nTW91c2VFdmVudHMiOiB0cnVlLCAiY29sb3IiOiAiIzgwMDBmZiIsICJkYXNoQXJyYXkiOiBudWxsLCAiZGFzaE9mZnNldCI6IG51bGwsICJmaWxsIjogdHJ1ZSwgImZpbGxDb2xvciI6ICIjODAwMGZmIiwgImZpbGxPcGFjaXR5IjogMC43LCAiZmlsbFJ1bGUiOiAiZXZlbm9kZCIsICJsaW5lQ2FwIjogInJvdW5kIiwgImxpbmVKb2luIjogInJvdW5kIiwgIm9wYWNpdHkiOiAxLjAsICJyYWRpdXMiOiA1LCAic3Ryb2tlIjogdHJ1ZSwgIndlaWdodCI6IDN9CiAgICAgICAgICAgICkuYWRkVG8obWFwX2M0MmQyOGM3ODliOTQ2ODNhYmQ1MzVhMzljNzg3ZjM2KTsKICAgICAgICAKICAgIAogICAgICAgIHZhciBwb3B1cF9kNGY0NWMwNTNhN2M0MGJiYjg1NzA2ZDFkYTA2MWM5YiA9IEwucG9wdXAoeyJtYXhXaWR0aCI6ICIxMDAlIn0pOwoKICAgICAgICAKICAgICAgICAgICAgdmFyIGh0bWxfMTExMjE4YjE3OGIwNGJhMWI5YzA1NzJkNzVkZDg3YWYgPSAkKGA8ZGl2IGlkPSJodG1sXzExMTIxOGIxNzhiMDRiYTFiOWMwNTcyZDc1ZGQ4N2FmIiBzdHlsZT0id2lkdGg6IDEwMC4wJTsgaGVpZ2h0OiAxMDAuMCU7Ij4wICAgICAgICAgRWFzdCBUb3JvbnRvIDEgICAgICAgICBFYXN0IFRvcm9udG8gMiAgICAgICAgIEVhc3QgVG9yb250byAzICAgICAgICAgRWFzdCBUb3JvbnRvIDQgICAgICBDZW50cmFsIFRvcm9udG8gNSAgICAgIENlbnRyYWwgVG9yb250byA2ICAgICAgQ2VudHJhbCBUb3JvbnRvIDcgICAgICBDZW50cmFsIFRvcm9udG8gOCAgICAgIENlbnRyYWwgVG9yb250byA5ICAgICAgQ2VudHJhbCBUb3JvbnRvIDEwICAgIERvd250b3duIFRvcm9udG8gMTEgICAgRG93bnRvd24gVG9yb250byAxMiAgICBEb3dudG93biBUb3JvbnRvIDEzICAgIERvd250b3duIFRvcm9udG8gMTQgICAgRG93bnRvd24gVG9yb250byAxNSAgICBEb3dudG93biBUb3JvbnRvIDE2ICAgIERvd250b3duIFRvcm9udG8gMTcgICAgRG93bnRvd24gVG9yb250byAxOCAgICBEb3dudG93biBUb3JvbnRvIDE5ICAgIERvd250b3duIFRvcm9udG8gMjAgICAgRG93bnRvd24gVG9yb250byAyMSAgICBEb3dudG93biBUb3JvbnRvIDIyICAgICBDZW50cmFsIFRvcm9udG8gMjMgICAgIENlbnRyYWwgVG9yb250byAyNCAgICAgQ2VudHJhbCBUb3JvbnRvIDI1ICAgIERvd250b3duIFRvcm9udG8gMjYgICAgRG93bnRvd24gVG9yb250byAyNyAgICBEb3dudG93biBUb3JvbnRvIDI4ICAgIERvd250b3duIFRvcm9udG8gMjkgICAgRG93bnRvd24gVG9yb250byAzMCAgICBEb3dudG93biBUb3JvbnRvIDMxICAgICAgICBXZXN0IFRvcm9udG8gMzIgICAgICAgIFdlc3QgVG9yb250byAzMyAgICAgICAgV2VzdCBUb3JvbnRvIDM0ICAgICAgICBXZXN0IFRvcm9udG8gMzUgICAgICAgIFdlc3QgVG9yb250byAzNiAgICAgICAgV2VzdCBUb3JvbnRvIDM3ICAgIERvd250b3duIFRvcm9udG8gMzggICAgICAgIEVhc3QgVG9yb250byBOYW1lOiBCb3JvdWdoLCBkdHlwZTogb2JqZWN0IENsdXN0ZXIgMTwvZGl2PmApWzBdOwogICAgICAgICAgICBwb3B1cF9kNGY0NWMwNTNhN2M0MGJiYjg1NzA2ZDFkYTA2MWM5Yi5zZXRDb250ZW50KGh0bWxfMTExMjE4YjE3OGIwNGJhMWI5YzA1NzJkNzVkZDg3YWYpOwogICAgICAgIAoKICAgICAgICBjaXJjbGVfbWFya2VyX2Y5MDVjNDA1OTUzOTQ1ZWY5YjY4NTZjZTg4N2ZhZmYwLmJpbmRQb3B1cChwb3B1cF9kNGY0NWMwNTNhN2M0MGJiYjg1NzA2ZDFkYTA2MWM5YikKICAgICAgICA7CgogICAgICAgIAogICAgCiAgICAKICAgICAgICAgICAgdmFyIGNpcmNsZV9tYXJrZXJfNjg3MDJhNDE1OTVkNDgxOTg2MjVkN2JmNjg0YmYyOTUgPSBMLmNpcmNsZU1hcmtlcigKICAgICAgICAgICAgICAgIFs0My42Njk1NDIsIC03OS40MjI1NjM3XSwKICAgICAgICAgICAgICAgIHsiYnViYmxpbmdNb3VzZUV2ZW50cyI6IHRydWUsICJjb2xvciI6ICIjODAwMGZmIiwgImRhc2hBcnJheSI6IG51bGwsICJkYXNoT2Zmc2V0IjogbnVsbCwgImZpbGwiOiB0cnVlLCAiZmlsbENvbG9yIjogIiM4MDAwZmYiLCAiZmlsbE9wYWNpdHkiOiAwLjcsICJmaWxsUnVsZSI6ICJldmVub2RkIiwgImxpbmVDYXAiOiAicm91bmQiLCAibGluZUpvaW4iOiAicm91bmQiLCAib3BhY2l0eSI6IDEuMCwgInJhZGl1cyI6IDUsICJzdHJva2UiOiB0cnVlLCAid2VpZ2h0IjogM30KICAgICAgICAgICAgKS5hZGRUbyhtYXBfYzQyZDI4Yzc4OWI5NDY4M2FiZDUzNWEzOWM3ODdmMzYpOwogICAgICAgIAogICAgCiAgICAgICAgdmFyIHBvcHVwXzBkN2QyMDkzM2I1ZTQ1YzFhNWE0ZDg4MjZkYjE2NTUwID0gTC5wb3B1cCh7Im1heFdpZHRoIjogIjEwMCUifSk7CgogICAgICAgIAogICAgICAgICAgICB2YXIgaHRtbF8yMDQyN2UxODIyOGQ0NjJmYTAzYWQyMGY2NTAyNTM3NSA9ICQoYDxkaXYgaWQ9Imh0bWxfMjA0MjdlMTgyMjhkNDYyZmEwM2FkMjBmNjUwMjUzNzUiIHN0eWxlPSJ3aWR0aDogMTAwLjAlOyBoZWlnaHQ6IDEwMC4wJTsiPjAgICAgICAgICBFYXN0IFRvcm9udG8gMSAgICAgICAgIEVhc3QgVG9yb250byAyICAgICAgICAgRWFzdCBUb3JvbnRvIDMgICAgICAgICBFYXN0IFRvcm9udG8gNCAgICAgIENlbnRyYWwgVG9yb250byA1ICAgICAgQ2VudHJhbCBUb3JvbnRvIDYgICAgICBDZW50cmFsIFRvcm9udG8gNyAgICAgIENlbnRyYWwgVG9yb250byA4ICAgICAgQ2VudHJhbCBUb3JvbnRvIDkgICAgICBDZW50cmFsIFRvcm9udG8gMTAgICAgRG93bnRvd24gVG9yb250byAxMSAgICBEb3dudG93biBUb3JvbnRvIDEyICAgIERvd250b3duIFRvcm9udG8gMTMgICAgRG93bnRvd24gVG9yb250byAxNCAgICBEb3dudG93biBUb3JvbnRvIDE1ICAgIERvd250b3duIFRvcm9udG8gMTYgICAgRG93bnRvd24gVG9yb250byAxNyAgICBEb3dudG93biBUb3JvbnRvIDE4ICAgIERvd250b3duIFRvcm9udG8gMTkgICAgRG93bnRvd24gVG9yb250byAyMCAgICBEb3dudG93biBUb3JvbnRvIDIxICAgIERvd250b3duIFRvcm9udG8gMjIgICAgIENlbnRyYWwgVG9yb250byAyMyAgICAgQ2VudHJhbCBUb3JvbnRvIDI0ICAgICBDZW50cmFsIFRvcm9udG8gMjUgICAgRG93bnRvd24gVG9yb250byAyNiAgICBEb3dudG93biBUb3JvbnRvIDI3ICAgIERvd250b3duIFRvcm9udG8gMjggICAgRG93bnRvd24gVG9yb250byAyOSAgICBEb3dudG93biBUb3JvbnRvIDMwICAgIERvd250b3duIFRvcm9udG8gMzEgICAgICAgIFdlc3QgVG9yb250byAzMiAgICAgICAgV2VzdCBUb3JvbnRvIDMzICAgICAgICBXZXN0IFRvcm9udG8gMzQgICAgICAgIFdlc3QgVG9yb250byAzNSAgICAgICAgV2VzdCBUb3JvbnRvIDM2ICAgICAgICBXZXN0IFRvcm9udG8gMzcgICAgRG93bnRvd24gVG9yb250byAzOCAgICAgICAgRWFzdCBUb3JvbnRvIE5hbWU6IEJvcm91Z2gsIGR0eXBlOiBvYmplY3QgQ2x1c3RlciAxPC9kaXY+YClbMF07CiAgICAgICAgICAgIHBvcHVwXzBkN2QyMDkzM2I1ZTQ1YzFhNWE0ZDg4MjZkYjE2NTUwLnNldENvbnRlbnQoaHRtbF8yMDQyN2UxODIyOGQ0NjJmYTAzYWQyMGY2NTAyNTM3NSk7CiAgICAgICAgCgogICAgICAgIGNpcmNsZV9tYXJrZXJfNjg3MDJhNDE1OTVkNDgxOTg2MjVkN2JmNjg0YmYyOTUuYmluZFBvcHVwKHBvcHVwXzBkN2QyMDkzM2I1ZTQ1YzFhNWE0ZDg4MjZkYjE2NTUwKQogICAgICAgIDsKCiAgICAgICAgCiAgICAKICAgIAogICAgICAgICAgICB2YXIgY2lyY2xlX21hcmtlcl9mNmRhNzgwMmQ4MzI0YTdiODE0ZGFhYzYxMTAxNTk1MyA9IEwuY2lyY2xlTWFya2VyKAogICAgICAgICAgICAgICAgWzQzLjY2OTAwNTEwMDAwMDAxLCAtNzkuNDQyMjU5M10sCiAgICAgICAgICAgICAgICB7ImJ1YmJsaW5nTW91c2VFdmVudHMiOiB0cnVlLCAiY29sb3IiOiAiI2Q0ZGQ4MCIsICJkYXNoQXJyYXkiOiBudWxsLCAiZGFzaE9mZnNldCI6IG51bGwsICJmaWxsIjogdHJ1ZSwgImZpbGxDb2xvciI6ICIjZDRkZDgwIiwgImZpbGxPcGFjaXR5IjogMC43LCAiZmlsbFJ1bGUiOiAiZXZlbm9kZCIsICJsaW5lQ2FwIjogInJvdW5kIiwgImxpbmVKb2luIjogInJvdW5kIiwgIm9wYWNpdHkiOiAxLjAsICJyYWRpdXMiOiA1LCAic3Ryb2tlIjogdHJ1ZSwgIndlaWdodCI6IDN9CiAgICAgICAgICAgICkuYWRkVG8obWFwX2M0MmQyOGM3ODliOTQ2ODNhYmQ1MzVhMzljNzg3ZjM2KTsKICAgICAgICAKICAgIAogICAgICAgIHZhciBwb3B1cF9lZTRhZTQ0NjU4ZDU0NmYxYTI1ZDc1ZGIwZDdjMzg0YyA9IEwucG9wdXAoeyJtYXhXaWR0aCI6ICIxMDAlIn0pOwoKICAgICAgICAKICAgICAgICAgICAgdmFyIGh0bWxfZTYxZmY5NjQ2MjIxNGQ1N2EyNWRhN2NmMDQ1MDgyMjEgPSAkKGA8ZGl2IGlkPSJodG1sX2U2MWZmOTY0NjIyMTRkNTdhMjVkYTdjZjA0NTA4MjIxIiBzdHlsZT0id2lkdGg6IDEwMC4wJTsgaGVpZ2h0OiAxMDAuMCU7Ij4wICAgICAgICAgRWFzdCBUb3JvbnRvIDEgICAgICAgICBFYXN0IFRvcm9udG8gMiAgICAgICAgIEVhc3QgVG9yb250byAzICAgICAgICAgRWFzdCBUb3JvbnRvIDQgICAgICBDZW50cmFsIFRvcm9udG8gNSAgICAgIENlbnRyYWwgVG9yb250byA2ICAgICAgQ2VudHJhbCBUb3JvbnRvIDcgICAgICBDZW50cmFsIFRvcm9udG8gOCAgICAgIENlbnRyYWwgVG9yb250byA5ICAgICAgQ2VudHJhbCBUb3JvbnRvIDEwICAgIERvd250b3duIFRvcm9udG8gMTEgICAgRG93bnRvd24gVG9yb250byAxMiAgICBEb3dudG93biBUb3JvbnRvIDEzICAgIERvd250b3duIFRvcm9udG8gMTQgICAgRG93bnRvd24gVG9yb250byAxNSAgICBEb3dudG93biBUb3JvbnRvIDE2ICAgIERvd250b3duIFRvcm9udG8gMTcgICAgRG93bnRvd24gVG9yb250byAxOCAgICBEb3dudG93biBUb3JvbnRvIDE5ICAgIERvd250b3duIFRvcm9udG8gMjAgICAgRG93bnRvd24gVG9yb250byAyMSAgICBEb3dudG93biBUb3JvbnRvIDIyICAgICBDZW50cmFsIFRvcm9udG8gMjMgICAgIENlbnRyYWwgVG9yb250byAyNCAgICAgQ2VudHJhbCBUb3JvbnRvIDI1ICAgIERvd250b3duIFRvcm9udG8gMjYgICAgRG93bnRvd24gVG9yb250byAyNyAgICBEb3dudG93biBUb3JvbnRvIDI4ICAgIERvd250b3duIFRvcm9udG8gMjkgICAgRG93bnRvd24gVG9yb250byAzMCAgICBEb3dudG93biBUb3JvbnRvIDMxICAgICAgICBXZXN0IFRvcm9udG8gMzIgICAgICAgIFdlc3QgVG9yb250byAzMyAgICAgICAgV2VzdCBUb3JvbnRvIDM0ICAgICAgICBXZXN0IFRvcm9udG8gMzUgICAgICAgIFdlc3QgVG9yb250byAzNiAgICAgICAgV2VzdCBUb3JvbnRvIDM3ICAgIERvd250b3duIFRvcm9udG8gMzggICAgICAgIEVhc3QgVG9yb250byBOYW1lOiBCb3JvdWdoLCBkdHlwZTogb2JqZWN0IENsdXN0ZXIgMzwvZGl2PmApWzBdOwogICAgICAgICAgICBwb3B1cF9lZTRhZTQ0NjU4ZDU0NmYxYTI1ZDc1ZGIwZDdjMzg0Yy5zZXRDb250ZW50KGh0bWxfZTYxZmY5NjQ2MjIxNGQ1N2EyNWRhN2NmMDQ1MDgyMjEpOwogICAgICAgIAoKICAgICAgICBjaXJjbGVfbWFya2VyX2Y2ZGE3ODAyZDgzMjRhN2I4MTRkYWFjNjExMDE1OTUzLmJpbmRQb3B1cChwb3B1cF9lZTRhZTQ0NjU4ZDU0NmYxYTI1ZDc1ZGIwZDdjMzg0YykKICAgICAgICA7CgogICAgICAgIAogICAgCiAgICAKICAgICAgICAgICAgdmFyIGNpcmNsZV9tYXJrZXJfMmY2MThmZWE1MTE4NGNjYzgyZGYxNjE0YWI3ZGEzZjcgPSBMLmNpcmNsZU1hcmtlcigKICAgICAgICAgICAgICAgIFs0My42NDc5MjY3MDAwMDAwMDYsIC03OS40MTk3NDk3XSwKICAgICAgICAgICAgICAgIHsiYnViYmxpbmdNb3VzZUV2ZW50cyI6IHRydWUsICJjb2xvciI6ICIjZDRkZDgwIiwgImRhc2hBcnJheSI6IG51bGwsICJkYXNoT2Zmc2V0IjogbnVsbCwgImZpbGwiOiB0cnVlLCAiZmlsbENvbG9yIjogIiNkNGRkODAiLCAiZmlsbE9wYWNpdHkiOiAwLjcsICJmaWxsUnVsZSI6ICJldmVub2RkIiwgImxpbmVDYXAiOiAicm91bmQiLCAibGluZUpvaW4iOiAicm91bmQiLCAib3BhY2l0eSI6IDEuMCwgInJhZGl1cyI6IDUsICJzdHJva2UiOiB0cnVlLCAid2VpZ2h0IjogM30KICAgICAgICAgICAgKS5hZGRUbyhtYXBfYzQyZDI4Yzc4OWI5NDY4M2FiZDUzNWEzOWM3ODdmMzYpOwogICAgICAgIAogICAgCiAgICAgICAgdmFyIHBvcHVwX2VlNGFkNzMxMmFiYjRiYTZhNDM5NzZhMTViNTUxZWYwID0gTC5wb3B1cCh7Im1heFdpZHRoIjogIjEwMCUifSk7CgogICAgICAgIAogICAgICAgICAgICB2YXIgaHRtbF80ODQzZWZhYTc4NjM0OTQ1OWE2OGYwYmE5YTA0NWQyNyA9ICQoYDxkaXYgaWQ9Imh0bWxfNDg0M2VmYWE3ODYzNDk0NTlhNjhmMGJhOWEwNDVkMjciIHN0eWxlPSJ3aWR0aDogMTAwLjAlOyBoZWlnaHQ6IDEwMC4wJTsiPjAgICAgICAgICBFYXN0IFRvcm9udG8gMSAgICAgICAgIEVhc3QgVG9yb250byAyICAgICAgICAgRWFzdCBUb3JvbnRvIDMgICAgICAgICBFYXN0IFRvcm9udG8gNCAgICAgIENlbnRyYWwgVG9yb250byA1ICAgICAgQ2VudHJhbCBUb3JvbnRvIDYgICAgICBDZW50cmFsIFRvcm9udG8gNyAgICAgIENlbnRyYWwgVG9yb250byA4ICAgICAgQ2VudHJhbCBUb3JvbnRvIDkgICAgICBDZW50cmFsIFRvcm9udG8gMTAgICAgRG93bnRvd24gVG9yb250byAxMSAgICBEb3dudG93biBUb3JvbnRvIDEyICAgIERvd250b3duIFRvcm9udG8gMTMgICAgRG93bnRvd24gVG9yb250byAxNCAgICBEb3dudG93biBUb3JvbnRvIDE1ICAgIERvd250b3duIFRvcm9udG8gMTYgICAgRG93bnRvd24gVG9yb250byAxNyAgICBEb3dudG93biBUb3JvbnRvIDE4ICAgIERvd250b3duIFRvcm9udG8gMTkgICAgRG93bnRvd24gVG9yb250byAyMCAgICBEb3dudG93biBUb3JvbnRvIDIxICAgIERvd250b3duIFRvcm9udG8gMjIgICAgIENlbnRyYWwgVG9yb250byAyMyAgICAgQ2VudHJhbCBUb3JvbnRvIDI0ICAgICBDZW50cmFsIFRvcm9udG8gMjUgICAgRG93bnRvd24gVG9yb250byAyNiAgICBEb3dudG93biBUb3JvbnRvIDI3ICAgIERvd250b3duIFRvcm9udG8gMjggICAgRG93bnRvd24gVG9yb250byAyOSAgICBEb3dudG93biBUb3JvbnRvIDMwICAgIERvd250b3duIFRvcm9udG8gMzEgICAgICAgIFdlc3QgVG9yb250byAzMiAgICAgICAgV2VzdCBUb3JvbnRvIDMzICAgICAgICBXZXN0IFRvcm9udG8gMzQgICAgICAgIFdlc3QgVG9yb250byAzNSAgICAgICAgV2VzdCBUb3JvbnRvIDM2ICAgICAgICBXZXN0IFRvcm9udG8gMzcgICAgRG93bnRvd24gVG9yb250byAzOCAgICAgICAgRWFzdCBUb3JvbnRvIE5hbWU6IEJvcm91Z2gsIGR0eXBlOiBvYmplY3QgQ2x1c3RlciAzPC9kaXY+YClbMF07CiAgICAgICAgICAgIHBvcHVwX2VlNGFkNzMxMmFiYjRiYTZhNDM5NzZhMTViNTUxZWYwLnNldENvbnRlbnQoaHRtbF80ODQzZWZhYTc4NjM0OTQ1OWE2OGYwYmE5YTA0NWQyNyk7CiAgICAgICAgCgogICAgICAgIGNpcmNsZV9tYXJrZXJfMmY2MThmZWE1MTE4NGNjYzgyZGYxNjE0YWI3ZGEzZjcuYmluZFBvcHVwKHBvcHVwX2VlNGFkNzMxMmFiYjRiYTZhNDM5NzZhMTViNTUxZWYwKQogICAgICAgIDsKCiAgICAgICAgCiAgICAKICAgIAogICAgICAgICAgICB2YXIgY2lyY2xlX21hcmtlcl84NTc2YTU4NWQ1ZjA0NTlhYTVjZDFkYmU5MmI4ZDZjYiA9IEwuY2lyY2xlTWFya2VyKAogICAgICAgICAgICAgICAgWzQzLjYzNjg0NzIsIC03OS40MjgxOTE0MDAwMDAwMl0sCiAgICAgICAgICAgICAgICB7ImJ1YmJsaW5nTW91c2VFdmVudHMiOiB0cnVlLCAiY29sb3IiOiAiI2Q0ZGQ4MCIsICJkYXNoQXJyYXkiOiBudWxsLCAiZGFzaE9mZnNldCI6IG51bGwsICJmaWxsIjogdHJ1ZSwgImZpbGxDb2xvciI6ICIjZDRkZDgwIiwgImZpbGxPcGFjaXR5IjogMC43LCAiZmlsbFJ1bGUiOiAiZXZlbm9kZCIsICJsaW5lQ2FwIjogInJvdW5kIiwgImxpbmVKb2luIjogInJvdW5kIiwgIm9wYWNpdHkiOiAxLjAsICJyYWRpdXMiOiA1LCAic3Ryb2tlIjogdHJ1ZSwgIndlaWdodCI6IDN9CiAgICAgICAgICAgICkuYWRkVG8obWFwX2M0MmQyOGM3ODliOTQ2ODNhYmQ1MzVhMzljNzg3ZjM2KTsKICAgICAgICAKICAgIAogICAgICAgIHZhciBwb3B1cF9kN2I1OTdiYWUzOTY0NTA2OWUzOTEyNjQwNTQxMGJmMCA9IEwucG9wdXAoeyJtYXhXaWR0aCI6ICIxMDAlIn0pOwoKICAgICAgICAKICAgICAgICAgICAgdmFyIGh0bWxfN2Y2YzU0NWM4NDBjNGRlZWE3ODAzZjJkYTFhN2U2MDIgPSAkKGA8ZGl2IGlkPSJodG1sXzdmNmM1NDVjODQwYzRkZWVhNzgwM2YyZGExYTdlNjAyIiBzdHlsZT0id2lkdGg6IDEwMC4wJTsgaGVpZ2h0OiAxMDAuMCU7Ij4wICAgICAgICAgRWFzdCBUb3JvbnRvIDEgICAgICAgICBFYXN0IFRvcm9udG8gMiAgICAgICAgIEVhc3QgVG9yb250byAzICAgICAgICAgRWFzdCBUb3JvbnRvIDQgICAgICBDZW50cmFsIFRvcm9udG8gNSAgICAgIENlbnRyYWwgVG9yb250byA2ICAgICAgQ2VudHJhbCBUb3JvbnRvIDcgICAgICBDZW50cmFsIFRvcm9udG8gOCAgICAgIENlbnRyYWwgVG9yb250byA5ICAgICAgQ2VudHJhbCBUb3JvbnRvIDEwICAgIERvd250b3duIFRvcm9udG8gMTEgICAgRG93bnRvd24gVG9yb250byAxMiAgICBEb3dudG93biBUb3JvbnRvIDEzICAgIERvd250b3duIFRvcm9udG8gMTQgICAgRG93bnRvd24gVG9yb250byAxNSAgICBEb3dudG93biBUb3JvbnRvIDE2ICAgIERvd250b3duIFRvcm9udG8gMTcgICAgRG93bnRvd24gVG9yb250byAxOCAgICBEb3dudG93biBUb3JvbnRvIDE5ICAgIERvd250b3duIFRvcm9udG8gMjAgICAgRG93bnRvd24gVG9yb250byAyMSAgICBEb3dudG93biBUb3JvbnRvIDIyICAgICBDZW50cmFsIFRvcm9udG8gMjMgICAgIENlbnRyYWwgVG9yb250byAyNCAgICAgQ2VudHJhbCBUb3JvbnRvIDI1ICAgIERvd250b3duIFRvcm9udG8gMjYgICAgRG93bnRvd24gVG9yb250byAyNyAgICBEb3dudG93biBUb3JvbnRvIDI4ICAgIERvd250b3duIFRvcm9udG8gMjkgICAgRG93bnRvd24gVG9yb250byAzMCAgICBEb3dudG93biBUb3JvbnRvIDMxICAgICAgICBXZXN0IFRvcm9udG8gMzIgICAgICAgIFdlc3QgVG9yb250byAzMyAgICAgICAgV2VzdCBUb3JvbnRvIDM0ICAgICAgICBXZXN0IFRvcm9udG8gMzUgICAgICAgIFdlc3QgVG9yb250byAzNiAgICAgICAgV2VzdCBUb3JvbnRvIDM3ICAgIERvd250b3duIFRvcm9udG8gMzggICAgICAgIEVhc3QgVG9yb250byBOYW1lOiBCb3JvdWdoLCBkdHlwZTogb2JqZWN0IENsdXN0ZXIgMzwvZGl2PmApWzBdOwogICAgICAgICAgICBwb3B1cF9kN2I1OTdiYWUzOTY0NTA2OWUzOTEyNjQwNTQxMGJmMC5zZXRDb250ZW50KGh0bWxfN2Y2YzU0NWM4NDBjNGRlZWE3ODAzZjJkYTFhN2U2MDIpOwogICAgICAgIAoKICAgICAgICBjaXJjbGVfbWFya2VyXzg1NzZhNTg1ZDVmMDQ1OWFhNWNkMWRiZTkyYjhkNmNiLmJpbmRQb3B1cChwb3B1cF9kN2I1OTdiYWUzOTY0NTA2OWUzOTEyNjQwNTQxMGJmMCkKICAgICAgICA7CgogICAgICAgIAogICAgCiAgICAKICAgICAgICAgICAgdmFyIGNpcmNsZV9tYXJrZXJfNTE2OTNlYTM4YTJmNGJlYThmMzY3OWMxNjUyMDU3ZjQgPSBMLmNpcmNsZU1hcmtlcigKICAgICAgICAgICAgICAgIFs0My42NjE2MDgzLCAtNzkuNDY0NzYzMjk5OTk5OTldLAogICAgICAgICAgICAgICAgeyJidWJibGluZ01vdXNlRXZlbnRzIjogdHJ1ZSwgImNvbG9yIjogIiNkNGRkODAiLCAiZGFzaEFycmF5IjogbnVsbCwgImRhc2hPZmZzZXQiOiBudWxsLCAiZmlsbCI6IHRydWUsICJmaWxsQ29sb3IiOiAiI2Q0ZGQ4MCIsICJmaWxsT3BhY2l0eSI6IDAuNywgImZpbGxSdWxlIjogImV2ZW5vZGQiLCAibGluZUNhcCI6ICJyb3VuZCIsICJsaW5lSm9pbiI6ICJyb3VuZCIsICJvcGFjaXR5IjogMS4wLCAicmFkaXVzIjogNSwgInN0cm9rZSI6IHRydWUsICJ3ZWlnaHQiOiAzfQogICAgICAgICAgICApLmFkZFRvKG1hcF9jNDJkMjhjNzg5Yjk0NjgzYWJkNTM1YTM5Yzc4N2YzNik7CiAgICAgICAgCiAgICAKICAgICAgICB2YXIgcG9wdXBfOGUwMDExZGQ4YTBlNDgzZjgyYTJiYTU0YjljZTMyMmIgPSBMLnBvcHVwKHsibWF4V2lkdGgiOiAiMTAwJSJ9KTsKCiAgICAgICAgCiAgICAgICAgICAgIHZhciBodG1sXzNiZjM4NjFlZGZjNDRhMjRiYzUxZmRkZDI2YmRlMWVmID0gJChgPGRpdiBpZD0iaHRtbF8zYmYzODYxZWRmYzQ0YTI0YmM1MWZkZGQyNmJkZTFlZiIgc3R5bGU9IndpZHRoOiAxMDAuMCU7IGhlaWdodDogMTAwLjAlOyI+MCAgICAgICAgIEVhc3QgVG9yb250byAxICAgICAgICAgRWFzdCBUb3JvbnRvIDIgICAgICAgICBFYXN0IFRvcm9udG8gMyAgICAgICAgIEVhc3QgVG9yb250byA0ICAgICAgQ2VudHJhbCBUb3JvbnRvIDUgICAgICBDZW50cmFsIFRvcm9udG8gNiAgICAgIENlbnRyYWwgVG9yb250byA3ICAgICAgQ2VudHJhbCBUb3JvbnRvIDggICAgICBDZW50cmFsIFRvcm9udG8gOSAgICAgIENlbnRyYWwgVG9yb250byAxMCAgICBEb3dudG93biBUb3JvbnRvIDExICAgIERvd250b3duIFRvcm9udG8gMTIgICAgRG93bnRvd24gVG9yb250byAxMyAgICBEb3dudG93biBUb3JvbnRvIDE0ICAgIERvd250b3duIFRvcm9udG8gMTUgICAgRG93bnRvd24gVG9yb250byAxNiAgICBEb3dudG93biBUb3JvbnRvIDE3ICAgIERvd250b3duIFRvcm9udG8gMTggICAgRG93bnRvd24gVG9yb250byAxOSAgICBEb3dudG93biBUb3JvbnRvIDIwICAgIERvd250b3duIFRvcm9udG8gMjEgICAgRG93bnRvd24gVG9yb250byAyMiAgICAgQ2VudHJhbCBUb3JvbnRvIDIzICAgICBDZW50cmFsIFRvcm9udG8gMjQgICAgIENlbnRyYWwgVG9yb250byAyNSAgICBEb3dudG93biBUb3JvbnRvIDI2ICAgIERvd250b3duIFRvcm9udG8gMjcgICAgRG93bnRvd24gVG9yb250byAyOCAgICBEb3dudG93biBUb3JvbnRvIDI5ICAgIERvd250b3duIFRvcm9udG8gMzAgICAgRG93bnRvd24gVG9yb250byAzMSAgICAgICAgV2VzdCBUb3JvbnRvIDMyICAgICAgICBXZXN0IFRvcm9udG8gMzMgICAgICAgIFdlc3QgVG9yb250byAzNCAgICAgICAgV2VzdCBUb3JvbnRvIDM1ICAgICAgICBXZXN0IFRvcm9udG8gMzYgICAgICAgIFdlc3QgVG9yb250byAzNyAgICBEb3dudG93biBUb3JvbnRvIDM4ICAgICAgICBFYXN0IFRvcm9udG8gTmFtZTogQm9yb3VnaCwgZHR5cGU6IG9iamVjdCBDbHVzdGVyIDM8L2Rpdj5gKVswXTsKICAgICAgICAgICAgcG9wdXBfOGUwMDExZGQ4YTBlNDgzZjgyYTJiYTU0YjljZTMyMmIuc2V0Q29udGVudChodG1sXzNiZjM4NjFlZGZjNDRhMjRiYzUxZmRkZDI2YmRlMWVmKTsKICAgICAgICAKCiAgICAgICAgY2lyY2xlX21hcmtlcl81MTY5M2VhMzhhMmY0YmVhOGYzNjc5YzE2NTIwNTdmNC5iaW5kUG9wdXAocG9wdXBfOGUwMDExZGQ4YTBlNDgzZjgyYTJiYTU0YjljZTMyMmIpCiAgICAgICAgOwoKICAgICAgICAKICAgIAogICAgCiAgICAgICAgICAgIHZhciBjaXJjbGVfbWFya2VyXzI0YzM2MTFjNWU0NzQ3OTg5NDdlMDI3MzllNGYyZTI3ID0gTC5jaXJjbGVNYXJrZXIoCiAgICAgICAgICAgICAgICBbNDMuNjQ4OTU5NywgLTc5LjQ1NjMyNV0sCiAgICAgICAgICAgICAgICB7ImJ1YmJsaW5nTW91c2VFdmVudHMiOiB0cnVlLCAiY29sb3IiOiAiI2Q0ZGQ4MCIsICJkYXNoQXJyYXkiOiBudWxsLCAiZGFzaE9mZnNldCI6IG51bGwsICJmaWxsIjogdHJ1ZSwgImZpbGxDb2xvciI6ICIjZDRkZDgwIiwgImZpbGxPcGFjaXR5IjogMC43LCAiZmlsbFJ1bGUiOiAiZXZlbm9kZCIsICJsaW5lQ2FwIjogInJvdW5kIiwgImxpbmVKb2luIjogInJvdW5kIiwgIm9wYWNpdHkiOiAxLjAsICJyYWRpdXMiOiA1LCAic3Ryb2tlIjogdHJ1ZSwgIndlaWdodCI6IDN9CiAgICAgICAgICAgICkuYWRkVG8obWFwX2M0MmQyOGM3ODliOTQ2ODNhYmQ1MzVhMzljNzg3ZjM2KTsKICAgICAgICAKICAgIAogICAgICAgIHZhciBwb3B1cF82ZTI5ZjE3NWQ3NDM0MzEyOTM3NDk1N2RmZWQ1ZGU2MiA9IEwucG9wdXAoeyJtYXhXaWR0aCI6ICIxMDAlIn0pOwoKICAgICAgICAKICAgICAgICAgICAgdmFyIGh0bWxfY2M3ZGZiZjE4OWQ5NGFmNzg4NjY0MjZhZDgzNGMwNDggPSAkKGA8ZGl2IGlkPSJodG1sX2NjN2RmYmYxODlkOTRhZjc4ODY2NDI2YWQ4MzRjMDQ4IiBzdHlsZT0id2lkdGg6IDEwMC4wJTsgaGVpZ2h0OiAxMDAuMCU7Ij4wICAgICAgICAgRWFzdCBUb3JvbnRvIDEgICAgICAgICBFYXN0IFRvcm9udG8gMiAgICAgICAgIEVhc3QgVG9yb250byAzICAgICAgICAgRWFzdCBUb3JvbnRvIDQgICAgICBDZW50cmFsIFRvcm9udG8gNSAgICAgIENlbnRyYWwgVG9yb250byA2ICAgICAgQ2VudHJhbCBUb3JvbnRvIDcgICAgICBDZW50cmFsIFRvcm9udG8gOCAgICAgIENlbnRyYWwgVG9yb250byA5ICAgICAgQ2VudHJhbCBUb3JvbnRvIDEwICAgIERvd250b3duIFRvcm9udG8gMTEgICAgRG93bnRvd24gVG9yb250byAxMiAgICBEb3dudG93biBUb3JvbnRvIDEzICAgIERvd250b3duIFRvcm9udG8gMTQgICAgRG93bnRvd24gVG9yb250byAxNSAgICBEb3dudG93biBUb3JvbnRvIDE2ICAgIERvd250b3duIFRvcm9udG8gMTcgICAgRG93bnRvd24gVG9yb250byAxOCAgICBEb3dudG93biBUb3JvbnRvIDE5ICAgIERvd250b3duIFRvcm9udG8gMjAgICAgRG93bnRvd24gVG9yb250byAyMSAgICBEb3dudG93biBUb3JvbnRvIDIyICAgICBDZW50cmFsIFRvcm9udG8gMjMgICAgIENlbnRyYWwgVG9yb250byAyNCAgICAgQ2VudHJhbCBUb3JvbnRvIDI1ICAgIERvd250b3duIFRvcm9udG8gMjYgICAgRG93bnRvd24gVG9yb250byAyNyAgICBEb3dudG93biBUb3JvbnRvIDI4ICAgIERvd250b3duIFRvcm9udG8gMjkgICAgRG93bnRvd24gVG9yb250byAzMCAgICBEb3dudG93biBUb3JvbnRvIDMxICAgICAgICBXZXN0IFRvcm9udG8gMzIgICAgICAgIFdlc3QgVG9yb250byAzMyAgICAgICAgV2VzdCBUb3JvbnRvIDM0ICAgICAgICBXZXN0IFRvcm9udG8gMzUgICAgICAgIFdlc3QgVG9yb250byAzNiAgICAgICAgV2VzdCBUb3JvbnRvIDM3ICAgIERvd250b3duIFRvcm9udG8gMzggICAgICAgIEVhc3QgVG9yb250byBOYW1lOiBCb3JvdWdoLCBkdHlwZTogb2JqZWN0IENsdXN0ZXIgMzwvZGl2PmApWzBdOwogICAgICAgICAgICBwb3B1cF82ZTI5ZjE3NWQ3NDM0MzEyOTM3NDk1N2RmZWQ1ZGU2Mi5zZXRDb250ZW50KGh0bWxfY2M3ZGZiZjE4OWQ5NGFmNzg4NjY0MjZhZDgzNGMwNDgpOwogICAgICAgIAoKICAgICAgICBjaXJjbGVfbWFya2VyXzI0YzM2MTFjNWU0NzQ3OTg5NDdlMDI3MzllNGYyZTI3LmJpbmRQb3B1cChwb3B1cF82ZTI5ZjE3NWQ3NDM0MzEyOTM3NDk1N2RmZWQ1ZGU2MikKICAgICAgICA7CgogICAgICAgIAogICAgCiAgICAKICAgICAgICAgICAgdmFyIGNpcmNsZV9tYXJrZXJfNWI5NDU5YjI3NzhiNGFmYzgyNTIwM2NjNTllNGFkN2IgPSBMLmNpcmNsZU1hcmtlcigKICAgICAgICAgICAgICAgIFs0My42NTE1NzA2LCAtNzkuNDg0NDQ5OV0sCiAgICAgICAgICAgICAgICB7ImJ1YmJsaW5nTW91c2VFdmVudHMiOiB0cnVlLCAiY29sb3IiOiAiI2Q0ZGQ4MCIsICJkYXNoQXJyYXkiOiBudWxsLCAiZGFzaE9mZnNldCI6IG51bGwsICJmaWxsIjogdHJ1ZSwgImZpbGxDb2xvciI6ICIjZDRkZDgwIiwgImZpbGxPcGFjaXR5IjogMC43LCAiZmlsbFJ1bGUiOiAiZXZlbm9kZCIsICJsaW5lQ2FwIjogInJvdW5kIiwgImxpbmVKb2luIjogInJvdW5kIiwgIm9wYWNpdHkiOiAxLjAsICJyYWRpdXMiOiA1LCAic3Ryb2tlIjogdHJ1ZSwgIndlaWdodCI6IDN9CiAgICAgICAgICAgICkuYWRkVG8obWFwX2M0MmQyOGM3ODliOTQ2ODNhYmQ1MzVhMzljNzg3ZjM2KTsKICAgICAgICAKICAgIAogICAgICAgIHZhciBwb3B1cF8yODk0NWI1MTFmZTk0NjJmODhjZTU5OTI5NWYyODg0NiA9IEwucG9wdXAoeyJtYXhXaWR0aCI6ICIxMDAlIn0pOwoKICAgICAgICAKICAgICAgICAgICAgdmFyIGh0bWxfMTE3N2FiYjNlZGVlNGUwNmI4NWRkZTI4OTRjMDRlOGMgPSAkKGA8ZGl2IGlkPSJodG1sXzExNzdhYmIzZWRlZTRlMDZiODVkZGUyODk0YzA0ZThjIiBzdHlsZT0id2lkdGg6IDEwMC4wJTsgaGVpZ2h0OiAxMDAuMCU7Ij4wICAgICAgICAgRWFzdCBUb3JvbnRvIDEgICAgICAgICBFYXN0IFRvcm9udG8gMiAgICAgICAgIEVhc3QgVG9yb250byAzICAgICAgICAgRWFzdCBUb3JvbnRvIDQgICAgICBDZW50cmFsIFRvcm9udG8gNSAgICAgIENlbnRyYWwgVG9yb250byA2ICAgICAgQ2VudHJhbCBUb3JvbnRvIDcgICAgICBDZW50cmFsIFRvcm9udG8gOCAgICAgIENlbnRyYWwgVG9yb250byA5ICAgICAgQ2VudHJhbCBUb3JvbnRvIDEwICAgIERvd250b3duIFRvcm9udG8gMTEgICAgRG93bnRvd24gVG9yb250byAxMiAgICBEb3dudG93biBUb3JvbnRvIDEzICAgIERvd250b3duIFRvcm9udG8gMTQgICAgRG93bnRvd24gVG9yb250byAxNSAgICBEb3dudG93biBUb3JvbnRvIDE2ICAgIERvd250b3duIFRvcm9udG8gMTcgICAgRG93bnRvd24gVG9yb250byAxOCAgICBEb3dudG93biBUb3JvbnRvIDE5ICAgIERvd250b3duIFRvcm9udG8gMjAgICAgRG93bnRvd24gVG9yb250byAyMSAgICBEb3dudG93biBUb3JvbnRvIDIyICAgICBDZW50cmFsIFRvcm9udG8gMjMgICAgIENlbnRyYWwgVG9yb250byAyNCAgICAgQ2VudHJhbCBUb3JvbnRvIDI1ICAgIERvd250b3duIFRvcm9udG8gMjYgICAgRG93bnRvd24gVG9yb250byAyNyAgICBEb3dudG93biBUb3JvbnRvIDI4ICAgIERvd250b3duIFRvcm9udG8gMjkgICAgRG93bnRvd24gVG9yb250byAzMCAgICBEb3dudG93biBUb3JvbnRvIDMxICAgICAgICBXZXN0IFRvcm9udG8gMzIgICAgICAgIFdlc3QgVG9yb250byAzMyAgICAgICAgV2VzdCBUb3JvbnRvIDM0ICAgICAgICBXZXN0IFRvcm9udG8gMzUgICAgICAgIFdlc3QgVG9yb250byAzNiAgICAgICAgV2VzdCBUb3JvbnRvIDM3ICAgIERvd250b3duIFRvcm9udG8gMzggICAgICAgIEVhc3QgVG9yb250byBOYW1lOiBCb3JvdWdoLCBkdHlwZTogb2JqZWN0IENsdXN0ZXIgMzwvZGl2PmApWzBdOwogICAgICAgICAgICBwb3B1cF8yODk0NWI1MTFmZTk0NjJmODhjZTU5OTI5NWYyODg0Ni5zZXRDb250ZW50KGh0bWxfMTE3N2FiYjNlZGVlNGUwNmI4NWRkZTI4OTRjMDRlOGMpOwogICAgICAgIAoKICAgICAgICBjaXJjbGVfbWFya2VyXzViOTQ1OWIyNzc4YjRhZmM4MjUyMDNjYzU5ZTRhZDdiLmJpbmRQb3B1cChwb3B1cF8yODk0NWI1MTFmZTk0NjJmODhjZTU5OTI5NWYyODg0NikKICAgICAgICA7CgogICAgICAgIAogICAgCiAgICAKICAgICAgICAgICAgdmFyIGNpcmNsZV9tYXJrZXJfZTM5NDUzODBkNTExNDQ1NTkxMWFkYmE0Yzg3NGVkMDYgPSBMLmNpcmNsZU1hcmtlcigKICAgICAgICAgICAgICAgIFs0My42NjIzMDE1LCAtNzkuMzg5NDkzOF0sCiAgICAgICAgICAgICAgICB7ImJ1YmJsaW5nTW91c2VFdmVudHMiOiB0cnVlLCAiY29sb3IiOiAiIzgwMDBmZiIsICJkYXNoQXJyYXkiOiBudWxsLCAiZGFzaE9mZnNldCI6IG51bGwsICJmaWxsIjogdHJ1ZSwgImZpbGxDb2xvciI6ICIjODAwMGZmIiwgImZpbGxPcGFjaXR5IjogMC43LCAiZmlsbFJ1bGUiOiAiZXZlbm9kZCIsICJsaW5lQ2FwIjogInJvdW5kIiwgImxpbmVKb2luIjogInJvdW5kIiwgIm9wYWNpdHkiOiAxLjAsICJyYWRpdXMiOiA1LCAic3Ryb2tlIjogdHJ1ZSwgIndlaWdodCI6IDN9CiAgICAgICAgICAgICkuYWRkVG8obWFwX2M0MmQyOGM3ODliOTQ2ODNhYmQ1MzVhMzljNzg3ZjM2KTsKICAgICAgICAKICAgIAogICAgICAgIHZhciBwb3B1cF8zZGNjMmVkYjVlOGQ0YTUwYTFlMzgyZTFjNzZjNDUwMyA9IEwucG9wdXAoeyJtYXhXaWR0aCI6ICIxMDAlIn0pOwoKICAgICAgICAKICAgICAgICAgICAgdmFyIGh0bWxfNzRiMzE3NzMzNzdhNDExOWJlZjNmMzIyMDEyNjIxNDYgPSAkKGA8ZGl2IGlkPSJodG1sXzc0YjMxNzczMzc3YTQxMTliZWYzZjMyMjAxMjYyMTQ2IiBzdHlsZT0id2lkdGg6IDEwMC4wJTsgaGVpZ2h0OiAxMDAuMCU7Ij4wICAgICAgICAgRWFzdCBUb3JvbnRvIDEgICAgICAgICBFYXN0IFRvcm9udG8gMiAgICAgICAgIEVhc3QgVG9yb250byAzICAgICAgICAgRWFzdCBUb3JvbnRvIDQgICAgICBDZW50cmFsIFRvcm9udG8gNSAgICAgIENlbnRyYWwgVG9yb250byA2ICAgICAgQ2VudHJhbCBUb3JvbnRvIDcgICAgICBDZW50cmFsIFRvcm9udG8gOCAgICAgIENlbnRyYWwgVG9yb250byA5ICAgICAgQ2VudHJhbCBUb3JvbnRvIDEwICAgIERvd250b3duIFRvcm9udG8gMTEgICAgRG93bnRvd24gVG9yb250byAxMiAgICBEb3dudG93biBUb3JvbnRvIDEzICAgIERvd250b3duIFRvcm9udG8gMTQgICAgRG93bnRvd24gVG9yb250byAxNSAgICBEb3dudG93biBUb3JvbnRvIDE2ICAgIERvd250b3duIFRvcm9udG8gMTcgICAgRG93bnRvd24gVG9yb250byAxOCAgICBEb3dudG93biBUb3JvbnRvIDE5ICAgIERvd250b3duIFRvcm9udG8gMjAgICAgRG93bnRvd24gVG9yb250byAyMSAgICBEb3dudG93biBUb3JvbnRvIDIyICAgICBDZW50cmFsIFRvcm9udG8gMjMgICAgIENlbnRyYWwgVG9yb250byAyNCAgICAgQ2VudHJhbCBUb3JvbnRvIDI1ICAgIERvd250b3duIFRvcm9udG8gMjYgICAgRG93bnRvd24gVG9yb250byAyNyAgICBEb3dudG93biBUb3JvbnRvIDI4ICAgIERvd250b3duIFRvcm9udG8gMjkgICAgRG93bnRvd24gVG9yb250byAzMCAgICBEb3dudG93biBUb3JvbnRvIDMxICAgICAgICBXZXN0IFRvcm9udG8gMzIgICAgICAgIFdlc3QgVG9yb250byAzMyAgICAgICAgV2VzdCBUb3JvbnRvIDM0ICAgICAgICBXZXN0IFRvcm9udG8gMzUgICAgICAgIFdlc3QgVG9yb250byAzNiAgICAgICAgV2VzdCBUb3JvbnRvIDM3ICAgIERvd250b3duIFRvcm9udG8gMzggICAgICAgIEVhc3QgVG9yb250byBOYW1lOiBCb3JvdWdoLCBkdHlwZTogb2JqZWN0IENsdXN0ZXIgMTwvZGl2PmApWzBdOwogICAgICAgICAgICBwb3B1cF8zZGNjMmVkYjVlOGQ0YTUwYTFlMzgyZTFjNzZjNDUwMy5zZXRDb250ZW50KGh0bWxfNzRiMzE3NzMzNzdhNDExOWJlZjNmMzIyMDEyNjIxNDYpOwogICAgICAgIAoKICAgICAgICBjaXJjbGVfbWFya2VyX2UzOTQ1MzgwZDUxMTQ0NTU5MTFhZGJhNGM4NzRlZDA2LmJpbmRQb3B1cChwb3B1cF8zZGNjMmVkYjVlOGQ0YTUwYTFlMzgyZTFjNzZjNDUwMykKICAgICAgICA7CgogICAgICAgIAogICAgCiAgICAKICAgICAgICAgICAgdmFyIGNpcmNsZV9tYXJrZXJfNTcwYTgyODg2NjRlNGRmNTllNDZkOTMyYzE4NzE0YzQgPSBMLmNpcmNsZU1hcmtlcigKICAgICAgICAgICAgICAgIFs0My42NjI3NDM5LCAtNzkuMzIxNTU4XSwKICAgICAgICAgICAgICAgIHsiYnViYmxpbmdNb3VzZUV2ZW50cyI6IHRydWUsICJjb2xvciI6ICIjZmYwMDAwIiwgImRhc2hBcnJheSI6IG51bGwsICJkYXNoT2Zmc2V0IjogbnVsbCwgImZpbGwiOiB0cnVlLCAiZmlsbENvbG9yIjogIiNmZjAwMDAiLCAiZmlsbE9wYWNpdHkiOiAwLjcsICJmaWxsUnVsZSI6ICJldmVub2RkIiwgImxpbmVDYXAiOiAicm91bmQiLCAibGluZUpvaW4iOiAicm91bmQiLCAib3BhY2l0eSI6IDEuMCwgInJhZGl1cyI6IDUsICJzdHJva2UiOiB0cnVlLCAid2VpZ2h0IjogM30KICAgICAgICAgICAgKS5hZGRUbyhtYXBfYzQyZDI4Yzc4OWI5NDY4M2FiZDUzNWEzOWM3ODdmMzYpOwogICAgICAgIAogICAgCiAgICAgICAgdmFyIHBvcHVwXzNjMDBkZWFjYmQ4YzQwMDk5MjU2NDE5NmI1NDRjZjM0ID0gTC5wb3B1cCh7Im1heFdpZHRoIjogIjEwMCUifSk7CgogICAgICAgIAogICAgICAgICAgICB2YXIgaHRtbF83MGZjYjUwMjMyODk0MTEyOGQ3MmZmOWNlMjQyODcyZCA9ICQoYDxkaXYgaWQ9Imh0bWxfNzBmY2I1MDIzMjg5NDExMjhkNzJmZjljZTI0Mjg3MmQiIHN0eWxlPSJ3aWR0aDogMTAwLjAlOyBoZWlnaHQ6IDEwMC4wJTsiPjAgICAgICAgICBFYXN0IFRvcm9udG8gMSAgICAgICAgIEVhc3QgVG9yb250byAyICAgICAgICAgRWFzdCBUb3JvbnRvIDMgICAgICAgICBFYXN0IFRvcm9udG8gNCAgICAgIENlbnRyYWwgVG9yb250byA1ICAgICAgQ2VudHJhbCBUb3JvbnRvIDYgICAgICBDZW50cmFsIFRvcm9udG8gNyAgICAgIENlbnRyYWwgVG9yb250byA4ICAgICAgQ2VudHJhbCBUb3JvbnRvIDkgICAgICBDZW50cmFsIFRvcm9udG8gMTAgICAgRG93bnRvd24gVG9yb250byAxMSAgICBEb3dudG93biBUb3JvbnRvIDEyICAgIERvd250b3duIFRvcm9udG8gMTMgICAgRG93bnRvd24gVG9yb250byAxNCAgICBEb3dudG93biBUb3JvbnRvIDE1ICAgIERvd250b3duIFRvcm9udG8gMTYgICAgRG93bnRvd24gVG9yb250byAxNyAgICBEb3dudG93biBUb3JvbnRvIDE4ICAgIERvd250b3duIFRvcm9udG8gMTkgICAgRG93bnRvd24gVG9yb250byAyMCAgICBEb3dudG93biBUb3JvbnRvIDIxICAgIERvd250b3duIFRvcm9udG8gMjIgICAgIENlbnRyYWwgVG9yb250byAyMyAgICAgQ2VudHJhbCBUb3JvbnRvIDI0ICAgICBDZW50cmFsIFRvcm9udG8gMjUgICAgRG93bnRvd24gVG9yb250byAyNiAgICBEb3dudG93biBUb3JvbnRvIDI3ICAgIERvd250b3duIFRvcm9udG8gMjggICAgRG93bnRvd24gVG9yb250byAyOSAgICBEb3dudG93biBUb3JvbnRvIDMwICAgIERvd250b3duIFRvcm9udG8gMzEgICAgICAgIFdlc3QgVG9yb250byAzMiAgICAgICAgV2VzdCBUb3JvbnRvIDMzICAgICAgICBXZXN0IFRvcm9udG8gMzQgICAgICAgIFdlc3QgVG9yb250byAzNSAgICAgICAgV2VzdCBUb3JvbnRvIDM2ICAgICAgICBXZXN0IFRvcm9udG8gMzcgICAgRG93bnRvd24gVG9yb250byAzOCAgICAgICAgRWFzdCBUb3JvbnRvIE5hbWU6IEJvcm91Z2gsIGR0eXBlOiBvYmplY3QgQ2x1c3RlciA0PC9kaXY+YClbMF07CiAgICAgICAgICAgIHBvcHVwXzNjMDBkZWFjYmQ4YzQwMDk5MjU2NDE5NmI1NDRjZjM0LnNldENvbnRlbnQoaHRtbF83MGZjYjUwMjMyODk0MTEyOGQ3MmZmOWNlMjQyODcyZCk7CiAgICAgICAgCgogICAgICAgIGNpcmNsZV9tYXJrZXJfNTcwYTgyODg2NjRlNGRmNTllNDZkOTMyYzE4NzE0YzQuYmluZFBvcHVwKHBvcHVwXzNjMDBkZWFjYmQ4YzQwMDk5MjU2NDE5NmI1NDRjZjM0KQogICAgICAgIDsKCiAgICAgICAgCiAgICAKPC9zY3JpcHQ+ onload=\"this.contentDocument.open();this.contentDocument.write(atob(this.getAttribute('data-html')));this.contentDocument.close();\" allowfullscreen webkitallowfullscreen mozallowfullscreen></iframe></div></div>"
      ],
      "text/plain": [
       "<folium.folium.Map at 0x7fa770a46c50>"
      ]
     },
     "execution_count": 28,
     "metadata": {},
     "output_type": "execute_result"
    }
   ],
   "source": [
    "map_toronto"
   ]
  },
  {
   "cell_type": "code",
   "execution_count": null,
   "metadata": {},
   "outputs": [],
   "source": []
  }
 ],
 "metadata": {
  "kernelspec": {
   "display_name": "Python 3",
   "language": "python",
   "name": "python3"
  },
  "language_info": {
   "codemirror_mode": {
    "name": "ipython",
    "version": 3
   },
   "file_extension": ".py",
   "mimetype": "text/x-python",
   "name": "python",
   "nbconvert_exporter": "python",
   "pygments_lexer": "ipython3",
   "version": "3.7.3"
  }
 },
 "nbformat": 4,
 "nbformat_minor": 2
}
